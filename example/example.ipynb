{
 "cells": [
  {
   "cell_type": "markdown",
   "id": "4d530e2b-8524-48b2-8259-38c8ce984a5b",
   "metadata": {},
   "source": [
    "# Example\n",
    "Author: [Romain Sacchi](romain.sacchi@psi.ch), [Alvaro Hahn](alvaro.hahn-menacho@psi.ch)\n",
    "\n",
    "``pathways``allows calculating LCA impacts of a product or system along a time axis, combining time series of demand with scenario-based LCA databases.\n"
   ]
  },
  {
   "cell_type": "markdown",
   "id": "f86c7c83-b59e-4043-b0f5-01463a1b75ca",
   "metadata": {},
   "source": [
    "## Introduction"
   ]
  },
  {
   "cell_type": "markdown",
   "id": "3589debc-dfa2-48f7-96ef-4b8ab1724f92",
   "metadata": {},
   "source": [
    "This notebook presents a mock case to illustrate the use of `pathways`. The diagram below introduces the proposed production system.\n",
    "\n",
    "The goal of this exercise is to calculate the environmental impact (both direct and indirect) associated with meeting the demand over time (2020-2050) for **product A** under two different future scenarios.\n",
    "\n",
    "We present the technosphere and biosphere matrices at each timestep. According to LCA conventions, the technosphere matrix lists the different activities in columns, and the different products in rows. Positive values indicate outputs from an activity, while negative values indicate inputs. For example, in 2020: *activity A*, to produce 1 unit of *product A*, demands 0.8 units of *product B* and directly emits 1.5 units of CO2. Concurrently, *activity B* consumes 0.2 units of *product E* and emits 0.2 units of CO2 to produce 1 unit of *product B*. [...]\n",
    "\n",
    "For each timestep, we can identify different changes in the technosphere exchanges and emissions intensities caused by changes in the system."
   ]
  },
  {
   "cell_type": "markdown",
   "id": "c32238d6-56c7-403e-adcc-51cd8b07a2ca",
   "metadata": {},
   "source": [
    "-------------------"
   ]
  },
  {
   "attachments": {},
   "cell_type": "markdown",
   "id": "663fb68b-d328-48bc-985a-391ee82cb964",
   "metadata": {},
   "source": [
    "![LCA_system_diagram](figures/example_illustration.png)"
   ]
  },
  {
   "cell_type": "markdown",
   "id": "0b225594-e91f-44f4-9bfa-db02b893636a",
   "metadata": {},
   "source": [
    "-------------------"
   ]
  },
  {
   "cell_type": "markdown",
   "id": "d2d439e4-254e-4d84-aa56-dccfb2de3f2f",
   "metadata": {},
   "source": [
    "## Application\n",
    "\n",
    "We start by instantiating the `Pathways` class, and give it a file path pointing to a datapackage.json of a datapackage or directly the datapackage itself (.zip file)."
   ]
  },
  {
   "cell_type": "code",
   "execution_count": 1,
   "id": "0e5ee46f-ed22-4e11-8228-fbea7d8703b2",
   "metadata": {},
   "outputs": [
    {
     "name": "stdout",
     "output_type": "stream",
     "text": [
      "Invalid datapackage: Descriptor validation error: {'path': 'mapping/mapping.yaml', 'profile': 'data-resource', 'name': 'mapping', 'format': 'yaml', 'mediatype': 'text/yaml', 'encoding': 'utf-8'} is not valid under any of the given schemas at \"resources/33\" in descriptor and at \"properties/resources/items/oneOf\" in profile\n",
      "Invalid datapackage: Descriptor validation error: 'data-resource' is not one of ['tabular-data-resource'] at \"resources/33/profile\" in descriptor and at \"properties/resources/items/properties/profile/enum\" in profile\n",
      "Invalid datapackage: Descriptor validation error: {'path': 'classifications/classifications.yaml', 'profile': 'data-resource', 'name': 'classifications', 'format': 'yaml', 'mediatype': 'text/yaml', 'encoding': 'utf-8'} is not valid under any of the given schemas at \"resources/34\" in descriptor and at \"properties/resources/items/oneOf\" in profile\n",
      "Invalid datapackage: Descriptor validation error: 'data-resource' is not one of ['tabular-data-resource'] at \"resources/34/profile\" in descriptor and at \"properties/resources/items/properties/profile/enum\" in profile\n",
      "Log file: /Users/romain/Library/Logs/pathways/pathways.log\n"
     ]
    }
   ],
   "source": [
    "from pathways import Pathways\n",
    "import numpy as np\n",
    "p = Pathways(\n",
    "    datapackage=\"datapackage_sample/datapackage.json\",\n",
    "    debug=True # when `debug` is True, a local pathways.log file is created and allows tracking the workflow\n",
    ")"
   ]
  },
  {
   "cell_type": "markdown",
   "id": "6628f5ae-0faa-4f2f-b670-b65d0436ad5a",
   "metadata": {},
   "source": [
    "At this point, you can access all the resources of the `datapackage.Package`, such as the scenario data, for example.\n",
    "We see that the demand for `technology A`, represented by `product A` (see `.mapping`), is 1'000 kilograms (see `.scenarios.attrs`) each year."
   ]
  },
  {
   "cell_type": "code",
   "execution_count": 2,
   "id": "c59ebddb-561f-4b70-8b82-7c1d867bbe0b",
   "metadata": {},
   "outputs": [
    {
     "data": {
      "text/html": [
       "<div>\n",
       "<style scoped>\n",
       "    .dataframe tbody tr th:only-of-type {\n",
       "        vertical-align: middle;\n",
       "    }\n",
       "\n",
       "    .dataframe tbody tr th {\n",
       "        vertical-align: top;\n",
       "    }\n",
       "\n",
       "    .dataframe thead th {\n",
       "        text-align: right;\n",
       "    }\n",
       "</style>\n",
       "<table border=\"1\" class=\"dataframe\">\n",
       "  <thead>\n",
       "    <tr style=\"text-align: right;\">\n",
       "      <th></th>\n",
       "      <th></th>\n",
       "      <th></th>\n",
       "      <th></th>\n",
       "      <th></th>\n",
       "      <th></th>\n",
       "    </tr>\n",
       "    <tr>\n",
       "      <th>model</th>\n",
       "      <th>pathway</th>\n",
       "      <th>variables</th>\n",
       "      <th>region</th>\n",
       "      <th>year</th>\n",
       "      <th></th>\n",
       "    </tr>\n",
       "  </thead>\n",
       "  <tbody>\n",
       "    <tr>\n",
       "      <th rowspan=\"8\" valign=\"top\">some model</th>\n",
       "      <th rowspan=\"4\" valign=\"top\">Scenario A</th>\n",
       "      <th rowspan=\"4\" valign=\"top\">technology A</th>\n",
       "      <th rowspan=\"4\" valign=\"top\">EU</th>\n",
       "      <th>2020</th>\n",
       "      <td>1000.0</td>\n",
       "    </tr>\n",
       "    <tr>\n",
       "      <th>2030</th>\n",
       "      <td>1000.0</td>\n",
       "    </tr>\n",
       "    <tr>\n",
       "      <th>2040</th>\n",
       "      <td>1000.0</td>\n",
       "    </tr>\n",
       "    <tr>\n",
       "      <th>2050</th>\n",
       "      <td>1000.0</td>\n",
       "    </tr>\n",
       "    <tr>\n",
       "      <th rowspan=\"4\" valign=\"top\">Scenario B</th>\n",
       "      <th rowspan=\"4\" valign=\"top\">technology A</th>\n",
       "      <th rowspan=\"4\" valign=\"top\">EU</th>\n",
       "      <th>2020</th>\n",
       "      <td>1000.0</td>\n",
       "    </tr>\n",
       "    <tr>\n",
       "      <th>2030</th>\n",
       "      <td>1000.0</td>\n",
       "    </tr>\n",
       "    <tr>\n",
       "      <th>2040</th>\n",
       "      <td>1000.0</td>\n",
       "    </tr>\n",
       "    <tr>\n",
       "      <th>2050</th>\n",
       "      <td>1000.0</td>\n",
       "    </tr>\n",
       "  </tbody>\n",
       "</table>\n",
       "</div>"
      ],
      "text/plain": [
       "                                                      \n",
       "model      pathway    variables    region year        \n",
       "some model Scenario A technology A EU     2020  1000.0\n",
       "                                          2030  1000.0\n",
       "                                          2040  1000.0\n",
       "                                          2050  1000.0\n",
       "           Scenario B technology A EU     2020  1000.0\n",
       "                                          2030  1000.0\n",
       "                                          2040  1000.0\n",
       "                                          2050  1000.0"
      ]
     },
     "execution_count": 2,
     "metadata": {},
     "output_type": "execute_result"
    }
   ],
   "source": [
    "p.scenarios.to_dataframe(\"\")"
   ]
  },
  {
   "cell_type": "code",
   "execution_count": 3,
   "id": "e5260d0b-8042-44d3-be14-e78aa4a767b7",
   "metadata": {},
   "outputs": [
    {
     "data": {
      "text/plain": [
       "{'units': {'technology A': 'kilogram'}}"
      ]
     },
     "execution_count": 3,
     "metadata": {},
     "output_type": "execute_result"
    }
   ],
   "source": [
    "p.scenarios.attrs"
   ]
  },
  {
   "cell_type": "markdown",
   "id": "49a3eba4-ccce-46ce-ace6-119a5fd11a1c",
   "metadata": {},
   "source": [
    "We can also see the mapping used to map the scenario variables to the LCA datasets:"
   ]
  },
  {
   "cell_type": "code",
   "execution_count": 4,
   "id": "adfb8a71-efc0-4f32-8e91-6c6495b03699",
   "metadata": {},
   "outputs": [
    {
     "data": {
      "text/plain": [
       "{'technology A': {'dataset': [{'name': 'activity A',\n",
       "    'reference product': 'product A',\n",
       "    'unit': 'kilogram'}],\n",
       "  'scenario variable': 'technology A'}}"
      ]
     },
     "execution_count": 4,
     "metadata": {},
     "output_type": "execute_result"
    }
   ],
   "source": [
    "p.mapping"
   ]
  },
  {
   "cell_type": "markdown",
   "id": "e03f9770-a644-4dcf-9f41-5eda5d6c28b3",
   "metadata": {},
   "source": [
    "We can also list the LCIA methods available."
   ]
  },
  {
   "cell_type": "code",
   "execution_count": 5,
   "id": "b13df1c4-9e99-4f6d-a02a-5c908db8bfbe",
   "metadata": {},
   "outputs": [
    {
     "data": {
      "text/plain": [
       "['CML v4.8 2016 no LT - acidification no LT - acidification (incl. fate, average Europe total, A&B) no LT',\n",
       " 'CML v4.8 2016 no LT - climate change no LT - global warming potential [GWP100) no LT',\n",
       " 'CML v4.8 2016 no LT - ecotoxicity: freshwater no LT - freshwater aquatic ecotoxicity [FAETP inf) no LT',\n",
       " 'CML v4.8 2016 no LT - ecotoxicity: marine no LT - marine aquatic ecotoxicity (MAETP inf) no LT',\n",
       " 'CML v4.8 2016 no LT - ecotoxicity: terrestrial no LT - terrestrial ecotoxicity (TETP inf) no LT']"
      ]
     },
     "execution_count": 5,
     "metadata": {},
     "output_type": "execute_result"
    }
   ],
   "source": [
    "p.lcia_methods[:5]"
   ]
  },
  {
   "cell_type": "markdown",
   "id": "6a29f446-72f4-460f-9f23-1879d4057936",
   "metadata": {},
   "source": [
    "And most importantly, once the `datapackage.Package` is loaded, we can use the method `Pathways.calculate()` to calculate the LCA impacts.\n",
    "\n",
    "Arguments:\n",
    "\n",
    "* `methods`: list[str]. LCIA methods to use. To get a complete list of available LCIA methods, call `.lcia_methods`\n",
    "* `scenarios`: list[str]. List of scenarios you want to calculate the impacts for.\n",
    "* `variables`: list[str]. List of variables you want to calculate the impacts for (if the demand for them is non-null)\n",
    "* `regions`: list[str]. Regions for which you want to calculate the impacts, provided the specified variables have a non-null demand in these regions.\n",
    "* `years`: list[int]. Years for which you want to calculate the impacts.\n",
    "* `multiprocessing`: bool. Multiprocessing may accelerate the process, as it processes each year in parallel.\n",
    "* `demand_cutoff`: float. Between 0 and 1. Defines a ratio below which demand values are ignored. The default is 0.001.\n",
    "* `double_accounting`:list[list[str]]. List of predefined category paths to be adjusted to prevent double counting of activities. Each path indicates the hierarchical categories involved.\n",
    "* `use_distributions`: bool. Number of iterations to use for Monte Carlo analyses. The default is 0 (i.e., regular analysis)."
   ]
  },
  {
   "cell_type": "markdown",
   "id": "9703ede6-2a13-41f3-95a0-8d823ca3ac91",
   "metadata": {},
   "source": [
    "In the example below, we do so using a stochastic approach (i.e., `use_distributions=500`), leveraging on the uncertainty distributions we defined for each exchange in the datapackage. `bw2calc` and the underlying library `stats_array` generates 500 pseudo-random exchange values and update the technosphere and biosphere matrices between each iteration."
   ]
  },
  {
   "cell_type": "code",
   "execution_count": 6,
   "id": "87aa6b87-b677-4acb-ad03-226591c4d7b0",
   "metadata": {},
   "outputs": [
    {
     "name": "stdout",
     "output_type": "stream",
     "text": [
      "Calculating LCA results for some model...\n",
      "--- Calculating LCA results for Scenario A...\n",
      "------ Calculating LCA results for 2050...\n",
      "Warning: No valid output stream.\n",
      "------ Calculating LCA results for 2020...\n",
      "Warning: No valid output stream.\n",
      "------ Calculating LCA results for 2040...\n",
      "Warning: No valid output stream.\n",
      "------ Calculating LCA results for 2030...\n",
      "Warning: No valid output stream.\n",
      "--- Calculating LCA results for Scenario B...\n",
      "------ Calculating LCA results for 2050...\n",
      "Warning: No valid output stream.\n",
      "------ Calculating LCA results for 2040...\n",
      "Warning: No valid output stream.\n",
      "------ Calculating LCA results for 2030...\n",
      "Warning: No valid output stream.\n",
      "------ Calculating LCA results for 2020...\n",
      "Warning: No valid output stream.\n"
     ]
    },
    {
     "name": "stderr",
     "output_type": "stream",
     "text": [
      "0% [########] 100% | ETA: 00:00:00"
     ]
    },
    {
     "name": "stdout",
     "output_type": "stream",
     "text": [
      "Statistical analysis files: /Users/romain/Library/Application Support/pathways/stats\n"
     ]
    },
    {
     "name": "stderr",
     "output_type": "stream",
     "text": [
      "\n",
      "Total time elapsed: 00:00:00\n"
     ]
    }
   ],
   "source": [
    "p.calculate(\n",
    "    methods=['EF v3.1 EN15804 - climate change - global warming potential (GWP100)',],\n",
    "    regions=[\"EU\",],\n",
    "    scenarios=[\n",
    "        \"Scenario A\",\n",
    "        \"Scenario B\",\n",
    "    ],\n",
    "    variables=[\n",
    "        \"technology A\",\n",
    "    ],\n",
    "    years=[\n",
    "        2020,\n",
    "        2030,\n",
    "        2040,\n",
    "        2050\n",
    "    ],\n",
    "    use_distributions=500,\n",
    "    multiprocessing=True\n",
    ")"
   ]
  },
  {
   "cell_type": "markdown",
   "id": "a5812056-53a0-4314-a45c-84c544c7ee46",
   "metadata": {},
   "source": [
    "We can now access the attribute `.lca_results`, which is an `xarray.DataArray` where the results are stored. We can format it a little to present it in an `pandas.DataFrame`, for example."
   ]
  },
  {
   "cell_type": "code",
   "execution_count": 7,
   "id": "ca80ad98-860e-4645-a533-8c1e7eba477c",
   "metadata": {},
   "outputs": [],
   "source": [
    "# interpolate in-between years\n",
    "arr = p.lca_results.interp(\n",
    "    year=range(\n",
    "        p.lca_results.coords[\"year\"].values.min(),\n",
    "        p.lca_results.coords[\"year\"].values.max() + 1\n",
    "    )\n",
    ")"
   ]
  },
  {
   "cell_type": "code",
   "execution_count": 8,
   "id": "268f8502-e499-4ab5-8fe7-4882c7a181f3",
   "metadata": {},
   "outputs": [],
   "source": [
    "df = arr.to_dataframe(\"value\")"
   ]
  },
  {
   "cell_type": "code",
   "execution_count": 9,
   "id": "94ed4c32-bed3-46bf-84eb-580b4f336dcd",
   "metadata": {},
   "outputs": [
    {
     "name": "stdout",
     "output_type": "stream",
     "text": [
      "930\n"
     ]
    }
   ],
   "source": [
    "df = df[df[\"value\"]!=0.0]\n",
    "df = df[~df[\"value\"].isnull()]\n",
    "print(len(df))\n",
    "df=df.reset_index()"
   ]
  },
  {
   "cell_type": "code",
   "execution_count": 10,
   "id": "00e0a5b9-1285-4272-898b-5c72df1b44cb",
   "metadata": {},
   "outputs": [
    {
     "data": {
      "text/html": [
       "\n",
       "        <iframe\n",
       "            width=\"100%\"\n",
       "            height=\"500\"\n",
       "            src=\"example.html\"\n",
       "            frameborder=\"0\"\n",
       "            allowfullscreen\n",
       "            \n",
       "        ></iframe>\n",
       "        "
      ],
      "text/plain": [
       "<IPython.lib.display.IFrame at 0x10a457a50>"
      ]
     },
     "execution_count": 10,
     "metadata": {},
     "output_type": "execute_result"
    }
   ],
   "source": [
    "# pivottablejs is very convenient way to visualize pivot tables\n",
    "from pivottablejs import pivot_ui\n",
    "from IPython.display import HTML\n",
    "pivot_ui(df, outfile_path='example.html')"
   ]
  },
  {
   "cell_type": "markdown",
   "id": "fa8931f2-f020-4ff6-89f9-6e9172bf00ea",
   "metadata": {},
   "source": [
    "Impacts with process contributions\n",
    "\n",
    "![impacts with process contribution](figures/fig2.png)"
   ]
  },
  {
   "cell_type": "markdown",
   "id": "84941789-7247-48b1-abc1-92aa65aab730",
   "metadata": {},
   "source": [
    "Impacts with breakdown by geographical location of impacts\n",
    "\n",
    "![impacts with impacts origins](figures/fig3.png)"
   ]
  },
  {
   "cell_type": "markdown",
   "id": "ba25fc8a-871c-4c3c-91af-e067c7ba628b",
   "metadata": {},
   "source": [
    "Sum of impacts for the 5th, 50th and 95th quantiles\n",
    "\n",
    "![impacts with uncertainty](figures/fig1.png)"
   ]
  },
  {
   "cell_type": "markdown",
   "id": "643665bb-065d-4c6b-a3cf-bca3e791769e",
   "metadata": {},
   "source": [
    "Comparison between two scenarios\n",
    "\n",
    "![scenarios comparison](figures/fig4.png)"
   ]
  },
  {
   "cell_type": "markdown",
   "id": "b5c8c7e6-097f-49ba-9c9a-ec7a4d0acd21",
   "metadata": {},
   "source": [
    "### Providing actual datapackages\n",
    "While it is possible to manually build data packages such as the one used in this example, it is not very convenient when dealing with real LCA databases, which have more than half a million exchanges.\n",
    "`premise` can output such datapackage as a zip file that can be directly given to `pathways.Pathways`.\n",
    "\n",
    "The following will produce a datapackage for all years contained in the IMAGE SSP2-RCP19 scenario."
   ]
  },
  {
   "cell_type": "code",
   "execution_count": null,
   "id": "681f5561-0828-468f-a74d-3057c9f6eb97",
   "metadata": {},
   "outputs": [],
   "source": [
    "from premise import *\n",
    "import bw2data\n",
    "from datapackage import Package\n",
    "bw2data.projects.set_current(\"ei39\")\n",
    "ndb = PathwaysDataPackage(\n",
    "    scenarios=[\n",
    "        {\"model\": \"image\", \"pathway\": \"SSP2-RCP19\"},\n",
    "    ],\n",
    "    source_db=\"ecoinvent 3.9.1 cutoff\", # <-- name of the database in the BW2 project. Must be a string.\n",
    "    source_version=\"3.9\", # <-- version of ecoinvent. Can be \"3.5\", \"3.6\", \"3.7\" or \"3.8\". Must be a string.\n",
    "    key=\"tUePmX_S5B8ieZkkM7WUU2CnO8SmShwmAeWK9x2rTFo=\",\n",
    ")\n",
    "\n",
    "ndb.create_datapackage(\n",
    "    name=\"image-SSP2\",\n",
    "    contributors=[\n",
    "        {\"name\": \"Romain\",\n",
    "        \"email\": \"r_s at me.com\",}\n",
    "    ]\n",
    ")"
   ]
  },
  {
   "cell_type": "markdown",
   "id": "252f1d91-9a50-4baa-b98c-aa6b6558c707",
   "metadata": {},
   "source": [
    "This allows for more complex analyses, such as, for example, the projected demand in cobalt for the global electricity system as projected in that same IMAGE scenario:"
   ]
  },
  {
   "cell_type": "markdown",
   "id": "cf142507-8453-4a77-855d-11266de5a9e3",
   "metadata": {},
   "source": [
    "Life cycle-based annual demand for cobalt, global electricity supply\n",
    "\n",
    "![cobalt projection](figures/fig5.png)"
   ]
  },
  {
   "cell_type": "markdown",
   "id": "a2f864f8-c9ef-492b-a8cb-23064abec5b0",
   "metadata": {},
   "source": [
    "### Avoiding double counting"
   ]
  },
  {
   "attachments": {},
   "cell_type": "markdown",
   "id": "925b92d4-82c6-4943-aa80-a7022717f722",
   "metadata": {},
   "source": [
    "When working with IAM/ESM, the focus s in the **total** quantity (e.g., electricity production, transport, etc.) coming from the IAM/ESM output and not on our examination of the supply chain as provided by LCA. To avoid double counting, we need to identify activities modeled by the IAM/ESM and set their inputs to all activities to zero. \n",
    "\n",
    "`pathways` allows users to select the categories to be considered in the double-counting adjustment. The predefined categories are illustrated below:"
   ]
  },
  {
   "cell_type": "markdown",
   "id": "45d3389d-ad9c-4224-886c-e3320110faa5",
   "metadata": {},
   "source": [
    "![LCA_system_diagram](figures/categories.png)"
   ]
  },
  {
   "attachments": {},
   "cell_type": "markdown",
   "id": "f1aa7bd6-3ec6-4dda-a05f-cb8aec156e7f",
   "metadata": {},
   "source": [
    "This adjustment can be applied using the argument double_accounting."
   ]
  },
  {
   "cell_type": "code",
   "execution_count": 1,
   "id": "d1c84257-461b-4814-af6b-a0b4d625f81d",
   "metadata": {},
   "outputs": [
    {
     "name": "stdout",
     "output_type": "stream",
     "text": [
      "Invalid datapackage: Descriptor validation error: {'path': 'mapping/mapping.yaml', 'profile': 'data-resource', 'name': 'mapping', 'format': 'yaml', 'mediatype': 'text/yaml', 'encoding': 'utf-8'} is not valid under any of the given schemas at \"resources/33\" in descriptor and at \"properties/resources/items/oneOf\" in profile\n",
      "Invalid datapackage: Descriptor validation error: 'data-resource' is not one of ['tabular-data-resource'] at \"resources/33/profile\" in descriptor and at \"properties/resources/items/properties/profile/enum\" in profile\n",
      "Invalid datapackage: Descriptor validation error: {'path': 'classifications/classifications.yaml', 'profile': 'data-resource', 'name': 'classifications', 'format': 'yaml', 'mediatype': 'text/yaml', 'encoding': 'utf-8'} is not valid under any of the given schemas at \"resources/34\" in descriptor and at \"properties/resources/items/oneOf\" in profile\n",
      "Invalid datapackage: Descriptor validation error: 'data-resource' is not one of ['tabular-data-resource'] at \"resources/34/profile\" in descriptor and at \"properties/resources/items/properties/profile/enum\" in profile\n",
      "Log file: /Users/romain/Library/Logs/pathways/pathways.log\n",
      "Calculating LCA results for some model...\n",
      "--- Calculating LCA results for Scenario A...\n",
      "------ Calculating LCA results for 2040...\n",
      "------ Calculating LCA results for 2050...\n"
     ]
    },
    {
     "ename": "ValueError",
     "evalue": "Sheet 'Double accounting - Zeroed' already exists and if_sheet_exists is set to 'error'.",
     "output_type": "error",
     "traceback": [
      "\u001b[0;31m---------------------------------------------------------------------------\u001b[0m",
      "\u001b[0;31mRemoteTraceback\u001b[0m                           Traceback (most recent call last)",
      "\u001b[0;31mRemoteTraceback\u001b[0m: \n\"\"\"\nTraceback (most recent call last):\n  File \"/opt/homebrew/Caskroom/miniforge/base/envs/pathways/lib/python3.11/multiprocessing/pool.py\", line 125, in worker\n    result = (True, func(*args, **kwds))\n                    ^^^^^^^^^^^^^^^^^^^\n  File \"/opt/homebrew/Caskroom/miniforge/base/envs/pathways/lib/python3.11/multiprocessing/pool.py\", line 48, in mapstar\n    return list(map(*args))\n           ^^^^^^^^^^^^^^^^\n  File \"/Users/romain/GitHub/pathways/pathways/lca.py\", line 444, in _calculate_year\n    log_double_accounting(\n  File \"/Users/romain/GitHub/pathways/pathways/stats.py\", line 66, in log_double_accounting\n    filtered_df.to_excel(\n  File \"/opt/homebrew/Caskroom/miniforge/base/envs/pathways/lib/python3.11/site-packages/pandas/util/_decorators.py\", line 333, in wrapper\n    return func(*args, **kwargs)\n           ^^^^^^^^^^^^^^^^^^^^^\n  File \"/opt/homebrew/Caskroom/miniforge/base/envs/pathways/lib/python3.11/site-packages/pandas/core/generic.py\", line 2414, in to_excel\n    formatter.write(\n  File \"/opt/homebrew/Caskroom/miniforge/base/envs/pathways/lib/python3.11/site-packages/pandas/io/formats/excel.py\", line 952, in write\n    writer._write_cells(\n  File \"/opt/homebrew/Caskroom/miniforge/base/envs/pathways/lib/python3.11/site-packages/pandas/io/excel/_openpyxl.py\", line 463, in _write_cells\n    raise ValueError(\nValueError: Sheet 'Double accounting - Zeroed' already exists and if_sheet_exists is set to 'error'.\n\"\"\"",
      "\nThe above exception was the direct cause of the following exception:\n",
      "\u001b[0;31mValueError\u001b[0m                                Traceback (most recent call last)",
      "Cell \u001b[0;32mIn[1], line 8\u001b[0m\n\u001b[1;32m      2\u001b[0m \u001b[38;5;28;01mimport\u001b[39;00m \u001b[38;5;21;01mnumpy\u001b[39;00m \u001b[38;5;28;01mas\u001b[39;00m \u001b[38;5;21;01mnp\u001b[39;00m\n\u001b[1;32m      3\u001b[0m p \u001b[38;5;241m=\u001b[39m Pathways(\n\u001b[1;32m      4\u001b[0m     datapackage\u001b[38;5;241m=\u001b[39m\u001b[38;5;124m\"\u001b[39m\u001b[38;5;124mdatapackage_sample/datapackage.json\u001b[39m\u001b[38;5;124m\"\u001b[39m,\n\u001b[1;32m      5\u001b[0m     debug\u001b[38;5;241m=\u001b[39m\u001b[38;5;28;01mTrue\u001b[39;00m\n\u001b[1;32m      6\u001b[0m )\n\u001b[0;32m----> 8\u001b[0m \u001b[43mp\u001b[49m\u001b[38;5;241;43m.\u001b[39;49m\u001b[43mcalculate\u001b[49m\u001b[43m(\u001b[49m\n\u001b[1;32m      9\u001b[0m \u001b[43m    \u001b[49m\u001b[43mmethods\u001b[49m\u001b[38;5;241;43m=\u001b[39;49m\u001b[43m[\u001b[49m\u001b[38;5;124;43m'\u001b[39;49m\u001b[38;5;124;43mEF v3.1 EN15804 - climate change - global warming potential (GWP100)\u001b[39;49m\u001b[38;5;124;43m'\u001b[39;49m\u001b[43m,\u001b[49m\u001b[43m]\u001b[49m\u001b[43m,\u001b[49m\n\u001b[1;32m     10\u001b[0m \u001b[43m    \u001b[49m\u001b[43mregions\u001b[49m\u001b[38;5;241;43m=\u001b[39;49m\u001b[43m[\u001b[49m\u001b[38;5;124;43m\"\u001b[39;49m\u001b[38;5;124;43mEU\u001b[39;49m\u001b[38;5;124;43m\"\u001b[39;49m\u001b[43m,\u001b[49m\u001b[43m]\u001b[49m\u001b[43m,\u001b[49m\n\u001b[1;32m     11\u001b[0m \u001b[43m    \u001b[49m\u001b[43mscenarios\u001b[49m\u001b[38;5;241;43m=\u001b[39;49m\u001b[43m[\u001b[49m\n\u001b[1;32m     12\u001b[0m \u001b[43m        \u001b[49m\u001b[38;5;124;43m\"\u001b[39;49m\u001b[38;5;124;43mScenario A\u001b[39;49m\u001b[38;5;124;43m\"\u001b[39;49m\u001b[43m,\u001b[49m\n\u001b[1;32m     13\u001b[0m \u001b[43m        \u001b[49m\u001b[38;5;124;43m\"\u001b[39;49m\u001b[38;5;124;43mScenario B\u001b[39;49m\u001b[38;5;124;43m\"\u001b[39;49m\u001b[43m,\u001b[49m\n\u001b[1;32m     14\u001b[0m \u001b[43m    \u001b[49m\u001b[43m]\u001b[49m\u001b[43m,\u001b[49m\n\u001b[1;32m     15\u001b[0m \u001b[43m    \u001b[49m\u001b[43mvariables\u001b[49m\u001b[38;5;241;43m=\u001b[39;49m\u001b[43m[\u001b[49m\n\u001b[1;32m     16\u001b[0m \u001b[43m        \u001b[49m\u001b[38;5;124;43m\"\u001b[39;49m\u001b[38;5;124;43mtechnology A\u001b[39;49m\u001b[38;5;124;43m\"\u001b[39;49m\u001b[43m,\u001b[49m\n\u001b[1;32m     17\u001b[0m \u001b[43m    \u001b[49m\u001b[43m]\u001b[49m\u001b[43m,\u001b[49m\n\u001b[1;32m     18\u001b[0m \u001b[43m    \u001b[49m\u001b[43myears\u001b[49m\u001b[38;5;241;43m=\u001b[39;49m\u001b[43m[\u001b[49m\n\u001b[1;32m     19\u001b[0m \u001b[43m        \u001b[49m\u001b[38;5;241;43m2020\u001b[39;49m\u001b[43m,\u001b[49m\n\u001b[1;32m     20\u001b[0m \u001b[43m        \u001b[49m\u001b[38;5;241;43m2030\u001b[39;49m\u001b[43m,\u001b[49m\n\u001b[1;32m     21\u001b[0m \u001b[43m        \u001b[49m\u001b[38;5;241;43m2040\u001b[39;49m\u001b[43m,\u001b[49m\n\u001b[1;32m     22\u001b[0m \u001b[43m        \u001b[49m\u001b[38;5;241;43m2050\u001b[39;49m\n\u001b[1;32m     23\u001b[0m \u001b[43m    \u001b[49m\u001b[43m]\u001b[49m\u001b[43m,\u001b[49m\n\u001b[1;32m     24\u001b[0m \u001b[43m    \u001b[49m\u001b[43muse_distributions\u001b[49m\u001b[38;5;241;43m=\u001b[39;49m\u001b[38;5;241;43m500\u001b[39;49m\u001b[43m,\u001b[49m\n\u001b[1;32m     25\u001b[0m \u001b[43m    \u001b[49m\u001b[43mmultiprocessing\u001b[49m\u001b[38;5;241;43m=\u001b[39;49m\u001b[38;5;28;43;01mTrue\u001b[39;49;00m\u001b[43m,\u001b[49m\n\u001b[1;32m     26\u001b[0m \u001b[43m    \u001b[49m\u001b[43mdouble_accounting\u001b[49m\u001b[43m \u001b[49m\u001b[38;5;241;43m=\u001b[39;49m\u001b[43m \u001b[49m\u001b[43m[\u001b[49m\u001b[43m[\u001b[49m\u001b[38;5;124;43m\"\u001b[39;49m\u001b[38;5;124;43mEnergy\u001b[39;49m\u001b[38;5;124;43m\"\u001b[39;49m\u001b[43m]\u001b[49m\u001b[43m]\u001b[49m\n\u001b[1;32m     27\u001b[0m \u001b[43m)\u001b[49m\n",
      "File \u001b[0;32m~/GitHub/pathways/pathways/pathways.py:400\u001b[0m, in \u001b[0;36mPathways.calculate\u001b[0;34m(self, methods, double_accounting, models, scenarios, regions, years, variables, multiprocessing, demand_cutoff, use_distributions, subshares)\u001b[0m\n\u001b[1;32m    393\u001b[0m     \u001b[38;5;66;03m# Process each region in parallel\u001b[39;00m\n\u001b[1;32m    394\u001b[0m     \u001b[38;5;28;01mwith\u001b[39;00m Pool(cpu_count()) \u001b[38;5;28;01mas\u001b[39;00m p:\n\u001b[1;32m    395\u001b[0m         \u001b[38;5;66;03m# store th results as a dictionary with years as keys\u001b[39;00m\n\u001b[1;32m    396\u001b[0m         results\u001b[38;5;241m.\u001b[39mupdate(\n\u001b[1;32m    397\u001b[0m             {\n\u001b[1;32m    398\u001b[0m                 (model, scenario, year): result\n\u001b[1;32m    399\u001b[0m                 \u001b[38;5;28;01mfor\u001b[39;00m year, result \u001b[38;5;129;01min\u001b[39;00m \u001b[38;5;28mzip\u001b[39m(\n\u001b[0;32m--> 400\u001b[0m                     years, \u001b[43mp\u001b[49m\u001b[38;5;241;43m.\u001b[39;49m\u001b[43mmap\u001b[49m\u001b[43m(\u001b[49m\u001b[43m_calculate_year\u001b[49m\u001b[43m,\u001b[49m\u001b[43m \u001b[49m\u001b[43margs\u001b[49m\u001b[43m)\u001b[49m\n\u001b[1;32m    401\u001b[0m                 )\n\u001b[1;32m    402\u001b[0m             }\n\u001b[1;32m    403\u001b[0m         )\n\u001b[1;32m    404\u001b[0m \u001b[38;5;28;01melse\u001b[39;00m:\n\u001b[1;32m    405\u001b[0m     results\u001b[38;5;241m.\u001b[39mupdate(\n\u001b[1;32m    406\u001b[0m         {\n\u001b[1;32m    407\u001b[0m             (model, scenario, year): _calculate_year(\n\u001b[0;32m   (...)\u001b[0m\n\u001b[1;32m    431\u001b[0m         }\n\u001b[1;32m    432\u001b[0m     )\n",
      "File \u001b[0;32m/opt/homebrew/Caskroom/miniforge/base/envs/pathways/lib/python3.11/multiprocessing/pool.py:367\u001b[0m, in \u001b[0;36mPool.map\u001b[0;34m(self, func, iterable, chunksize)\u001b[0m\n\u001b[1;32m    362\u001b[0m \u001b[38;5;28;01mdef\u001b[39;00m \u001b[38;5;21mmap\u001b[39m(\u001b[38;5;28mself\u001b[39m, func, iterable, chunksize\u001b[38;5;241m=\u001b[39m\u001b[38;5;28;01mNone\u001b[39;00m):\n\u001b[1;32m    363\u001b[0m \u001b[38;5;250m    \u001b[39m\u001b[38;5;124;03m'''\u001b[39;00m\n\u001b[1;32m    364\u001b[0m \u001b[38;5;124;03m    Apply `func` to each element in `iterable`, collecting the results\u001b[39;00m\n\u001b[1;32m    365\u001b[0m \u001b[38;5;124;03m    in a list that is returned.\u001b[39;00m\n\u001b[1;32m    366\u001b[0m \u001b[38;5;124;03m    '''\u001b[39;00m\n\u001b[0;32m--> 367\u001b[0m     \u001b[38;5;28;01mreturn\u001b[39;00m \u001b[38;5;28;43mself\u001b[39;49m\u001b[38;5;241;43m.\u001b[39;49m\u001b[43m_map_async\u001b[49m\u001b[43m(\u001b[49m\u001b[43mfunc\u001b[49m\u001b[43m,\u001b[49m\u001b[43m \u001b[49m\u001b[43miterable\u001b[49m\u001b[43m,\u001b[49m\u001b[43m \u001b[49m\u001b[43mmapstar\u001b[49m\u001b[43m,\u001b[49m\u001b[43m \u001b[49m\u001b[43mchunksize\u001b[49m\u001b[43m)\u001b[49m\u001b[38;5;241;43m.\u001b[39;49m\u001b[43mget\u001b[49m\u001b[43m(\u001b[49m\u001b[43m)\u001b[49m\n",
      "File \u001b[0;32m/opt/homebrew/Caskroom/miniforge/base/envs/pathways/lib/python3.11/multiprocessing/pool.py:774\u001b[0m, in \u001b[0;36mApplyResult.get\u001b[0;34m(self, timeout)\u001b[0m\n\u001b[1;32m    772\u001b[0m     \u001b[38;5;28;01mreturn\u001b[39;00m \u001b[38;5;28mself\u001b[39m\u001b[38;5;241m.\u001b[39m_value\n\u001b[1;32m    773\u001b[0m \u001b[38;5;28;01melse\u001b[39;00m:\n\u001b[0;32m--> 774\u001b[0m     \u001b[38;5;28;01mraise\u001b[39;00m \u001b[38;5;28mself\u001b[39m\u001b[38;5;241m.\u001b[39m_value\n",
      "\u001b[0;31mValueError\u001b[0m: Sheet 'Double accounting - Zeroed' already exists and if_sheet_exists is set to 'error'."
     ]
    }
   ],
   "source": [
    "from pathways import Pathways\n",
    "import numpy as np\n",
    "p = Pathways(\n",
    "    datapackage=\"datapackage_sample/datapackage.json\",\n",
    "    debug=True\n",
    ")\n",
    "\n",
    "p.calculate(\n",
    "    methods=['EF v3.1 EN15804 - climate change - global warming potential (GWP100)',],\n",
    "    regions=[\"EU\",],\n",
    "    scenarios=[\n",
    "        \"Scenario A\",\n",
    "        \"Scenario B\",\n",
    "    ],\n",
    "    variables=[\n",
    "        \"technology A\",\n",
    "    ],\n",
    "    years=[\n",
    "        2020,\n",
    "        2030,\n",
    "        2040,\n",
    "        2050\n",
    "    ],\n",
    "    use_distributions=500,\n",
    "    multiprocessing=True,\n",
    "    double_accounting = [[\"Energy\"]]\n",
    ")"
   ]
  },
  {
   "attachments": {},
   "cell_type": "markdown",
   "id": "fcdc26f9-8964-4beb-a4a6-7e01bc10e2eb",
   "metadata": {},
   "source": [
    "Some examples would be:\n",
    "\n",
    "- If we are interested in zeroing \"Electricity, industrial\"\n",
    "\n",
    "  `double_accounting = [[\"Energy\", \"Electricity\", \"Industrial\"]]`\n",
    "\n",
    "- To zero \"Electricity, industrial\", \"Electricity, residential\" and \"Freight\"\n",
    "\n",
    "  `double_accounting = [[\"Energy\", \"Electricity\"], [\"Transport\", \"Freight\"]]`\n",
    "\n",
    "- To adjust for energy (both heat and electricity)\n",
    "\n",
    "  `double_accounting = [[\"Energy\"]]`"
   ]
  }
 ],
 "metadata": {
  "kernelspec": {
   "display_name": "Python 3 (ipykernel)",
   "language": "python",
   "name": "python3"
  },
  "language_info": {
   "codemirror_mode": {
    "name": "ipython",
    "version": 3
   },
   "file_extension": ".py",
   "mimetype": "text/x-python",
   "name": "python",
   "nbconvert_exporter": "python",
   "pygments_lexer": "ipython3",
   "version": "3.11.8"
  }
 },
 "nbformat": 4,
 "nbformat_minor": 5
}
