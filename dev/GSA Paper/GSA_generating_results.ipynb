{
 "cells": [
  {
   "attachments": {},
   "cell_type": "markdown",
   "id": "d4d6fd0c-d89e-4eb1-b600-e856d8792c23",
   "metadata": {},
   "source": [
    "# *pathways*. Global sensitivity analysis application"
   ]
  },
  {
   "attachments": {},
   "cell_type": "markdown",
   "id": "fbd14d90-fd34-4eed-98c5-30ecd96aad9b",
   "metadata": {},
   "source": [
    "This notebook contains the code necessary to generate the results shown in the publication *\"Exploring uncertainties in the material-energy nexus for net zero transition scenarios\"* "
   ]
  },
  {
   "cell_type": "markdown",
   "id": "7f3485b4-cc75-420a-99bb-0e08e56f11e2",
   "metadata": {},
   "source": [
    "Data packages were generated using *premise*, and can be found in this folder."
   ]
  },
  {
   "cell_type": "markdown",
   "id": "2b3e00b7-c833-4a69-9fc0-8d72c34d066c",
   "metadata": {},
   "source": [
    "Contact:\n",
    "\n",
    "- romain.sacchi@psi.ch\n",
    "- alvaro.hahn-menacho@psi.ch"
   ]
  },
  {
   "cell_type": "markdown",
   "id": "8dcd2491-5f92-4980-95ad-3e7fe86cfe3d",
   "metadata": {},
   "source": [
    "## Import *pathways* and other necessary modules"
   ]
  },
  {
   "cell_type": "code",
   "execution_count": 1,
   "id": "45ac9b05-1e2a-4839-afed-4edae65d9d8f",
   "metadata": {},
   "outputs": [],
   "source": [
    "from pathways import Pathways, run_gsa"
   ]
  },
  {
   "cell_type": "code",
   "execution_count": 2,
   "id": "9529213a-ed56-4c73-b08c-69198462ebe8",
   "metadata": {},
   "outputs": [],
   "source": [
    "import numpy as np\n",
    "import xarray as xr\n",
    "import numpy as np\n",
    "import pandas as pd\n",
    "from pathlib import Path"
   ]
  },
  {
   "cell_type": "markdown",
   "id": "e9b0b415-b734-4891-8781-92f17dd17442",
   "metadata": {},
   "source": [
    "## Set calculation parameters and export as .gzip"
   ]
  },
  {
   "cell_type": "code",
   "execution_count": 3,
   "id": "b47f4c1f-5f72-452f-84bc-2af9dcb439aa",
   "metadata": {},
   "outputs": [
    {
     "name": "stdout",
     "output_type": "stream",
     "text": [
      "Invalid datapackage: Descriptor validation error: {'path': 'mapping/mapping.yaml', 'profile': 'data-resource', 'name': 'mapping', 'format': 'yaml', 'mediatype': 'text/yaml', 'encoding': 'utf-8'} is not valid under any of the given schemas at \"resources/29\" in descriptor and at \"properties/resources/items/oneOf\" in profile\n",
      "Invalid datapackage: Descriptor validation error: 'data-resource' is not one of ['tabular-data-resource'] at \"resources/29/profile\" in descriptor and at \"properties/resources/items/properties/profile/enum\" in profile\n"
     ]
    }
   ],
   "source": [
    "p = Pathways(\n",
    "    datapackage=\"remind-SSP2-PkBudg1150-stem-SPS1.zip\",\n",
    "    geography_mapping=\"geo_mapping_remind.yaml\",\n",
    "    activities_mapping=\"act_categories_agg_unique.yaml\",\n",
    ")"
   ]
  },
  {
   "cell_type": "code",
   "execution_count": 4,
   "id": "c1193267-fb3c-4b31-870b-13fb7d25c503",
   "metadata": {},
   "outputs": [],
   "source": [
    "# vars = ['FE_cars_electricity','FE_cars_gas', 'FE_cars_hydrogen', 'FE_cars_diesel','FE_cars_gasoline']"
   ]
  },
  {
   "cell_type": "code",
   "execution_count": 5,
   "id": "f2290d4c-35d5-469b-94f6-6ed6a07786bf",
   "metadata": {},
   "outputs": [],
   "source": [
    "vars = [v for v in p.scenarios.coords[\"variables\"].values if v.startswith(\"FE\")]"
   ]
  },
  {
   "cell_type": "code",
   "execution_count": null,
   "id": "f82076b7-84ec-4e20-86e3-ff1b8ac31e5d",
   "metadata": {},
   "outputs": [
    {
     "name": "stdout",
     "output_type": "stream",
     "text": [
      "Calculating LCA results for remind...\n",
      "--- Calculating LCA results for SSP2-PkBudg1150-SPS1...\n"
     ]
    }
   ],
   "source": [
    "p.calculate(\n",
    "    methods=[\n",
    "        'EF v3.1 EN15804 - climate change - global warming potential (GWP100)',\n",
    "        'EF v3.1 EN15804 - acidification - accumulated exceedance (AE)',\n",
    "        'EF v3.1 EN15804 - ecotoxicity: freshwater - comparative toxic unit for ecosystems (CTUe)',\n",
    "        'EF v3.1 EN15804 - material resources: metals/minerals - abiotic depletion potential (ADP): elements (ultimate reserves)',\n",
    "        'EF v3.1 EN15804 - eutrophication: freshwater - fraction of nutrients reaching freshwater end compartment (P)',\n",
    "        'EF v3.1 EN15804 - photochemical oxidant formation: human health - tropospheric ozone concentration increase',\n",
    "        'Inventory results and indicators - resources - total freshwater extraction',\n",
    "        'Crustal Scarcity Indicator 2020 - material resources: metals/minerals - crustal scarcity potential (CSP)',\n",
    "        'Inventory results and indicators - resources - total surface occupation',\n",
    "        # 'RELICS - metals extraction - Lithium',\n",
    "        # 'RELICS - metals extraction - Vanadium',\n",
    "        # 'RELICS - metals extraction - Copper',\n",
    "        # 'RELICS - metals extraction - Platinum',\n",
    "        # 'RELICS - metals extraction - Phosphorus',\n",
    "        # 'RELICS - metals extraction - Lead',\n",
    "        # 'RELICS - metals extraction - Gallium',\n",
    "        # 'RELICS - metals extraction - Arsenic',\n",
    "        \n",
    "        'Inventory results and indicators - resources - land occupation',\n",
    "        # 'Inventory results and indicators - resources - total water extraction',\n",
    "        # 'Inventory results and indicators - resources - total freshwater extraction',\n",
    "        # 'ReCiPe 2016 v1.03, midpoint (H) - water use - water consumption potential (WCP)',\n",
    "        'ReCiPe 2016 v1.03, midpoint (H) - particulate matter formation - particulate matter formation potential (PMFP)',\n",
    "    ] + [m for m in p.lcia_methods if \"RELICS\" in m],\n",
    "    regions=[\"CH\"],\n",
    "    scenarios=p.scenarios.pathway.values.tolist(),\n",
    "    years=[2020, 2030, 2040, 2050],\n",
    "    variables=vars,\n",
    "    use_distributions=1000,\n",
    "    subshares=True,\n",
    "    multiprocessing=True,\n",
    ")"
   ]
  },
  {
   "cell_type": "code",
   "execution_count": null,
   "id": "c66383ba-9d77-4e7f-9973-8b6b67539b8b",
   "metadata": {},
   "outputs": [],
   "source": [
    "p.export_results()"
   ]
  },
  {
   "cell_type": "code",
   "execution_count": null,
   "id": "9a6347fa-2bf2-4b74-ace1-024f6524a43a",
   "metadata": {},
   "outputs": [],
   "source": [
    "run_gsa()"
   ]
  },
  {
   "cell_type": "code",
   "execution_count": null,
   "id": "d78dcdf0-5a09-484f-b22c-2171fbb1579a",
   "metadata": {},
   "outputs": [],
   "source": []
  },
  {
   "cell_type": "code",
   "execution_count": null,
   "id": "445aa4aa-9e3e-4ce4-8e67-6ee6b71fe308",
   "metadata": {},
   "outputs": [],
   "source": []
  },
  {
   "cell_type": "code",
   "execution_count": null,
   "id": "de3e42ce-b75f-4b48-8608-6094703b8ef9",
   "metadata": {},
   "outputs": [],
   "source": []
  },
  {
   "cell_type": "code",
   "execution_count": 6,
   "id": "4621bd25-cbb2-42b1-9c69-52803b37a737",
   "metadata": {},
   "outputs": [
    {
     "name": "stdout",
     "output_type": "stream",
     "text": [
      "Results exported to results_20240801_180657.gzip\n",
      "622528\n"
     ]
    },
    {
     "data": {
      "text/html": [
       "\n",
       "        <iframe\n",
       "            width=\"100%\"\n",
       "            height=\"500\"\n",
       "            src=\"example.html\"\n",
       "            frameborder=\"0\"\n",
       "            allowfullscreen\n",
       "            \n",
       "        ></iframe>\n",
       "        "
      ],
      "text/plain": [
       "<IPython.lib.display.IFrame at 0x255a9d43ad0>"
      ]
     },
     "execution_count": 6,
     "metadata": {},
     "output_type": "execute_result"
    }
   ],
   "source": [
    "fp = p.export_results()\n",
    "\n",
    "# interpolate in-between years\n",
    "import pandas as pd\n",
    "\n",
    "df = pd.read_parquet(fp, engine='pyarrow')\n",
    "\n",
    "df = df[df[\"value\"]!=0.0]\n",
    "df = df[~df[\"value\"].isnull()]\n",
    "print(len(df))\n",
    "df=df.reset_index()\n",
    "\n",
    "# pivottablejs is very convenient way to visualize pivot tables\n",
    "from pivottablejs import pivot_ui\n",
    "from IPython.display import HTML\n",
    "pivot_ui(df, outfile_path='example.html')"
   ]
  },
  {
   "cell_type": "code",
   "execution_count": 1,
   "id": "cd5cb401-9d09-49a7-8866-e61822c7cd15",
   "metadata": {},
   "outputs": [],
   "source": [
    "import yaml\n",
    "\n",
    "import logging\n",
    "import numpy as np\n",
    "from collections import defaultdict\n",
    "\n",
    "def check_subshares(data: dict) -> dict:\n",
    "    \"\"\"\n",
    "    Adjusts the values in 'data' for each year ensuring the sum equals 1\n",
    "    for each category, excluding technologies without a name.\n",
    "    It dynamically identifies years (integer keys) that contain a 'value'\n",
    "    subkey and adjusts them.\n",
    "\n",
    "    :param data: A dictionary with categories as keys, each category is\n",
    "    a dictionary of subcategories containing a list of technology dictionaries.\n",
    "    :return: A dictionary with the adjusted values.\n",
    "    \"\"\"\n",
    "\n",
    "    for category, technologies in data.items():\n",
    "        technologies_to_remove = []\n",
    "        totals = defaultdict(float)\n",
    "        for technology, params in technologies.items():\n",
    "            name = params.get(\"name\")\n",
    "            if name in {\"null\", \"Null\", None} or not name.strip():\n",
    "                logging.warning(\n",
    "                    f\"Technology '{technology}' in category '{category}' is being removed due to invalid name '{name}'.\"\n",
    "                )\n",
    "                technologies_to_remove.append(technology)\n",
    "                continue\n",
    "            if \"share\" in params:\n",
    "                for year, share in params[\"share\"].items():\n",
    "                    if \"loc\" in share:\n",
    "                        totals[year] += share[\"loc\"]\n",
    "            else:\n",
    "                logging.warning(\n",
    "                    f\"Technology '{technology}' in category '{category}' does not have a 'share' key\"\n",
    "                )\n",
    "\n",
    "        for tech in technologies_to_remove:\n",
    "            del technologies[tech]\n",
    "\n",
    "        for year, total_value in totals.items():\n",
    "            if not np.isclose(total_value, 1.00, rtol=1e-3):\n",
    "                logging.warning(\n",
    "                    f\"Total of '{year}' values in category '{category}' does not add up to 1.00 (Total: {total_value}). Adjusting values.\"\n",
    "                )\n",
    "                for technology, params in technologies.items():\n",
    "                    if \"share\" in params and year in params[\"share\"] and \"loc\" in params[\"share\"][year]:\n",
    "                        # Adjust the share value\n",
    "                        params[\"share\"][year][\"loc\"] /= total_value\n",
    "\n",
    "    return data"
   ]
  },
  {
   "cell_type": "code",
   "execution_count": 2,
   "id": "9769f961-1afd-400b-bdf2-9c8e2111bc39",
   "metadata": {},
   "outputs": [],
   "source": [
    "file_path = 'C:/Users/hahnme_a/PycharmProjects/pathways/pathways/data/technologies_shares.yaml'"
   ]
  },
  {
   "cell_type": "code",
   "execution_count": 3,
   "id": "97dd3460-7905-4802-a23b-dd8570a78289",
   "metadata": {},
   "outputs": [
    {
     "name": "stderr",
     "output_type": "stream",
     "text": [
      "WARNING:root:Total of '2020' values in category 'Fuel cell - Stationary' does not add up to 1.00 (Total: 0.4737). Adjusting values.\n"
     ]
    },
    {
     "data": {
      "text/plain": [
       "{'Wind': {'onshore-DDPM': {'name': 'electricity production, wind, 1-3MW turbine, onshore, direct drive',\n",
       "   'reference product': 'electricity, high voltage',\n",
       "   'unit': 'kilowatt hour',\n",
       "   'share': {2020: {'loc': 0.19},\n",
       "    2050: {'minimum': 0.17, 'maximum': 0.19, 'uncertainty_type': 'uniform'}}},\n",
       "  'onshore-Gearbox': {'name': 'electricity production, wind, 1-3MW turbine, onshore',\n",
       "   'reference product': 'electricity, high voltage',\n",
       "   'unit': 'kilowatt hour',\n",
       "   'share': {2020: {'loc': 0.77},\n",
       "    2050: {'minimum': 0.6, 'maximum': 0.77, 'uncertainty_type': 'uniform'}}},\n",
       "  'offshore-DDPM': {'name': 'electricity production, wind, 1-3MW turbine, offshore, direct drive',\n",
       "   'reference product': 'electricity, high voltage',\n",
       "   'unit': 'kilowatt hour',\n",
       "   'share': {2020: {'loc': 0.022},\n",
       "    2050: {'minimum': 0.022, 'maximum': 0.15, 'uncertainty_type': 'uniform'}}},\n",
       "  'offshore-Gearbox': {'name': 'electricity production, wind, 1-3MW turbine, offshore',\n",
       "   'reference product': 'electricity, high voltage',\n",
       "   'unit': 'kilowatt hour',\n",
       "   'share': {2020: {'loc': 0.018},\n",
       "    2050: {'minimum': 0.018, 'maximum': 0.1, 'uncertainty_type': 'uniform'}}}},\n",
       " 'PV': {'c-Si': {'name': 'electricity production, photovoltaic, photovoltaic slanted-roof installation, 3 kWp, multi-Si, laminated, integrated',\n",
       "   'reference product': 'electricity, low voltage',\n",
       "   'unit': 'kilowatt hour',\n",
       "   'share': {2020: {'loc': 0.944},\n",
       "    2050: {'minimum': 0.625,\n",
       "     'maximum': 0.944,\n",
       "     'uncertainty_type': 'uniform'}}},\n",
       "  'CdTe': {'name': 'electricity production, photovoltaic, photovoltaic slanted-roof installation, 3 kWp, CdTe, laminated, integrated',\n",
       "   'reference product': 'electricity, low voltage',\n",
       "   'unit': 'kilowatt hour',\n",
       "   'share': {2020: {'loc': 0.04},\n",
       "    2050: {'minimum': 0.04, 'maximum': 0.25, 'uncertainty_type': 'uniform'}}},\n",
       "  'CIGS': {'name': 'electricity production, photovoltaic, photovoltaic slanted-roof installation, 3 kWp, CIS, panel, mounted',\n",
       "   'reference product': 'electricity, low voltage',\n",
       "   'unit': 'kilowatt hour',\n",
       "   'share': {2020: {'loc': 0.015},\n",
       "    2050: {'minimum': 0.015,\n",
       "     'maximum': 0.125,\n",
       "     'uncertainty_type': 'uniform'}}},\n",
       "  'a-Si': {'name': 'electricity production, photovoltaic, 3kWp slanted-roof installation, a-Si, laminated, integrated',\n",
       "   'reference product': 'electricity, low voltage',\n",
       "   'unit': 'kilowatt hour',\n",
       "   'share': {2020: {'loc': 0.001},\n",
       "    2050: {'minimum': 0.0, 'maximum': 0.009, 'uncertainty_type': 'uniform'}}},\n",
       "  'Perovskite': {'name': 'electricity production, photovoltaic, 0.5kWp, perovskite-on-silicon tandem',\n",
       "   'reference product': 'electricity, low voltage',\n",
       "   'unit': 'kilowatt hour',\n",
       "   'share': {2020: {'loc': 0.0},\n",
       "    2050: {'minimum': 0.0, 'maximum': 0.3, 'uncertainty_type': 'uniform'}}},\n",
       "  'GaAs': {'name': 'electricity production, photovoltaic, 0.28kWp, GaAs',\n",
       "   'reference product': 'electricity, low voltage',\n",
       "   'unit': 'kilowatt hour',\n",
       "   'share': {2020: {'loc': 0.0},\n",
       "    2050: {'minimum': 0.0, 'maximum': 0.15, 'uncertainty_type': 'uniform'}}}},\n",
       " 'CSP': {'Parabolic trough': {'name': 'electricity production, solar thermal parabolic trough, 50 MW',\n",
       "   'reference product': 'electricity, high voltage',\n",
       "   'unit': 'kilowatt hour',\n",
       "   'share': {2020: {'loc': 0.9474},\n",
       "    2050: {'minimum': 0.5, 'maximum': 0.95, 'uncertainty_type': 'uniform'}}},\n",
       "  'Solar tower': {'name': 'electricity production, solar tower power plant, 20 MW',\n",
       "   'reference product': 'electricity, high voltage',\n",
       "   'unit': 'kilowatt hour',\n",
       "   'share': {2020: {'loc': 0.0526},\n",
       "    2050: {'minimum': 0.05, 'maximum': 0.5, 'uncertainty_type': 'uniform'}}}},\n",
       " 'Fuel cell - Stationary': {'PEMFC': {'name': 'electricity, residential, by conversion of hydrogen using fuel cell, PEM, allocated by exergy, distributed by pipeline, produced by Electrolysis, PEM using electricity from grid',\n",
       "   'reference product': 'electricity, from residential heating system',\n",
       "   'unit': 'kilowatt hour',\n",
       "   'share': {2020: {'loc': 0.22229259024699177},\n",
       "    2050: {'minimum': 0.115, 'maximum': 0.85, 'uncertainty_type': 'uniform'}}},\n",
       "  'SOFC': {'name': 'electricity, residential, by conversion of hydrogen using fuel cell, SOFC, allocated by exergy, distributed by pipeline, produced by Electrolysis, PEM using electricity from grid',\n",
       "   'reference product': 'electricity, from residential heating system',\n",
       "   'unit': 'kilowatt hour',\n",
       "   'share': {2020: {'loc': 0.7777074097530082},\n",
       "    2050: {'minimum': 0.117, 'maximum': 0.4, 'uncertainty_type': 'uniform'}}}},\n",
       " 'Electrolyzer': {'PEM': {'name': 'hydrogen production, gaseous, 30 bar, from PEM electrolysis, from grid electricity',\n",
       "   'reference product': 'hydrogen, gaseous, 30 bar',\n",
       "   'unit': 'kilogram',\n",
       "   'share': {2020: {'loc': 0.5},\n",
       "    2050: {'minimum': 0.5057,\n",
       "     'maximum': 0.75,\n",
       "     'uncertainty_type': 'uniform'}}},\n",
       "  'Alkaline': {'name': 'hydrogen production, gaseous, 20 bar, from AEC electrolysis, from grid electricity',\n",
       "   'reference product': 'hydrogen, gaseous, 20 bar',\n",
       "   'unit': 'kilogram',\n",
       "   'share': {2020: {'loc': 0.5},\n",
       "    2050: {'minimum': 0.0, 'maximum': 0.4943, 'uncertainty_type': 'uniform'}}},\n",
       "  'HTEL': {'name': 'hydrogen production, gaseous, 1 bar, from SOEC electrolysis, from grid electricity',\n",
       "   'reference product': 'hydrogen, gaseous, 1 bar',\n",
       "   'unit': 'kilogram',\n",
       "   'share': {2020: {'loc': 0.0},\n",
       "    2050: {'minimum': 0.0, 'maximum': 0.25, 'uncertainty_type': 'uniform'}}}},\n",
       " 'Battery-Mobile': {'NMC111': {'name': 'market for battery capacity, Li-ion, NMC111',\n",
       "   'reference product': 'battery capacity, Li-ion, NMC111',\n",
       "   'unit': 'kilowatt hour',\n",
       "   'share': {2020: {'loc': 0.04},\n",
       "    2050: {'minimum': 0.0, 'maximum': 0.04, 'uncertainty_type': 'uniform'}}},\n",
       "  'NMC523': {'name': 'market for battery capacity, Li-ion, NMC523',\n",
       "   'reference product': 'battery capacity, Li-ion, NMC523',\n",
       "   'unit': 'kilowatt hour',\n",
       "   'share': {2020: {'loc': 0.05},\n",
       "    2050: {'minimum': 0.0, 'maximum': 0.29, 'uncertainty_type': 'uniform'}}},\n",
       "  'NMC622': {'name': 'market for battery capacity, Li-ion, NMC622',\n",
       "   'reference product': 'battery capacity, Li-ion, NMC622',\n",
       "   'unit': 'kilowatt hour',\n",
       "   'share': {2020: {'loc': 0.25},\n",
       "    2050: {'minimum': 0.0, 'maximum': 0.29, 'uncertainty_type': 'uniform'}}},\n",
       "  'NMC811': {'name': 'market for battery capacity, Li-ion, NMC811',\n",
       "   'reference product': 'battery capacity, Li-ion, NMC811',\n",
       "   'unit': 'kilowatt hour',\n",
       "   'share': {2020: {'loc': 0.13},\n",
       "    2050: {'minimum': 0.04, 'maximum': 0.47, 'uncertainty_type': 'uniform'}}},\n",
       "  'NMC955': {'name': 'market for battery capacity, Li-ion, NMC955',\n",
       "   'reference product': 'battery capacity, Li-ion, NMC955',\n",
       "   'unit': 'kilowatt hour',\n",
       "   'share': {2020: {'loc': 0.04},\n",
       "    2050: {'minimum': 0.04, 'maximum': 0.47, 'uncertainty_type': 'uniform'}}},\n",
       "  'NCA': {'name': 'market for battery capacity, Li-ion, NCA',\n",
       "   'reference product': 'battery capacity, Li-ion, NCA',\n",
       "   'unit': 'kilowatt hour',\n",
       "   'share': {2020: {'loc': 0.21},\n",
       "    2050: {'minimum': 0.01, 'maximum': 0.188, 'uncertainty_type': 'uniform'}}},\n",
       "  'LFP': {'name': 'market for battery capacity, Li-ion, LFP',\n",
       "   'reference product': 'battery capacity, Li-ion, LFP',\n",
       "   'unit': 'kilowatt hour',\n",
       "   'share': {2020: {'loc': 0.28},\n",
       "    2050: {'minimum': 0.1, 'maximum': 0.388, 'uncertainty_type': 'uniform'}}},\n",
       "  'LiS': {'name': 'market for battery capacity, Li-sulfur, Li-S',\n",
       "   'reference product': 'battery capacity, Li-sulfur, Li-S',\n",
       "   'unit': 'kilowatt hour',\n",
       "   'share': {2020: {'loc': 0.0},\n",
       "    2050: {'minimum': 0.0, 'maximum': 0.9, 'uncertainty_type': 'uniform'}}},\n",
       "  'LiO2': {'name': 'market for battery capacity, Li-ion, Li-O2',\n",
       "   'reference product': 'battery capacity, Li-ion, Li-O2',\n",
       "   'unit': 'kilowatt hour',\n",
       "   'share': {2020: {'loc': 0.0},\n",
       "    2050: {'minimum': 0.0, 'maximum': 0.1, 'uncertainty_type': 'uniform'}}},\n",
       "  'SIB': {'name': 'market for battery capacity, Sodium-ion, SiB',\n",
       "   'reference product': 'battery capacity, Sodium-ion, SiB',\n",
       "   'unit': 'kilowatt hour',\n",
       "   'share': {2020: {'loc': 0.0},\n",
       "    2050: {'minimum': 0.03, 'maximum': 0.39, 'uncertainty_type': 'uniform'}}}},\n",
       " 'Battery-Stationary': {'NMC111-Stationary': {'name': 'market for battery capacity, Li-ion, NMC111, stationary',\n",
       "   'reference product': 'battery capacity, Li-ion, NMC111',\n",
       "   'unit': 'kilowatt hour',\n",
       "   'share': {2020: {'loc': 0.04},\n",
       "    2050: {'minimum': 0.0, 'maximum': 0.04, 'uncertainty_type': 'uniform'}}},\n",
       "  'NMC523-Stationary': {'name': 'market for battery capacity, Li-ion, NMC523, stationary',\n",
       "   'reference product': 'battery capacity, Li-ion, NMC523',\n",
       "   'unit': 'kilowatt hour',\n",
       "   'share': {2020: {'loc': 0.05},\n",
       "    2050: {'minimum': 0.02, 'maximum': 0.3, 'uncertainty_type': 'uniform'}}},\n",
       "  'NMC622-Stationary': {'name': 'market for battery capacity, Li-ion, NMC622, stationary',\n",
       "   'reference product': 'battery capacity, Li-ion, NMC622',\n",
       "   'unit': 'kilowatt hour',\n",
       "   'share': {2020: {'loc': 0.21},\n",
       "    2050: {'minimum': 0.02, 'maximum': 0.3, 'uncertainty_type': 'uniform'}}},\n",
       "  'NMC811-Stationary': {'name': 'market for battery capacity, Li-ion, NMC811, stationary',\n",
       "   'reference product': 'battery capacity, Li-ion, NMC811',\n",
       "   'unit': 'kilowatt hour',\n",
       "   'share': {2020: {'loc': 0.09},\n",
       "    2050: {'minimum': 0.039, 'maximum': 0.44, 'uncertainty_type': 'uniform'}}},\n",
       "  'NMC955-Stationary': {'name': 'market for battery capacity, Li-ion, NMC955, stationary',\n",
       "   'reference product': 'battery capacity, Li-ion, NMC955',\n",
       "   'unit': 'kilowatt hour',\n",
       "   'share': {2020: {'loc': 0.01},\n",
       "    2050: {'minimum': 0.039, 'maximum': 0.44, 'uncertainty_type': 'uniform'}}},\n",
       "  'Lead-Acid-Stationary': {'name': 'market for battery capacity, lead acid, rechargeable, stationary',\n",
       "   'reference product': 'battery capacity, lead acid',\n",
       "   'unit': 'kilowatt hour',\n",
       "   'share': {2020: {'loc': 0.1},\n",
       "    2050: {'minimum': 0.0, 'maximum': 0.095, 'uncertainty_type': 'uniform'}}},\n",
       "  'LFP-Stationary': {'name': 'market for battery capacity, Li-ion, LFP, stationary',\n",
       "   'reference product': 'battery capacity, Li-ion, LFP',\n",
       "   'unit': 'kilowatt hour',\n",
       "   'share': {2020: {'loc': 0.4},\n",
       "    2050: {'minimum': 0.17, 'maximum': 0.4, 'uncertainty_type': 'uniform'}}},\n",
       "  'SIB-Stationary': {'name': 'market for battery capacity, Sodium-ion, SiB, stationary',\n",
       "   'reference product': 'battery capacity, Sodium-ion, SiB',\n",
       "   'unit': 'kilowatt hour',\n",
       "   'share': {2020: {'loc': 0.05},\n",
       "    2050: {'minimum': 0.05, 'maximum': 0.33, 'uncertainty_type': 'uniform'}}},\n",
       "  'Redox-Flow-Stationary': {'name': 'market for battery capacity, redox-flow, Vanadium, stationary',\n",
       "   'reference product': 'battery capacity, redox-flow, Vanadium',\n",
       "   'unit': 'kilowatt hour',\n",
       "   'share': {2020: {'loc': 0.05},\n",
       "    2050: {'minimum': 0.05, 'maximum': 0.33, 'uncertainty_type': 'uniform'}}}}}"
      ]
     },
     "execution_count": 3,
     "metadata": {},
     "output_type": "execute_result"
    }
   ],
   "source": [
    "with open(file_path, 'r') as file:\n",
    "    data = yaml.safe_load(file)\n",
    "\n",
    "# Check and adjust the subshares\n",
    "adjusted_data = check_subshares(data)\n",
    "\n",
    "# Display the adjusted data for verification\n",
    "adjusted_data"
   ]
  },
  {
   "cell_type": "code",
   "execution_count": null,
   "id": "b87ee1c5-5651-4dea-bef4-e5ee4f8514b3",
   "metadata": {},
   "outputs": [],
   "source": []
  },
  {
   "cell_type": "code",
   "execution_count": null,
   "id": "c51e5a1e-d0ab-4ba6-88d0-4365d9f8ce72",
   "metadata": {},
   "outputs": [],
   "source": []
  },
  {
   "cell_type": "code",
   "execution_count": null,
   "id": "fea580e6-65de-4937-9aec-8457fd6fc589",
   "metadata": {},
   "outputs": [],
   "source": []
  }
 ],
 "metadata": {
  "kernelspec": {
   "display_name": "Python 3 (ipykernel)",
   "language": "python",
   "name": "python3"
  },
  "language_info": {
   "codemirror_mode": {
    "name": "ipython",
    "version": 3
   },
   "file_extension": ".py",
   "mimetype": "text/x-python",
   "name": "python",
   "nbconvert_exporter": "python",
   "pygments_lexer": "ipython3",
   "version": "3.11.9"
  }
 },
 "nbformat": 4,
 "nbformat_minor": 5
}
