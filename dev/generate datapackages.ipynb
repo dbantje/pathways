{
 "cells": [
  {
   "cell_type": "code",
   "execution_count": null,
   "id": "6f956f44-5eac-47fc-9097-08c5bae86ecd",
   "metadata": {},
   "outputs": [],
   "source": [
    "from premise import *\n",
    "import bw2data\n",
    "from datapackage import Package\n",
    "bw2data.projects.set_current(\"ei39\")\n",
    "\n",
    "ndb = NewDatabase(\n",
    "    scenarios=[\n",
    "        {\"model\": \"image\",\n",
    "         \"pathway\": \"SSP2-Base\",\n",
    "         \"year\": 2050},\n",
    "    ],\n",
    "    #years=[2005, 2010, 2020, 2030, 2040, 2050, 2060, 2070, 2080, 2090, 2100],\n",
    "    #years=[2020, ],\n",
    "    source_db=\"ecoinvent 3.9.1 cutoff\", # <-- name of the database in the BW2 project. Must be a string.\n",
    "    source_version=\"3.9\", # <-- version of ecoinvent. Can be \"3.5\", \"3.6\", \"3.7\" or \"3.8\". Must be a string.\n",
    "    key=\"tUePmX_S5B8ieZkkM7WUU2CnO8SmShwmAeWK9x2rTFo=\",\n",
    ")\n",
    "ndb.update()\n",
    "ndb.write_db_to_brightway()"
   ]
  },
  {
   "cell_type": "code",
   "execution_count": 1,
   "id": "e7dde1cf-983a-4da5-a7a8-f13054c3f57c",
   "metadata": {},
   "outputs": [
    {
     "name": "stdout",
     "output_type": "stream",
     "text": [
      "premise v.(2, 0, 1)\n",
      "+------------------------------------------------------------------+\n",
      "| Warning                                                          |\n",
      "+------------------------------------------------------------------+\n",
      "| Because some of the scenarios can yield LCI databases            |\n",
      "| containing net negative emission technologies (NET),             |\n",
      "| it is advised to account for biogenic CO2 flows when calculating |\n",
      "| Global Warming potential indicators.                             |\n",
      "| `premise_gwp` provides characterization factors for such flows.  |\n",
      "| It also provides factors for hydrogen emissions to air.          |\n",
      "|                                                                  |\n",
      "| Within your bw2 project:                                         |\n",
      "| from premise_gwp import add_premise_gwp                          |\n",
      "| add_premise_gwp()                                                |\n",
      "+------------------------------------------------------------------+\n",
      "+--------------------------------+----------------------------------+\n",
      "| Utils functions                | Description                      |\n",
      "+--------------------------------+----------------------------------+\n",
      "| clear_cache()                  | Clears the cache folder. Useful  |\n",
      "|                                | when updating `premise`or        |\n",
      "|                                | encountering issues with         |\n",
      "|                                | inventories.                     |\n",
      "+--------------------------------+----------------------------------+\n",
      "| get_regions_definition(model)  | Retrieves the list of countries  |\n",
      "|                                | for each region of the model.    |\n",
      "+--------------------------------+----------------------------------+\n",
      "| ndb.NewDatabase(...)           | Generates a summary of the most  |\n",
      "| ndb.generate_scenario_report() | important scenarios' variables.  |\n",
      "+--------------------------------+----------------------------------+\n",
      "Keep uncertainty data?\n",
      "NewDatabase(..., keep_uncertainty_data=True)\n",
      "\n",
      "Disable multiprocessing?\n",
      "NewDatabase(..., use_multiprocessing=False)\n",
      "\n",
      "Hide these messages?\n",
      "NewDatabase(..., quiet=True)\n",
      "- Extracting source database\n",
      "- Extracting inventories\n",
      "- Fetching IAM data\n",
      "Reading /Users/romain/Dropbox/Notebooks/IAM-ecoinvent/new image/full data/image_SSP2-RCP19.xlsx as excel fileReading /Users/romain/Dropbox/Notebooks/IAM-ecoinvent/new image/full data/image_SSP2-RCP19.xlsx as excel file\n",
      "\n",
      "Reading /Users/romain/Dropbox/Notebooks/IAM-ecoinvent/new image/full data/image_SSP2-RCP19.xlsx as excel file\n",
      "Reading /Users/romain/Dropbox/Notebooks/IAM-ecoinvent/new image/full data/image_SSP2-RCP19.xlsx as excel file\n",
      "Reading /Users/romain/Dropbox/Notebooks/IAM-ecoinvent/new image/full data/image_SSP2-RCP19.xlsx as excel file\n",
      "Reading /Users/romain/Dropbox/Notebooks/IAM-ecoinvent/new image/full data/image_SSP2-RCP19.xlsx as excel file\n",
      "Reading /Users/romain/Dropbox/Notebooks/IAM-ecoinvent/new image/full data/image_SSP2-RCP19.xlsx as excel file\n",
      "Reading /Users/romain/Dropbox/Notebooks/IAM-ecoinvent/new image/full data/image_SSP2-RCP19.xlsx as excel file\n",
      "Reading /Users/romain/Dropbox/Notebooks/IAM-ecoinvent/new image/full data/image_SSP2-RCP19.xlsx as excel file\n",
      "Reading /Users/romain/Dropbox/Notebooks/IAM-ecoinvent/new image/full data/image_SSP2-RCP19.xlsx as excel file\n",
      "Reading /Users/romain/Dropbox/Notebooks/IAM-ecoinvent/new image/full data/image_SSP2-RCP19.xlsx as excel file\n",
      "Done!\n"
     ]
    }
   ],
   "source": [
    "from premise import *\n",
    "import bw2data\n",
    "from datapackage import Package\n",
    "\n",
    "bw2data.projects.set_current(\"ei39\")\n",
    "ndb = PathwaysDataPackage(\n",
    "    scenarios=[\n",
    "        {\"model\": \"image\",\n",
    "         \"pathway\": \"SSP2-RCP19\",\n",
    "         \"filepath\": \"/Users/romain/Dropbox/Notebooks/IAM-ecoinvent/new image/full data\"\n",
    "        },\n",
    "    ],\n",
    "    years=[2005, 2010, 2020, 2030, 2040, 2050, 2060, 2070, 2080, 2090, 2100],\n",
    "    source_db=\"ecoinvent 3.9.1 cutoff\", # <-- name of the database in the BW2 project. Must be a string.\n",
    "    source_version=\"3.9\", # <-- version of ecoinvent. Can be \"3.5\", \"3.6\", \"3.7\" or \"3.8\". Must be a string.\n",
    "    #key=\"tUePmX_S5B8ieZkkM7WUU2CnO8SmShwmAeWK9x2rTFo=\",\n",
    ")"
   ]
  },
  {
   "cell_type": "code",
   "execution_count": 2,
   "id": "f7d15e94-9a93-4314-9a69-11f50243b166",
   "metadata": {},
   "outputs": [
    {
     "name": "stdout",
     "output_type": "stream",
     "text": [
      "`update()` will skip the following sectors: 'buses', 'cars', 'two_wheelers'.\n",
      "If you want to update these sectors, please run them separately afterwards.\n"
     ]
    },
    {
     "name": "stderr",
     "output_type": "stream",
     "text": [
      "Updating: metals:  55%|████████▏      | 6/11 [26:47<35:21, 424.38s/it]"
     ]
    },
    {
     "name": "stdout",
     "output_type": "stream",
     "text": [
      "Metal spodumene not found in alternative names. Skipping transport.\n",
      "Metal spodumene not found in alternative names. Skipping transport.\n",
      "Metal spodumene not found in alternative names. Skipping transport.\n",
      "Metal spodumene not found in alternative names. Skipping transport.\n",
      "Metal spodumene not found in alternative names. Skipping transport.\n",
      "Metal spodumene not found in alternative names. Skipping transport.\n",
      "Metal spodumene not found in alternative names. Skipping transport.\n",
      "Metal spodumene not found in alternative names. Skipping transport.\n",
      "Metal spodumene not found in alternative names. Skipping transport.\n",
      "Metal spodumene not found in alternative names. Skipping transport.\n",
      "Metal spodumene not found in alternative names. Skipping transport.\n",
      "Metal spodumene not found in alternative names. Skipping transport.\n",
      "Metal spodumene not found in alternative names. Skipping transport.\n",
      "Metal rare earth carbonate concentrate not found in alternative names. Skipping transport.\n",
      "Metal rare earth carbonate concentrate not found in alternative names. Skipping transport.\n",
      "Metal rare earth carbonate concentrate not found in alternative names. Skipping transport.\n",
      "Metal rare earth carbonate concentrate not found in alternative names. Skipping transport.\n",
      "Metal rare earth carbonate concentrate not found in alternative names. Skipping transport.\n",
      "Metal rare earth carbonate concentrate not found in alternative names. Skipping transport.\n",
      "Metal rare earth carbonate concentrate not found in alternative names. Skipping transport.\n",
      "Metal rare earth carbonate concentrate not found in alternative names. Skipping transport.\n",
      "Metal rare earth carbonate concentrate not found in alternative names. Skipping transport.\n",
      "Metal rare earth carbonate concentrate not found in alternative names. Skipping transport.\n",
      "Metal sand not found in alternative names. Skipping transport.\n",
      "Metal sand not found in alternative names. Skipping transport.\n",
      "Metal sand not found in alternative names. Skipping transport.\n",
      "Metal sand not found in alternative names. Skipping transport.\n",
      "Metal sand not found in alternative names. Skipping transport.\n",
      "Metal sand not found in alternative names. Skipping transport.\n",
      "Metal sand not found in alternative names. Skipping transport.\n",
      "Metal sand not found in alternative names. Skipping transport.\n",
      "Metal sand not found in alternative names. Skipping transport.\n",
      "Metal sand not found in alternative names. Skipping transport.\n",
      "Metal sand not found in alternative names. Skipping transport.\n",
      "Metal sand not found in alternative names. Skipping transport.\n",
      "Metal sand not found in alternative names. Skipping transport.\n",
      "Metal sand not found in alternative names. Skipping transport.\n",
      "Metal sand not found in alternative names. Skipping transport.\n",
      "Metal sand not found in alternative names. Skipping transport.\n",
      "Metal sand not found in alternative names. Skipping transport.\n",
      "Metal sand not found in alternative names. Skipping transport.\n",
      "Metal sand not found in alternative names. Skipping transport.\n",
      "Metal sand not found in alternative names. Skipping transport.\n",
      "Metal titanium tetrachloride not found in alternative names. Skipping transport.\n",
      "Metal titanium tetrachloride not found in alternative names. Skipping transport.\n",
      "Metal titanium tetrachloride not found in alternative names. Skipping transport.\n",
      "Metal titanium tetrachloride not found in alternative names. Skipping transport.\n",
      "Metal titanium tetrachloride not found in alternative names. Skipping transport.\n",
      "Metal titanium sponge not found in alternative names. Skipping transport.\n",
      "Metal titanium sponge not found in alternative names. Skipping transport.\n",
      "Metal titanium sponge not found in alternative names. Skipping transport.\n",
      "Metal titanium sponge not found in alternative names. Skipping transport.\n",
      "Metal titanium sponge not found in alternative names. Skipping transport.\n",
      "Metal spodumene not found in alternative names. Skipping transport.\n",
      "Metal spodumene not found in alternative names. Skipping transport.\n",
      "Metal spodumene not found in alternative names. Skipping transport.\n",
      "Metal spodumene not found in alternative names. Skipping transport.\n",
      "Metal spodumene not found in alternative names. Skipping transport.\n",
      "Metal spodumene not found in alternative names. Skipping transport.\n",
      "Metal spodumene not found in alternative names. Skipping transport.\n",
      "Metal spodumene not found in alternative names. Skipping transport.\n",
      "Metal spodumene not found in alternative names. Skipping transport.\n",
      "Metal spodumene not found in alternative names. Skipping transport.\n",
      "Metal spodumene not found in alternative names. Skipping transport.\n",
      "Metal spodumene not found in alternative names. Skipping transport.\n",
      "Metal spodumene not found in alternative names. Skipping transport.\n",
      "Metal rare earth carbonate concentrate not found in alternative names. Skipping transport.\n",
      "Metal rare earth carbonate concentrate not found in alternative names. Skipping transport.\n",
      "Metal rare earth carbonate concentrate not found in alternative names. Skipping transport.\n",
      "Metal rare earth carbonate concentrate not found in alternative names. Skipping transport.\n",
      "Metal rare earth carbonate concentrate not found in alternative names. Skipping transport.\n",
      "Metal rare earth carbonate concentrate not found in alternative names. Skipping transport.\n",
      "Metal rare earth carbonate concentrate not found in alternative names. Skipping transport.\n",
      "Metal rare earth carbonate concentrate not found in alternative names. Skipping transport.\n",
      "Metal rare earth carbonate concentrate not found in alternative names. Skipping transport.\n",
      "Metal rare earth carbonate concentrate not found in alternative names. Skipping transport.\n",
      "Metal sand not found in alternative names. Skipping transport.\n",
      "Metal sand not found in alternative names. Skipping transport.\n",
      "Metal sand not found in alternative names. Skipping transport.\n",
      "Metal sand not found in alternative names. Skipping transport.\n",
      "Metal sand not found in alternative names. Skipping transport.\n",
      "Metal sand not found in alternative names. Skipping transport.\n",
      "Metal sand not found in alternative names. Skipping transport.\n",
      "Metal sand not found in alternative names. Skipping transport.\n",
      "Metal sand not found in alternative names. Skipping transport.\n",
      "Metal sand not found in alternative names. Skipping transport.\n",
      "Metal sand not found in alternative names. Skipping transport.\n",
      "Metal sand not found in alternative names. Skipping transport.\n",
      "Metal sand not found in alternative names. Skipping transport.\n",
      "Metal sand not found in alternative names. Skipping transport.\n",
      "Metal sand not found in alternative names. Skipping transport.\n",
      "Metal sand not found in alternative names. Skipping transport.\n",
      "Metal sand not found in alternative names. Skipping transport.\n",
      "Metal sand not found in alternative names. Skipping transport.\n",
      "Metal sand not found in alternative names. Skipping transport.\n",
      "Metal sand not found in alternative names. Skipping transport.\n",
      "Metal titanium tetrachloride not found in alternative names. Skipping transport.\n",
      "Metal titanium tetrachloride not found in alternative names. Skipping transport.\n",
      "Metal titanium tetrachloride not found in alternative names. Skipping transport.\n",
      "Metal titanium tetrachloride not found in alternative names. Skipping transport.\n",
      "Metal titanium tetrachloride not found in alternative names. Skipping transport.\n",
      "Metal titanium sponge not found in alternative names. Skipping transport.\n",
      "Metal titanium sponge not found in alternative names. Skipping transport.\n",
      "Metal titanium sponge not found in alternative names. Skipping transport.\n",
      "Metal titanium sponge not found in alternative names. Skipping transport.\n",
      "Metal titanium sponge not found in alternative names. Skipping transport.\n"
     ]
    },
    {
     "name": "stderr",
     "output_type": "stream",
     "text": [
      "Updating: external:  91%|█████████ | 10/11 [2:32:34<15:15, 915.42s/it]\n"
     ]
    },
    {
     "name": "stdout",
     "output_type": "stream",
     "text": [
      "External scenarios (datapackages) are not provided. Skipped.\n",
      "Done!\n",
      "\n",
      "Extracted 1 worksheets in 0.03 seconds\n",
      "Remove uncertainty data.\n",
      "Extracted 1 worksheets in 0.02 seconds\n",
      "Remove uncertainty data.\n",
      "Extracted 1 worksheets in 0.02 seconds\n",
      "Remove uncertainty data.\n",
      "Extracted 1 worksheets in 0.02 seconds\n",
      "Remove uncertainty data.\n",
      "Extracted 1 worksheets in 0.02 seconds\n",
      "Remove uncertainty data.\n",
      "Extracted 1 worksheets in 0.03 seconds\n",
      "Remove uncertainty data.\n",
      "Extracted 1 worksheets in 0.03 seconds\n",
      "Remove uncertainty data.\n",
      "Extracted 1 worksheets in 0.02 seconds\n",
      "Remove uncertainty data.\n",
      "Extracted 1 worksheets in 0.02 seconds\n",
      "Remove uncertainty data.\n",
      "Extracted 1 worksheets in 0.02 seconds\n",
      "Remove uncertainty data.\n",
      "Extracted 1 worksheets in 0.02 seconds\n",
      "Remove uncertainty data.\n",
      "Write new database(s) to matrix.\n",
      "Running all checks...\n",
      "Anomalies found: check the change report.\n",
      "Running all checks...\n",
      "Anomalies found: check the change report.\n",
      "Running all checks...\n",
      "Anomalies found: check the change report.\n",
      "Running all checks...\n",
      "Anomalies found: check the change report.\n",
      "Running all checks...\n",
      "Anomalies found: check the change report.\n",
      "Running all checks...\n",
      "Anomalies found: check the change report.\n",
      "Running all checks...\n",
      "Anomalies found: check the change report.\n",
      "Matrices saved in /Users/romain/Github/pathways/dev/pathways/inventories/image/SSP2-RCP19/2030.\n",
      "Matrices saved in /Users/romain/Github/pathways/dev/pathways/inventories/image/SSP2-RCP19/2040.\n",
      "Matrices saved in /Users/romain/Github/pathways/dev/pathways/inventories/image/SSP2-RCP19/2050.\n",
      "Matrices saved in /Users/romain/Github/pathways/dev/pathways/inventories/image/SSP2-RCP19/2005.\n",
      "Matrices saved in /Users/romain/Github/pathways/dev/pathways/inventories/image/SSP2-RCP19/2080.\n",
      "Matrices saved in /Users/romain/Github/pathways/dev/pathways/inventories/image/SSP2-RCP19/2060.\n",
      "Matrices saved in /Users/romain/Github/pathways/dev/pathways/inventories/image/SSP2-RCP19/2010.\n",
      "Matrices saved in /Users/romain/Github/pathways/dev/pathways/inventories/image/SSP2-RCP19/2090.\n",
      "Matrices saved in /Users/romain/Github/pathways/dev/pathways/inventories/image/SSP2-RCP19/2070.\n",
      "Generate scenario report.\n",
      "Report saved under /Users/romain/Github/pathways/dev/export/scenario_report.\n",
      "Generate change report.\n",
      "Report saved under /Users/romain/Github/pathways/dev.\n",
      "Data package saved at /Users/romain/Github/pathways/dev/pathways/image-SSP2-RCP19.zip\n"
     ]
    }
   ],
   "source": [
    "ndb.create_datapackage(\n",
    "    name=\"image-SSP2-RCP19\",\n",
    "    contributors=[\n",
    "        {\"name\": \"Romain\",\n",
    "        \"email\": \"r_s at me.com\",}\n",
    "    ],\n",
    ")"
   ]
  },
  {
   "cell_type": "code",
   "execution_count": 1,
   "id": "9d57850c-04fa-4ef7-89e8-3e9de62f92e3",
   "metadata": {},
   "outputs": [
    {
     "name": "stdout",
     "output_type": "stream",
     "text": [
      "Solver: scikits.umfpack\n",
      "Invalid datapackage: Descriptor validation error: {'path': 'mapping/mapping.yaml', 'profile': 'data-resource', 'name': 'mapping', 'format': 'yaml', 'mediatype': 'text/yaml', 'encoding': 'utf-8'} is not valid under any of the given schemas at \"resources/45\" in descriptor and at \"properties/resources/items/oneOf\" in profile\n",
      "Invalid datapackage: Descriptor validation error: 'data-resource' is not one of ['tabular-data-resource'] at \"resources/45/profile\" in descriptor and at \"properties/resources/items/properties/profile/enum\" in profile\n"
     ]
    }
   ],
   "source": [
    "from pathways import Pathways\n",
    "p = Pathways(datapackage=\"/Users/romain/Downloads/image-SSP2-RCP19/datapackage.json\")"
   ]
  },
  {
   "cell_type": "code",
   "execution_count": 2,
   "id": "a081c764-a942-4627-9197-fcd373e98b62",
   "metadata": {},
   "outputs": [
    {
     "name": "stdout",
     "output_type": "stream",
     "text": [
      "Calculating LCA results for image...\n",
      "--- Calculating LCA results for SSP2-RCP19...\n",
      "------ Calculating LCA results for 2005...\n"
     ]
    },
    {
     "name": "stderr",
     "output_type": "stream",
     "text": [
      "0% [##########################] 100% | ETA: 00:00:00\n",
      "Total time elapsed: 00:06:06\n"
     ]
    },
    {
     "name": "stdout",
     "output_type": "stream",
     "text": [
      "------ Calculating LCA results for 2010...\n"
     ]
    },
    {
     "name": "stderr",
     "output_type": "stream",
     "text": [
      "0% [##########################] 100% | ETA: 00:00:00\n",
      "Total time elapsed: 00:06:30\n"
     ]
    },
    {
     "name": "stdout",
     "output_type": "stream",
     "text": [
      "------ Calculating LCA results for 2015...\n",
      "LCA matrices not found for the given model, scenario, and year.\n",
      "------ Calculating LCA results for 2020...\n"
     ]
    },
    {
     "name": "stderr",
     "output_type": "stream",
     "text": [
      "0% [##########################] 100% | ETA: 00:00:00\n",
      "Total time elapsed: 00:06:22\n"
     ]
    },
    {
     "name": "stdout",
     "output_type": "stream",
     "text": [
      "------ Calculating LCA results for 2025...\n",
      "LCA matrices not found for the given model, scenario, and year.\n",
      "------ Calculating LCA results for 2030...\n"
     ]
    },
    {
     "name": "stderr",
     "output_type": "stream",
     "text": [
      "0% [##########################] 100% | ETA: 00:00:00\n",
      "Total time elapsed: 00:04:45\n"
     ]
    },
    {
     "name": "stdout",
     "output_type": "stream",
     "text": [
      "------ Calculating LCA results for 2035...\n",
      "LCA matrices not found for the given model, scenario, and year.\n",
      "------ Calculating LCA results for 2040...\n"
     ]
    },
    {
     "name": "stderr",
     "output_type": "stream",
     "text": [
      "0% [##########################] 100% | ETA: 00:00:00\n",
      "Total time elapsed: 00:03:08\n"
     ]
    },
    {
     "name": "stdout",
     "output_type": "stream",
     "text": [
      "------ Calculating LCA results for 2045...\n",
      "LCA matrices not found for the given model, scenario, and year.\n",
      "------ Calculating LCA results for 2050...\n"
     ]
    },
    {
     "name": "stderr",
     "output_type": "stream",
     "text": [
      "0% [##########################] 100% | ETA: 00:00:00\n",
      "Total time elapsed: 00:03:25\n"
     ]
    },
    {
     "name": "stdout",
     "output_type": "stream",
     "text": [
      "------ Calculating LCA results for 2060...\n"
     ]
    },
    {
     "name": "stderr",
     "output_type": "stream",
     "text": [
      "0% [##########################] 100% | ETA: 00:00:00\n",
      "Total time elapsed: 00:04:29\n"
     ]
    },
    {
     "name": "stdout",
     "output_type": "stream",
     "text": [
      "------ Calculating LCA results for 2070...\n"
     ]
    },
    {
     "name": "stderr",
     "output_type": "stream",
     "text": [
      "0% [##########################] 100% | ETA: 00:00:00\n",
      "Total time elapsed: 00:05:29\n"
     ]
    },
    {
     "name": "stdout",
     "output_type": "stream",
     "text": [
      "------ Calculating LCA results for 2080...\n"
     ]
    },
    {
     "name": "stderr",
     "output_type": "stream",
     "text": [
      "0% [##########################] 100% | ETA: 00:00:00\n",
      "Total time elapsed: 00:05:31\n"
     ]
    },
    {
     "name": "stdout",
     "output_type": "stream",
     "text": [
      "------ Calculating LCA results for 2090...\n"
     ]
    },
    {
     "name": "stderr",
     "output_type": "stream",
     "text": [
      "0% [##########################] 100% | ETA: 00:00:00\n",
      "Total time elapsed: 00:05:47\n"
     ]
    },
    {
     "name": "stdout",
     "output_type": "stream",
     "text": [
      "------ Calculating LCA results for 2100...\n"
     ]
    },
    {
     "name": "stderr",
     "output_type": "stream",
     "text": [
      "0% [##########################] 100% | ETA: 00:00:00\n",
      "Total time elapsed: 00:21:44\n"
     ]
    }
   ],
   "source": [
    "import numpy as np\n",
    "p.calculate(\n",
    "    methods=[\n",
    "    #    #'EF v3.1 - acidification - accumulated exceedance (AE)',\n",
    "        'EF v3.1 - climate change - global warming potential (GWP100)',\n",
    "        'RELICS - metals extraction - Lithium',\n",
    "    ],\n",
    "    regions=[r for r in p.scenarios.coords[\"region\"].values if r!=\"World\"],\n",
    "    #regions=[\"WEU\",],\n",
    "    scenarios=[\"SSP2-RCP19\",],\n",
    "    variables=[x for x in p.scenarios.coords[\"variables\"].values if any(x.startswith(y) for y in [\"Heating\", \"Industry\", \"Transport\"])],\n",
    "    #years=[2005, 2020, 2050, 2070, 2100],\n",
    "    characterization=True,\n",
    "    #flows=[\"Lithium - natural resource - in ground - kilogram\",],\n",
    "    #data_type=np.float32,\n",
    "    multiprocessing=False,\n",
    "    demand_cutoff=0.1,\n",
    ")"
   ]
  },
  {
   "cell_type": "code",
   "execution_count": 4,
   "id": "4d72753f-9af7-41ea-b3fa-962ae9145f95",
   "metadata": {},
   "outputs": [],
   "source": [
    "p.lca_results.to_netcdf('p data.nc')"
   ]
  },
  {
   "cell_type": "code",
   "execution_count": 3,
   "id": "3afde6b6-645f-4566-97e2-4b39b8045465",
   "metadata": {},
   "outputs": [],
   "source": [
    "import xarray as xr\n",
    "lca_results = xr.open_dataarray(\"p data.nc\")"
   ]
  },
  {
   "cell_type": "code",
   "execution_count": 4,
   "id": "fae5d299-95ab-4f6a-a815-58f449c71aee",
   "metadata": {},
   "outputs": [],
   "source": [
    "lca_results = lca_results.sum(dim=\"act_category\")"
   ]
  },
  {
   "cell_type": "code",
   "execution_count": 8,
   "id": "4983e0c7-3ac9-4cdc-8d5a-c6fb39ee967f",
   "metadata": {},
   "outputs": [],
   "source": [
    "import numpy as np\n",
    "lca_results.loc[dict(year=[2015, 2025, 2035, 2045])] = np.nan"
   ]
  },
  {
   "cell_type": "code",
   "execution_count": 11,
   "id": "f31b4d24-42e3-46de-aa0e-29ddfd5b95da",
   "metadata": {},
   "outputs": [],
   "source": [
    "lca_results = lca_results.interpolate_na(dim=\"year\")"
   ]
  },
  {
   "cell_type": "code",
   "execution_count": 12,
   "id": "383cea1f-bd89-4911-a3e3-0085e95a8b71",
   "metadata": {},
   "outputs": [],
   "source": [
    "lca_results = lca_results.interp(\n",
    "    year=np.arange(lca_results.year.min(), lca_results.year.max() + 1,),\n",
    "    kwargs={\"fill_value\": \"interpolate\"},\n",
    "    method=\"linear\",\n",
    ")"
   ]
  },
  {
   "cell_type": "code",
   "execution_count": 14,
   "id": "0f4bde54-2c75-46f0-94c0-07014a3e9054",
   "metadata": {},
   "outputs": [],
   "source": [
    "df = lca_results.to_dataframe(\"value\")"
   ]
  },
  {
   "cell_type": "code",
   "execution_count": 1,
   "id": "c744f278-aaa9-408a-bfbf-5dbc1f692285",
   "metadata": {},
   "outputs": [
    {
     "ename": "NameError",
     "evalue": "name 'p' is not defined",
     "output_type": "error",
     "traceback": [
      "\u001b[0;31m---------------------------------------------------------------------------\u001b[0m",
      "\u001b[0;31mNameError\u001b[0m                                 Traceback (most recent call last)",
      "Cell \u001b[0;32mIn[1], line 1\u001b[0m\n\u001b[0;32m----> 1\u001b[0m arr \u001b[38;5;241m=\u001b[39m \u001b[43mp\u001b[49m\u001b[38;5;241m.\u001b[39mdisplay_results()\n",
      "\u001b[0;31mNameError\u001b[0m: name 'p' is not defined"
     ]
    }
   ],
   "source": [
    "arr = p.display_results()"
   ]
  },
  {
   "cell_type": "code",
   "execution_count": null,
   "id": "dc1903c8-9e0a-43ce-ac5b-cef7952eb152",
   "metadata": {},
   "outputs": [],
   "source": [
    "arr = arr.sum(dim=\"act_category\")"
   ]
  },
  {
   "cell_type": "code",
   "execution_count": null,
   "id": "0e32dc3c-9f0b-4a45-b2a0-114c314f2771",
   "metadata": {},
   "outputs": [],
   "source": [
    "arr.to_netcdf('data.nc')"
   ]
  },
  {
   "cell_type": "code",
   "execution_count": 3,
   "id": "9958409e-1e04-4548-a08b-49b111a7c114",
   "metadata": {},
   "outputs": [],
   "source": []
  },
  {
   "cell_type": "code",
   "execution_count": 4,
   "id": "0d02f286-cb21-4b46-94f4-022e3ae4c9ae",
   "metadata": {},
   "outputs": [],
   "source": [
    "arr = xr.open_dataarray(\"data.nc\")"
   ]
  },
  {
   "cell_type": "code",
   "execution_count": 5,
   "id": "5a6e946a-0b6a-4059-ae06-6d25dcc94c9a",
   "metadata": {},
   "outputs": [],
   "source": [
    "arr = arr.interp(\n",
    "    year=np.arange(arr.year.min(), arr.year.max() + 1,),\n",
    "    kwargs={\"fill_value\": \"interpolate\"},\n",
    "    method=\"linear\",\n",
    ")"
   ]
  },
  {
   "cell_type": "code",
   "execution_count": 6,
   "id": "21434870-34fa-434c-91ec-40cbc8aea39c",
   "metadata": {},
   "outputs": [],
   "source": [
    "df = arr.to_dataframe(\"value\")"
   ]
  },
  {
   "cell_type": "code",
   "execution_count": 15,
   "id": "9e187610-3d3d-4998-a5de-9a88049ae031",
   "metadata": {},
   "outputs": [
    {
     "data": {
      "text/plain": [
       "173836416"
      ]
     },
     "execution_count": 15,
     "metadata": {},
     "output_type": "execute_result"
    }
   ],
   "source": [
    "len(df)"
   ]
  },
  {
   "cell_type": "code",
   "execution_count": 16,
   "id": "7a8e3d53-89f2-4cd3-b957-516c0206b653",
   "metadata": {},
   "outputs": [],
   "source": [
    "df = df[df[\"value\"]!=0.0]\n",
    "df = df[~df[\"value\"].isnull()]"
   ]
  },
  {
   "cell_type": "code",
   "execution_count": 17,
   "id": "10253a05-a90d-4cc6-851b-d28ce89188cb",
   "metadata": {},
   "outputs": [
    {
     "data": {
      "text/plain": [
       "1823094"
      ]
     },
     "execution_count": 17,
     "metadata": {},
     "output_type": "execute_result"
    }
   ],
   "source": [
    "len(df)"
   ]
  },
  {
   "cell_type": "code",
   "execution_count": 18,
   "id": "aff3301d-4731-4802-97c0-ed88226cd58b",
   "metadata": {},
   "outputs": [],
   "source": [
    "df=df.reset_index()"
   ]
  },
  {
   "cell_type": "code",
   "execution_count": 19,
   "id": "998d8893-98af-4299-b1eb-10ef3a8c7c7c",
   "metadata": {},
   "outputs": [
    {
     "data": {
      "text/html": [
       "<div>\n",
       "<style scoped>\n",
       "    .dataframe tbody tr th:only-of-type {\n",
       "        vertical-align: middle;\n",
       "    }\n",
       "\n",
       "    .dataframe tbody tr th {\n",
       "        vertical-align: top;\n",
       "    }\n",
       "\n",
       "    .dataframe thead th {\n",
       "        text-align: right;\n",
       "    }\n",
       "</style>\n",
       "<table border=\"1\" class=\"dataframe\">\n",
       "  <thead>\n",
       "    <tr style=\"text-align: right;\">\n",
       "      <th></th>\n",
       "      <th>variable</th>\n",
       "      <th>year</th>\n",
       "      <th>region</th>\n",
       "      <th>location</th>\n",
       "      <th>model</th>\n",
       "      <th>scenario</th>\n",
       "      <th>impact_category</th>\n",
       "      <th>value</th>\n",
       "    </tr>\n",
       "  </thead>\n",
       "  <tbody>\n",
       "    <tr>\n",
       "      <th>0</th>\n",
       "      <td>Industry_Food and Tobacco_Solid biomass</td>\n",
       "      <td>2005</td>\n",
       "      <td>BRA</td>\n",
       "      <td>ME</td>\n",
       "      <td>image</td>\n",
       "      <td>SSP2-RCP19</td>\n",
       "      <td>EF v3.1 - climate change - global warming pote...</td>\n",
       "      <td>2.439076e+06</td>\n",
       "    </tr>\n",
       "    <tr>\n",
       "      <th>1</th>\n",
       "      <td>Industry_Food and Tobacco_Solid biomass</td>\n",
       "      <td>2005</td>\n",
       "      <td>BRA</td>\n",
       "      <td>SAF</td>\n",
       "      <td>image</td>\n",
       "      <td>SSP2-RCP19</td>\n",
       "      <td>EF v3.1 - climate change - global warming pote...</td>\n",
       "      <td>1.882817e+06</td>\n",
       "    </tr>\n",
       "    <tr>\n",
       "      <th>2</th>\n",
       "      <td>Industry_Food and Tobacco_Solid biomass</td>\n",
       "      <td>2005</td>\n",
       "      <td>BRA</td>\n",
       "      <td>KZ</td>\n",
       "      <td>image</td>\n",
       "      <td>SSP2-RCP19</td>\n",
       "      <td>EF v3.1 - climate change - global warming pote...</td>\n",
       "      <td>3.977986e+05</td>\n",
       "    </tr>\n",
       "    <tr>\n",
       "      <th>3</th>\n",
       "      <td>Industry_Food and Tobacco_Solid biomass</td>\n",
       "      <td>2005</td>\n",
       "      <td>BRA</td>\n",
       "      <td>CN-QH</td>\n",
       "      <td>image</td>\n",
       "      <td>SSP2-RCP19</td>\n",
       "      <td>EF v3.1 - climate change - global warming pote...</td>\n",
       "      <td>2.453483e+05</td>\n",
       "    </tr>\n",
       "    <tr>\n",
       "      <th>4</th>\n",
       "      <td>Industry_Food and Tobacco_Solid biomass</td>\n",
       "      <td>2005</td>\n",
       "      <td>BRA</td>\n",
       "      <td>PT</td>\n",
       "      <td>image</td>\n",
       "      <td>SSP2-RCP19</td>\n",
       "      <td>EF v3.1 - climate change - global warming pote...</td>\n",
       "      <td>1.288394e+07</td>\n",
       "    </tr>\n",
       "  </tbody>\n",
       "</table>\n",
       "</div>"
      ],
      "text/plain": [
       "                                  variable  year region location  model  \\\n",
       "0  Industry_Food and Tobacco_Solid biomass  2005    BRA       ME  image   \n",
       "1  Industry_Food and Tobacco_Solid biomass  2005    BRA      SAF  image   \n",
       "2  Industry_Food and Tobacco_Solid biomass  2005    BRA       KZ  image   \n",
       "3  Industry_Food and Tobacco_Solid biomass  2005    BRA    CN-QH  image   \n",
       "4  Industry_Food and Tobacco_Solid biomass  2005    BRA       PT  image   \n",
       "\n",
       "     scenario                                    impact_category         value  \n",
       "0  SSP2-RCP19  EF v3.1 - climate change - global warming pote...  2.439076e+06  \n",
       "1  SSP2-RCP19  EF v3.1 - climate change - global warming pote...  1.882817e+06  \n",
       "2  SSP2-RCP19  EF v3.1 - climate change - global warming pote...  3.977986e+05  \n",
       "3  SSP2-RCP19  EF v3.1 - climate change - global warming pote...  2.453483e+05  \n",
       "4  SSP2-RCP19  EF v3.1 - climate change - global warming pote...  1.288394e+07  "
      ]
     },
     "execution_count": 19,
     "metadata": {},
     "output_type": "execute_result"
    }
   ],
   "source": [
    "df.head()"
   ]
  },
  {
   "cell_type": "code",
   "execution_count": 20,
   "id": "1de1d921-4156-46b8-9113-f94214320f50",
   "metadata": {},
   "outputs": [],
   "source": [
    "from premise.geomap import Geomap\n",
    "geo = Geomap(\"image\")"
   ]
  },
  {
   "cell_type": "code",
   "execution_count": 21,
   "id": "57b097ed-0108-4d62-8aaf-0a3d7c76fc48",
   "metadata": {},
   "outputs": [],
   "source": [
    "d = {\n",
    "    loc: geo.ecoinvent_to_iam_location(loc)\n",
    "    for loc in df[\"location\"].unique()\n",
    "}"
   ]
  },
  {
   "cell_type": "code",
   "execution_count": 22,
   "id": "c0b92aed-c162-4f5a-b200-512452d5157e",
   "metadata": {},
   "outputs": [],
   "source": [
    "df[\"region from\"] = df[\"location\"].map(d)"
   ]
  },
  {
   "cell_type": "code",
   "execution_count": 23,
   "id": "829eef08-5bc8-4ee3-8d51-fd55e2beb2b0",
   "metadata": {},
   "outputs": [],
   "source": [
    "df = df.drop('location', axis=1)"
   ]
  },
  {
   "cell_type": "code",
   "execution_count": 24,
   "id": "11c1861f-1a2b-49f6-a1be-94680d5a6b30",
   "metadata": {},
   "outputs": [],
   "source": [
    "df = df.groupby([\n",
    "    'variable', 'year', 'region', 'model', 'scenario', 'impact_category', 'region from'\n",
    "]).sum().reset_index()"
   ]
  },
  {
   "cell_type": "code",
   "execution_count": 25,
   "id": "9acd0483-a477-4250-a28a-aa0d2f510509",
   "metadata": {},
   "outputs": [
    {
     "data": {
      "text/plain": [
       "189038"
      ]
     },
     "execution_count": 25,
     "metadata": {},
     "output_type": "execute_result"
    }
   ],
   "source": [
    "len(df)"
   ]
  },
  {
   "cell_type": "code",
   "execution_count": 26,
   "id": "5b5dde7a-3eb9-4f1d-997e-3c6310e76580",
   "metadata": {},
   "outputs": [],
   "source": [
    "df[\"impact_category\"] = df[\"impact_category\"].str.replace(\"RELICS - metals extraction - \", \"\")\n",
    "df[\"impact_category\"] = df[\"impact_category\"].str.replace(\"EF v3.1 - climate change - global warming potential (GWP100)\", \"climate change\")"
   ]
  },
  {
   "cell_type": "code",
   "execution_count": 27,
   "id": "3361c4c8-c006-4f09-85f4-9d50c10f327f",
   "metadata": {},
   "outputs": [
    {
     "data": {
      "text/plain": [
       "189038"
      ]
     },
     "execution_count": 27,
     "metadata": {},
     "output_type": "execute_result"
    }
   ],
   "source": [
    "len(df)"
   ]
  },
  {
   "cell_type": "code",
   "execution_count": 28,
   "id": "87646c30-91c9-4dcf-b4a0-a52471634580",
   "metadata": {},
   "outputs": [
    {
     "data": {
      "text/html": [
       "\n",
       "        <iframe\n",
       "            width=\"100%\"\n",
       "            height=\"500\"\n",
       "            src=\"pivottable_metals.html\"\n",
       "            frameborder=\"0\"\n",
       "            allowfullscreen\n",
       "            \n",
       "        ></iframe>\n",
       "        "
      ],
      "text/plain": [
       "<IPython.lib.display.IFrame at 0x1082fea40>"
      ]
     },
     "execution_count": 28,
     "metadata": {},
     "output_type": "execute_result"
    }
   ],
   "source": [
    "from pivottablejs import pivot_ui\n",
    "from IPython.display import HTML\n",
    "pivot_ui(df, outfile_path='pivottable_metals.html')"
   ]
  },
  {
   "cell_type": "code",
   "execution_count": 38,
   "id": "1a20734d-fa1f-4daa-99c7-ac57ad5deb4f",
   "metadata": {},
   "outputs": [
    {
     "name": "stderr",
     "output_type": "stream",
     "text": [
      "/Users/romain/anaconda3/envs/premise/lib/python3.10/site-packages/scikits/umfpack/umfpack.py:736: UmfpackWarning: (almost) singular matrix! (estimated cond. number: 1.55e+12)\n",
      "  warnings.warn(msg, UmfpackWarning)\n",
      "[  4 %] Time elapsed: 00:00:16 | ETA: 00:06:26"
     ]
    },
    {
     "ename": "KeyboardInterrupt",
     "evalue": "",
     "output_type": "error",
     "traceback": [
      "\u001b[0;31m---------------------------------------------------------------------------\u001b[0m",
      "\u001b[0;31mKeyboardInterrupt\u001b[0m                         Traceback (most recent call last)",
      "Cell \u001b[0;32mIn[38], line 10\u001b[0m\n\u001b[1;32m      7\u001b[0m lca\u001b[38;5;241m.\u001b[39mlci(factorize\u001b[38;5;241m=\u001b[39m\u001b[38;5;28;01mTrue\u001b[39;00m)\n\u001b[1;32m      9\u001b[0m \u001b[38;5;28;01mfor\u001b[39;00m ds \u001b[38;5;129;01min\u001b[39;00m pyprind\u001b[38;5;241m.\u001b[39mprog_percent(bw2data\u001b[38;5;241m.\u001b[39mDatabase(\u001b[38;5;124m\"\u001b[39m\u001b[38;5;124mecoinvent 3.9.1 cutoff\u001b[39m\u001b[38;5;124m\"\u001b[39m)):\n\u001b[0;32m---> 10\u001b[0m     \u001b[43mlca\u001b[49m\u001b[38;5;241;43m.\u001b[39;49m\u001b[43mredo_lci\u001b[49m\u001b[43m(\u001b[49m\u001b[43m{\u001b[49m\u001b[43mds\u001b[49m\u001b[43m:\u001b[49m\u001b[43m \u001b[49m\u001b[38;5;241;43m1\u001b[39;49m\u001b[43m}\u001b[49m\u001b[43m)\u001b[49m\n",
      "File \u001b[0;32m~/anaconda3/envs/premise/lib/python3.10/site-packages/bw2calc/lca.py:515\u001b[0m, in \u001b[0;36mLCA.redo_lci\u001b[0;34m(self, demand)\u001b[0m\n\u001b[1;32m    513\u001b[0m     \u001b[38;5;28mself\u001b[39m\u001b[38;5;241m.\u001b[39mbuild_demand_array(demand)\n\u001b[1;32m    514\u001b[0m     \u001b[38;5;28mself\u001b[39m\u001b[38;5;241m.\u001b[39mdemand \u001b[38;5;241m=\u001b[39m demand\n\u001b[0;32m--> 515\u001b[0m \u001b[38;5;28;43mself\u001b[39;49m\u001b[38;5;241;43m.\u001b[39;49m\u001b[43mlci_calculation\u001b[49m\u001b[43m(\u001b[49m\u001b[43m)\u001b[49m\n\u001b[1;32m    516\u001b[0m \u001b[38;5;28mself\u001b[39m\u001b[38;5;241m.\u001b[39mlogger\u001b[38;5;241m.\u001b[39minfo(\u001b[38;5;124m\"\u001b[39m\u001b[38;5;124mRedoing LCI\u001b[39m\u001b[38;5;124m\"\u001b[39m, extra\u001b[38;5;241m=\u001b[39m{\u001b[38;5;124m'\u001b[39m\u001b[38;5;124mdemand\u001b[39m\u001b[38;5;124m'\u001b[39m: wrap_functional_unit(demand \u001b[38;5;129;01mor\u001b[39;00m \u001b[38;5;28mself\u001b[39m\u001b[38;5;241m.\u001b[39mdemand)})\n",
      "File \u001b[0;32m~/anaconda3/envs/premise/lib/python3.10/site-packages/bw2calc/lca.py:350\u001b[0m, in \u001b[0;36mLCA.lci_calculation\u001b[0;34m(self)\u001b[0m\n\u001b[1;32m    344\u001b[0m \u001b[38;5;28;01mdef\u001b[39;00m \u001b[38;5;21mlci_calculation\u001b[39m(\u001b[38;5;28mself\u001b[39m):\n\u001b[1;32m    345\u001b[0m \u001b[38;5;250m    \u001b[39m\u001b[38;5;124;03m\"\"\"The actual LCI calculation.\u001b[39;00m\n\u001b[1;32m    346\u001b[0m \n\u001b[1;32m    347\u001b[0m \u001b[38;5;124;03m    Separated from ``lci`` to be reusable in cases where the matrices are already built, e.g. ``redo_lci`` and Monte Carlo classes.\u001b[39;00m\n\u001b[1;32m    348\u001b[0m \n\u001b[1;32m    349\u001b[0m \u001b[38;5;124;03m    \"\"\"\u001b[39;00m\n\u001b[0;32m--> 350\u001b[0m     \u001b[38;5;28mself\u001b[39m\u001b[38;5;241m.\u001b[39msupply_array \u001b[38;5;241m=\u001b[39m \u001b[38;5;28;43mself\u001b[39;49m\u001b[38;5;241;43m.\u001b[39;49m\u001b[43msolve_linear_system\u001b[49m\u001b[43m(\u001b[49m\u001b[43m)\u001b[49m\n\u001b[1;32m    351\u001b[0m     \u001b[38;5;66;03m# Turn 1-d array into diagonal matrix\u001b[39;00m\n\u001b[1;32m    352\u001b[0m     count \u001b[38;5;241m=\u001b[39m \u001b[38;5;28mlen\u001b[39m(\u001b[38;5;28mself\u001b[39m\u001b[38;5;241m.\u001b[39mactivity_dict)\n",
      "File \u001b[0;32m~/anaconda3/envs/premise/lib/python3.10/site-packages/bw2calc/lca.py:314\u001b[0m, in \u001b[0;36mLCA.solve_linear_system\u001b[0;34m(self)\u001b[0m\n\u001b[1;32m    301\u001b[0m \u001b[38;5;250m        \u001b[39m\u001b[38;5;124;03m\"\"\"\u001b[39;00m\n\u001b[1;32m    302\u001b[0m \u001b[38;5;124;03mMaster solution function for linear system :math:`Ax=B`.\u001b[39;00m\n\u001b[1;32m    303\u001b[0m \n\u001b[0;32m   (...)\u001b[0m\n\u001b[1;32m    311\u001b[0m \n\u001b[1;32m    312\u001b[0m \u001b[38;5;124;03m        \"\"\"\u001b[39;00m\n\u001b[1;32m    313\u001b[0m         \u001b[38;5;28;01mif\u001b[39;00m \u001b[38;5;28mhasattr\u001b[39m(\u001b[38;5;28mself\u001b[39m, \u001b[38;5;124m\"\u001b[39m\u001b[38;5;124msolver\u001b[39m\u001b[38;5;124m\"\u001b[39m):\n\u001b[0;32m--> 314\u001b[0m             \u001b[38;5;28;01mreturn\u001b[39;00m \u001b[38;5;28;43mself\u001b[39;49m\u001b[38;5;241;43m.\u001b[39;49m\u001b[43msolver\u001b[49m\u001b[43m(\u001b[49m\u001b[38;5;28;43mself\u001b[39;49m\u001b[38;5;241;43m.\u001b[39;49m\u001b[43mdemand_array\u001b[49m\u001b[43m)\u001b[49m\n\u001b[1;32m    315\u001b[0m         \u001b[38;5;28;01melse\u001b[39;00m:\n\u001b[1;32m    316\u001b[0m             \u001b[38;5;28;01mreturn\u001b[39;00m spsolve(\n\u001b[1;32m    317\u001b[0m                 \u001b[38;5;28mself\u001b[39m\u001b[38;5;241m.\u001b[39mtechnosphere_matrix,\n\u001b[1;32m    318\u001b[0m                 \u001b[38;5;28mself\u001b[39m\u001b[38;5;241m.\u001b[39mdemand_array)\n",
      "File \u001b[0;32m~/anaconda3/envs/premise/lib/python3.10/site-packages/scipy/sparse/linalg/_dsolve/linsolve.py:596\u001b[0m, in \u001b[0;36mfactorized.<locals>.solve\u001b[0;34m(b)\u001b[0m\n\u001b[1;32m    593\u001b[0m \u001b[38;5;28;01mdef\u001b[39;00m \u001b[38;5;21msolve\u001b[39m(b):\n\u001b[1;32m    594\u001b[0m     \u001b[38;5;28;01mwith\u001b[39;00m np\u001b[38;5;241m.\u001b[39merrstate(divide\u001b[38;5;241m=\u001b[39m\u001b[38;5;124m\"\u001b[39m\u001b[38;5;124mignore\u001b[39m\u001b[38;5;124m\"\u001b[39m, invalid\u001b[38;5;241m=\u001b[39m\u001b[38;5;124m\"\u001b[39m\u001b[38;5;124mignore\u001b[39m\u001b[38;5;124m\"\u001b[39m):\n\u001b[1;32m    595\u001b[0m         \u001b[38;5;66;03m# Ignoring warnings with numpy >= 1.23.0, see gh-16523\u001b[39;00m\n\u001b[0;32m--> 596\u001b[0m         result \u001b[38;5;241m=\u001b[39m \u001b[43mumf\u001b[49m\u001b[38;5;241;43m.\u001b[39;49m\u001b[43msolve\u001b[49m\u001b[43m(\u001b[49m\u001b[43mumfpack\u001b[49m\u001b[38;5;241;43m.\u001b[39;49m\u001b[43mUMFPACK_A\u001b[49m\u001b[43m,\u001b[49m\u001b[43m \u001b[49m\u001b[43mA\u001b[49m\u001b[43m,\u001b[49m\u001b[43m \u001b[49m\u001b[43mb\u001b[49m\u001b[43m,\u001b[49m\u001b[43m \u001b[49m\u001b[43mautoTranspose\u001b[49m\u001b[38;5;241;43m=\u001b[39;49m\u001b[38;5;28;43;01mTrue\u001b[39;49;00m\u001b[43m)\u001b[49m\n\u001b[1;32m    598\u001b[0m     \u001b[38;5;28;01mreturn\u001b[39;00m result\n",
      "File \u001b[0;32m~/anaconda3/envs/premise/lib/python3.10/site-packages/scikits/umfpack/umfpack.py:709\u001b[0m, in \u001b[0;36mUmfpackContext.solve\u001b[0;34m(self, sys, mtx, rhs, autoTranspose)\u001b[0m\n\u001b[1;32m    707\u001b[0m     rhs \u001b[38;5;241m=\u001b[39m rhs\u001b[38;5;241m.\u001b[39mastype(np\u001b[38;5;241m.\u001b[39mfloat64)\n\u001b[1;32m    708\u001b[0m     sol \u001b[38;5;241m=\u001b[39m np\u001b[38;5;241m.\u001b[39mzeros((mtx\u001b[38;5;241m.\u001b[39mshape[\u001b[38;5;241m1\u001b[39m],), dtype\u001b[38;5;241m=\u001b[39mnp\u001b[38;5;241m.\u001b[39mfloat64)\n\u001b[0;32m--> 709\u001b[0m     status \u001b[38;5;241m=\u001b[39m \u001b[38;5;28;43mself\u001b[39;49m\u001b[38;5;241;43m.\u001b[39;49m\u001b[43mfuns\u001b[49m\u001b[38;5;241;43m.\u001b[39;49m\u001b[43msolve\u001b[49m\u001b[43m(\u001b[49m\u001b[43msys\u001b[49m\u001b[43m,\u001b[49m\u001b[43m \u001b[49m\u001b[43mmtx\u001b[49m\u001b[38;5;241;43m.\u001b[39;49m\u001b[43mindptr\u001b[49m\u001b[43m,\u001b[49m\u001b[43m \u001b[49m\u001b[43mindx\u001b[49m\u001b[43m,\u001b[49m\u001b[43m \u001b[49m\u001b[43mmtx\u001b[49m\u001b[38;5;241;43m.\u001b[39;49m\u001b[43mdata\u001b[49m\u001b[43m,\u001b[49m\u001b[43m \u001b[49m\u001b[43msol\u001b[49m\u001b[43m,\u001b[49m\u001b[43m \u001b[49m\u001b[43mrhs\u001b[49m\u001b[43m,\u001b[49m\n\u001b[1;32m    710\u001b[0m \u001b[43m                              \u001b[49m\u001b[38;5;28;43mself\u001b[39;49m\u001b[38;5;241;43m.\u001b[39;49m\u001b[43m_numeric\u001b[49m\u001b[43m,\u001b[49m\u001b[43m \u001b[49m\u001b[38;5;28;43mself\u001b[39;49m\u001b[38;5;241;43m.\u001b[39;49m\u001b[43mcontrol\u001b[49m\u001b[43m,\u001b[49m\u001b[43m \u001b[49m\u001b[38;5;28;43mself\u001b[39;49m\u001b[38;5;241;43m.\u001b[39;49m\u001b[43minfo\u001b[49m\u001b[43m)\u001b[49m\n\u001b[1;32m    711\u001b[0m \u001b[38;5;28;01melse\u001b[39;00m:\n\u001b[1;32m    712\u001b[0m     rhs \u001b[38;5;241m=\u001b[39m rhs\u001b[38;5;241m.\u001b[39mastype(np\u001b[38;5;241m.\u001b[39mcomplex128)\n",
      "File \u001b[0;32m~/anaconda3/envs/premise/lib/python3.10/site-packages/scikits/umfpack/_umfpack.py:412\u001b[0m, in \u001b[0;36mumfpack_dl_solve\u001b[0;34m(sys, Ap, Ai, Ax, X, B, Numeric, Control, Info)\u001b[0m\n\u001b[1;32m    410\u001b[0m \u001b[38;5;28;01mdef\u001b[39;00m \u001b[38;5;21mumfpack_dl_solve\u001b[39m(sys, Ap, Ai, Ax, X, B, Numeric, Control, Info):\n\u001b[1;32m    411\u001b[0m \u001b[38;5;250m    \u001b[39m\u001b[38;5;124mr\u001b[39m\u001b[38;5;124;03m\"\"\"umfpack_dl_solve(SuiteSparse_long sys, SuiteSparse_long const [] Ap, SuiteSparse_long const [] Ai, double const [] Ax, double [] X, double const [] B, void * Numeric, double const [20] Control, double [90] Info) -> SuiteSparse_long\"\"\"\u001b[39;00m\n\u001b[0;32m--> 412\u001b[0m     \u001b[38;5;28;01mreturn\u001b[39;00m \u001b[43m__umfpack\u001b[49m\u001b[38;5;241;43m.\u001b[39;49m\u001b[43mumfpack_dl_solve\u001b[49m\u001b[43m(\u001b[49m\u001b[43msys\u001b[49m\u001b[43m,\u001b[49m\u001b[43m \u001b[49m\u001b[43mAp\u001b[49m\u001b[43m,\u001b[49m\u001b[43m \u001b[49m\u001b[43mAi\u001b[49m\u001b[43m,\u001b[49m\u001b[43m \u001b[49m\u001b[43mAx\u001b[49m\u001b[43m,\u001b[49m\u001b[43m \u001b[49m\u001b[43mX\u001b[49m\u001b[43m,\u001b[49m\u001b[43m \u001b[49m\u001b[43mB\u001b[49m\u001b[43m,\u001b[49m\u001b[43m \u001b[49m\u001b[43mNumeric\u001b[49m\u001b[43m,\u001b[49m\u001b[43m \u001b[49m\u001b[43mControl\u001b[49m\u001b[43m,\u001b[49m\u001b[43m \u001b[49m\u001b[43mInfo\u001b[49m\u001b[43m)\u001b[49m\n",
      "\u001b[0;31mKeyboardInterrupt\u001b[0m: "
     ]
    }
   ],
   "source": [
    "import bw2io, bw2data, bw2calc\n",
    "import pyprind\n",
    "\n",
    "bw2data.projects.set_current(\"ei39\")\n",
    "\n",
    "lca = bw2calc.LCA({bw2data.Database(\"ecoinvent 3.9.1 cutoff\").random():1})\n",
    "lca.lci(factorize=True)\n",
    "\n",
    "for ds in pyprind.prog_percent(bw2data.Database(\"ecoinvent 3.9.1 cutoff\")):\n",
    "    lca.redo_lci({ds: 1})\n",
    "    "
   ]
  },
  {
   "cell_type": "code",
   "execution_count": 30,
   "id": "701b3907-31d8-4329-9693-fdbf66ccffd2",
   "metadata": {},
   "outputs": [],
   "source": []
  },
  {
   "cell_type": "code",
   "execution_count": 35,
   "id": "075d714d-af35-446b-8fd4-bef7d9343210",
   "metadata": {},
   "outputs": [
    {
     "name": "stderr",
     "output_type": "stream",
     "text": [
      "/Users/romain/anaconda3/envs/premise/lib/python3.10/site-packages/scikits/umfpack/umfpack.py:736: UmfpackWarning: (almost) singular matrix! (estimated cond. number: 3.58e+13)\n",
      "  warnings.warn(msg, UmfpackWarning)\n",
      "[  0 %] Time elapsed: 00:01:25 | ETA: 03:09:25"
     ]
    },
    {
     "ename": "KeyboardInterrupt",
     "evalue": "",
     "output_type": "error",
     "traceback": [
      "\u001b[0;31m---------------------------------------------------------------------------\u001b[0m",
      "\u001b[0;31mKeyboardInterrupt\u001b[0m                         Traceback (most recent call last)",
      "Cell \u001b[0;32mIn[35], line 6\u001b[0m\n\u001b[1;32m      4\u001b[0m fu \u001b[38;5;241m=\u001b[39m {ds:\u001b[38;5;241m1\u001b[39m}\n\u001b[1;32m      5\u001b[0m lca \u001b[38;5;241m=\u001b[39m bw2calc\u001b[38;5;241m.\u001b[39mLCA(fu)\n\u001b[0;32m----> 6\u001b[0m \u001b[43mlca\u001b[49m\u001b[38;5;241;43m.\u001b[39;49m\u001b[43mlci\u001b[49m\u001b[43m(\u001b[49m\u001b[43m)\u001b[49m\n",
      "File \u001b[0;32m~/anaconda3/envs/premise/lib/python3.10/site-packages/bw2calc/lca.py:342\u001b[0m, in \u001b[0;36mLCA.lci\u001b[0;34m(self, factorize, builder)\u001b[0m\n\u001b[1;32m    340\u001b[0m \u001b[38;5;28;01mif\u001b[39;00m factorize:\n\u001b[1;32m    341\u001b[0m     \u001b[38;5;28mself\u001b[39m\u001b[38;5;241m.\u001b[39mdecompose_technosphere()\n\u001b[0;32m--> 342\u001b[0m \u001b[38;5;28;43mself\u001b[39;49m\u001b[38;5;241;43m.\u001b[39;49m\u001b[43mlci_calculation\u001b[49m\u001b[43m(\u001b[49m\u001b[43m)\u001b[49m\n",
      "File \u001b[0;32m~/anaconda3/envs/premise/lib/python3.10/site-packages/bw2calc/lca.py:350\u001b[0m, in \u001b[0;36mLCA.lci_calculation\u001b[0;34m(self)\u001b[0m\n\u001b[1;32m    344\u001b[0m \u001b[38;5;28;01mdef\u001b[39;00m \u001b[38;5;21mlci_calculation\u001b[39m(\u001b[38;5;28mself\u001b[39m):\n\u001b[1;32m    345\u001b[0m \u001b[38;5;250m    \u001b[39m\u001b[38;5;124;03m\"\"\"The actual LCI calculation.\u001b[39;00m\n\u001b[1;32m    346\u001b[0m \n\u001b[1;32m    347\u001b[0m \u001b[38;5;124;03m    Separated from ``lci`` to be reusable in cases where the matrices are already built, e.g. ``redo_lci`` and Monte Carlo classes.\u001b[39;00m\n\u001b[1;32m    348\u001b[0m \n\u001b[1;32m    349\u001b[0m \u001b[38;5;124;03m    \"\"\"\u001b[39;00m\n\u001b[0;32m--> 350\u001b[0m     \u001b[38;5;28mself\u001b[39m\u001b[38;5;241m.\u001b[39msupply_array \u001b[38;5;241m=\u001b[39m \u001b[38;5;28;43mself\u001b[39;49m\u001b[38;5;241;43m.\u001b[39;49m\u001b[43msolve_linear_system\u001b[49m\u001b[43m(\u001b[49m\u001b[43m)\u001b[49m\n\u001b[1;32m    351\u001b[0m     \u001b[38;5;66;03m# Turn 1-d array into diagonal matrix\u001b[39;00m\n\u001b[1;32m    352\u001b[0m     count \u001b[38;5;241m=\u001b[39m \u001b[38;5;28mlen\u001b[39m(\u001b[38;5;28mself\u001b[39m\u001b[38;5;241m.\u001b[39mactivity_dict)\n",
      "File \u001b[0;32m~/anaconda3/envs/premise/lib/python3.10/site-packages/bw2calc/lca.py:316\u001b[0m, in \u001b[0;36mLCA.solve_linear_system\u001b[0;34m(self)\u001b[0m\n\u001b[1;32m    314\u001b[0m     \u001b[38;5;28;01mreturn\u001b[39;00m \u001b[38;5;28mself\u001b[39m\u001b[38;5;241m.\u001b[39msolver(\u001b[38;5;28mself\u001b[39m\u001b[38;5;241m.\u001b[39mdemand_array)\n\u001b[1;32m    315\u001b[0m \u001b[38;5;28;01melse\u001b[39;00m:\n\u001b[0;32m--> 316\u001b[0m     \u001b[38;5;28;01mreturn\u001b[39;00m \u001b[43mspsolve\u001b[49m\u001b[43m(\u001b[49m\n\u001b[1;32m    317\u001b[0m \u001b[43m        \u001b[49m\u001b[38;5;28;43mself\u001b[39;49m\u001b[38;5;241;43m.\u001b[39;49m\u001b[43mtechnosphere_matrix\u001b[49m\u001b[43m,\u001b[49m\n\u001b[1;32m    318\u001b[0m \u001b[43m        \u001b[49m\u001b[38;5;28;43mself\u001b[39;49m\u001b[38;5;241;43m.\u001b[39;49m\u001b[43mdemand_array\u001b[49m\u001b[43m)\u001b[49m\n",
      "File \u001b[0;32m~/anaconda3/envs/premise/lib/python3.10/site-packages/scipy/sparse/linalg/_dsolve/linsolve.py:276\u001b[0m, in \u001b[0;36mspsolve\u001b[0;34m(A, b, permc_spec, use_umfpack)\u001b[0m\n\u001b[1;32m    274\u001b[0m     umf_family, A \u001b[38;5;241m=\u001b[39m _get_umf_family(A)\n\u001b[1;32m    275\u001b[0m     umf \u001b[38;5;241m=\u001b[39m umfpack\u001b[38;5;241m.\u001b[39mUmfpackContext(umf_family)\n\u001b[0;32m--> 276\u001b[0m     x \u001b[38;5;241m=\u001b[39m \u001b[43mumf\u001b[49m\u001b[38;5;241;43m.\u001b[39;49m\u001b[43mlinsolve\u001b[49m\u001b[43m(\u001b[49m\u001b[43mumfpack\u001b[49m\u001b[38;5;241;43m.\u001b[39;49m\u001b[43mUMFPACK_A\u001b[49m\u001b[43m,\u001b[49m\u001b[43m \u001b[49m\u001b[43mA\u001b[49m\u001b[43m,\u001b[49m\u001b[43m \u001b[49m\u001b[43mb_vec\u001b[49m\u001b[43m,\u001b[49m\n\u001b[1;32m    277\u001b[0m \u001b[43m                     \u001b[49m\u001b[43mautoTranspose\u001b[49m\u001b[38;5;241;43m=\u001b[39;49m\u001b[38;5;28;43;01mTrue\u001b[39;49;00m\u001b[43m)\u001b[49m\n\u001b[1;32m    278\u001b[0m \u001b[38;5;28;01melse\u001b[39;00m:\n\u001b[1;32m    279\u001b[0m     \u001b[38;5;28;01mif\u001b[39;00m b_is_vector \u001b[38;5;129;01mand\u001b[39;00m b_is_sparse:\n",
      "File \u001b[0;32m~/anaconda3/envs/premise/lib/python3.10/site-packages/scikits/umfpack/umfpack.py:771\u001b[0m, in \u001b[0;36mUmfpackContext.linsolve\u001b[0;34m(self, sys, mtx, rhs, autoTranspose)\u001b[0m\n\u001b[1;32m    768\u001b[0m     \u001b[38;5;28;01mraise\u001b[39;00m \u001b[38;5;167;01mValueError\u001b[39;00m(\u001b[38;5;124m'\u001b[39m\u001b[38;5;124msys must be in\u001b[39m\u001b[38;5;124m'\u001b[39m \u001b[38;5;241m%\u001b[39m umfSys)\n\u001b[1;32m    770\u001b[0m \u001b[38;5;28;01mif\u001b[39;00m \u001b[38;5;28mself\u001b[39m\u001b[38;5;241m.\u001b[39m_numeric \u001b[38;5;129;01mis\u001b[39;00m \u001b[38;5;28;01mNone\u001b[39;00m:\n\u001b[0;32m--> 771\u001b[0m     \u001b[38;5;28;43mself\u001b[39;49m\u001b[38;5;241;43m.\u001b[39;49m\u001b[43mnumeric\u001b[49m\u001b[43m(\u001b[49m\u001b[43mmtx\u001b[49m\u001b[43m)\u001b[49m\n\u001b[1;32m    772\u001b[0m \u001b[38;5;28;01melse\u001b[39;00m:\n\u001b[1;32m    773\u001b[0m     \u001b[38;5;28;01mif\u001b[39;00m \u001b[38;5;28mself\u001b[39m\u001b[38;5;241m.\u001b[39mmtx \u001b[38;5;129;01mis\u001b[39;00m \u001b[38;5;129;01mnot\u001b[39;00m mtx:\n",
      "File \u001b[0;32m~/anaconda3/envs/premise/lib/python3.10/site-packages/scikits/umfpack/umfpack.py:565\u001b[0m, in \u001b[0;36mUmfpackContext.numeric\u001b[0;34m(self, mtx)\u001b[0m\n\u001b[1;32m    562\u001b[0m \u001b[38;5;28;01mwhile\u001b[39;00m \u001b[38;5;241m1\u001b[39m:\n\u001b[1;32m    563\u001b[0m     \u001b[38;5;28;01mif\u001b[39;00m \u001b[38;5;28mself\u001b[39m\u001b[38;5;241m.\u001b[39misReal:\n\u001b[1;32m    564\u001b[0m         status, \u001b[38;5;28mself\u001b[39m\u001b[38;5;241m.\u001b[39m_numeric\\\n\u001b[0;32m--> 565\u001b[0m                 \u001b[38;5;241m=\u001b[39m \u001b[38;5;28;43mself\u001b[39;49m\u001b[38;5;241;43m.\u001b[39;49m\u001b[43mfuns\u001b[49m\u001b[38;5;241;43m.\u001b[39;49m\u001b[43mnumeric\u001b[49m\u001b[43m(\u001b[49m\u001b[43mmtx\u001b[49m\u001b[38;5;241;43m.\u001b[39;49m\u001b[43mindptr\u001b[49m\u001b[43m,\u001b[49m\u001b[43m \u001b[49m\u001b[43mindx\u001b[49m\u001b[43m,\u001b[49m\u001b[43m \u001b[49m\u001b[43mmtx\u001b[49m\u001b[38;5;241;43m.\u001b[39;49m\u001b[43mdata\u001b[49m\u001b[43m,\u001b[49m\n\u001b[1;32m    566\u001b[0m \u001b[43m                                     \u001b[49m\u001b[38;5;28;43mself\u001b[39;49m\u001b[38;5;241;43m.\u001b[39;49m\u001b[43m_symbolic\u001b[49m\u001b[43m,\u001b[49m\n\u001b[1;32m    567\u001b[0m \u001b[43m                                     \u001b[49m\u001b[38;5;28;43mself\u001b[39;49m\u001b[38;5;241;43m.\u001b[39;49m\u001b[43mcontrol\u001b[49m\u001b[43m,\u001b[49m\u001b[43m \u001b[49m\u001b[38;5;28;43mself\u001b[39;49m\u001b[38;5;241;43m.\u001b[39;49m\u001b[43minfo\u001b[49m\u001b[43m)\u001b[49m\n\u001b[1;32m    568\u001b[0m     \u001b[38;5;28;01melse\u001b[39;00m:\n\u001b[1;32m    569\u001b[0m         real, imag \u001b[38;5;241m=\u001b[39m mtx\u001b[38;5;241m.\u001b[39mdata\u001b[38;5;241m.\u001b[39mreal\u001b[38;5;241m.\u001b[39mcopy(), mtx\u001b[38;5;241m.\u001b[39mdata\u001b[38;5;241m.\u001b[39mimag\u001b[38;5;241m.\u001b[39mcopy()\n",
      "File \u001b[0;32m~/anaconda3/envs/premise/lib/python3.10/site-packages/scikits/umfpack/_umfpack.py:588\u001b[0m, in \u001b[0;36mumfpack_dl_numeric\u001b[0;34m(Ap, Ai, Ax, Symbolic, Control, Info)\u001b[0m\n\u001b[1;32m    586\u001b[0m \u001b[38;5;28;01mdef\u001b[39;00m \u001b[38;5;21mumfpack_dl_numeric\u001b[39m(Ap, Ai, Ax, Symbolic, Control, Info):\n\u001b[1;32m    587\u001b[0m \u001b[38;5;250m    \u001b[39m\u001b[38;5;124mr\u001b[39m\u001b[38;5;124;03m\"\"\"umfpack_dl_numeric(SuiteSparse_long const [] Ap, SuiteSparse_long const [] Ai, double const [] Ax, void * Symbolic, double const [20] Control, double [90] Info) -> SuiteSparse_long\"\"\"\u001b[39;00m\n\u001b[0;32m--> 588\u001b[0m     \u001b[38;5;28;01mreturn\u001b[39;00m \u001b[43m__umfpack\u001b[49m\u001b[38;5;241;43m.\u001b[39;49m\u001b[43mumfpack_dl_numeric\u001b[49m\u001b[43m(\u001b[49m\u001b[43mAp\u001b[49m\u001b[43m,\u001b[49m\u001b[43m \u001b[49m\u001b[43mAi\u001b[49m\u001b[43m,\u001b[49m\u001b[43m \u001b[49m\u001b[43mAx\u001b[49m\u001b[43m,\u001b[49m\u001b[43m \u001b[49m\u001b[43mSymbolic\u001b[49m\u001b[43m,\u001b[49m\u001b[43m \u001b[49m\u001b[43mControl\u001b[49m\u001b[43m,\u001b[49m\u001b[43m \u001b[49m\u001b[43mInfo\u001b[49m\u001b[43m)\u001b[49m\n",
      "\u001b[0;31mKeyboardInterrupt\u001b[0m: "
     ]
    }
   ],
   "source": [
    "\n",
    "\n"
   ]
  },
  {
   "cell_type": "code",
   "execution_count": null,
   "id": "97a206b1-e1d6-4d49-9cd3-5bbe5147edee",
   "metadata": {},
   "outputs": [],
   "source": []
  }
 ],
 "metadata": {
  "kernelspec": {
   "display_name": "Python 3 (ipykernel)",
   "language": "python",
   "name": "python3"
  },
  "language_info": {
   "codemirror_mode": {
    "name": "ipython",
    "version": 3
   },
   "file_extension": ".py",
   "mimetype": "text/x-python",
   "name": "python",
   "nbconvert_exporter": "python",
   "pygments_lexer": "ipython3",
   "version": "3.10.13"
  }
 },
 "nbformat": 4,
 "nbformat_minor": 5
}
