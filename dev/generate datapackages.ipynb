{
 "cells": [
  {
   "cell_type": "code",
   "execution_count": null,
   "id": "6f956f44-5eac-47fc-9097-08c5bae86ecd",
   "metadata": {},
   "outputs": [],
   "source": [
    "from premise import *\n",
    "import bw2data\n",
    "from datapackage import Package\n",
    "bw2data.projects.set_current(\"ei39\")\n",
    "\n",
    "ndb = NewDatabase(\n",
    "    scenarios=[\n",
    "        {\"model\": \"image\",\n",
    "         \"pathway\": \"SSP2-Base\",\n",
    "         \"year\": 2050},\n",
    "    ],\n",
    "    #years=[2005, 2010, 2020, 2030, 2040, 2050, 2060, 2070, 2080, 2090, 2100],\n",
    "    #years=[2020, ],\n",
    "    source_db=\"ecoinvent 3.9.1 cutoff\", # <-- name of the database in the BW2 project. Must be a string.\n",
    "    source_version=\"3.9\", # <-- version of ecoinvent. Can be \"3.5\", \"3.6\", \"3.7\" or \"3.8\". Must be a string.\n",
    "    key=\"tUePmX_S5B8ieZkkM7WUU2CnO8SmShwmAeWK9x2rTFo=\",\n",
    ")\n",
    "ndb.update()\n",
    "ndb.write_db_to_brightway()"
   ]
  },
  {
   "cell_type": "code",
   "execution_count": 1,
   "id": "e7dde1cf-983a-4da5-a7a8-f13054c3f57c",
   "metadata": {},
   "outputs": [
    {
     "name": "stdout",
     "output_type": "stream",
     "text": [
      "premise v.(2, 0, 1)\n",
      "+------------------------------------------------------------------+\n",
      "| Warning                                                          |\n",
      "+------------------------------------------------------------------+\n",
      "| Because some of the scenarios can yield LCI databases            |\n",
      "| containing net negative emission technologies (NET),             |\n",
      "| it is advised to account for biogenic CO2 flows when calculating |\n",
      "| Global Warming potential indicators.                             |\n",
      "| `premise_gwp` provides characterization factors for such flows.  |\n",
      "| It also provides factors for hydrogen emissions to air.          |\n",
      "|                                                                  |\n",
      "| Within your bw2 project:                                         |\n",
      "| from premise_gwp import add_premise_gwp                          |\n",
      "| add_premise_gwp()                                                |\n",
      "+------------------------------------------------------------------+\n",
      "+--------------------------------+----------------------------------+\n",
      "| Utils functions                | Description                      |\n",
      "+--------------------------------+----------------------------------+\n",
      "| clear_cache()                  | Clears the cache folder. Useful  |\n",
      "|                                | when updating `premise`or        |\n",
      "|                                | encountering issues with         |\n",
      "|                                | inventories.                     |\n",
      "+--------------------------------+----------------------------------+\n",
      "| get_regions_definition(model)  | Retrieves the list of countries  |\n",
      "|                                | for each region of the model.    |\n",
      "+--------------------------------+----------------------------------+\n",
      "| ndb.NewDatabase(...)           | Generates a summary of the most  |\n",
      "| ndb.generate_scenario_report() | important scenarios' variables.  |\n",
      "+--------------------------------+----------------------------------+\n",
      "Keep uncertainty data?\n",
      "NewDatabase(..., keep_uncertainty_data=True)\n",
      "\n",
      "Disable multiprocessing?\n",
      "NewDatabase(..., use_multiprocessing=False)\n",
      "\n",
      "Hide these messages?\n",
      "NewDatabase(..., quiet=True)\n",
      "- Extracting source database\n",
      "- Extracting inventories\n",
      "- Fetching IAM data\n",
      "Reading /Users/romain/Library/CloudStorage/Dropbox/Notebooks/IAM-ecoinvent/new image/full data/image_SSP2-RCP19.xlsx as excel file\n",
      "Reading /Users/romain/Library/CloudStorage/Dropbox/Notebooks/IAM-ecoinvent/new image/full data/image_SSP2-RCP19.xlsx as excel file\n",
      "Reading /Users/romain/Library/CloudStorage/Dropbox/Notebooks/IAM-ecoinvent/new image/full data/image_SSP2-RCP19.xlsx as excel file\n",
      "Reading /Users/romain/Library/CloudStorage/Dropbox/Notebooks/IAM-ecoinvent/new image/full data/image_SSP2-RCP19.xlsx as excel file\n",
      "Reading /Users/romain/Library/CloudStorage/Dropbox/Notebooks/IAM-ecoinvent/new image/full data/image_SSP2-RCP19.xlsx as excel file\n",
      "Reading /Users/romain/Library/CloudStorage/Dropbox/Notebooks/IAM-ecoinvent/new image/full data/image_SSP2-RCP19.xlsx as excel file\n",
      "Reading /Users/romain/Library/CloudStorage/Dropbox/Notebooks/IAM-ecoinvent/new image/full data/image_SSP2-RCP19.xlsx as excel file\n",
      "Reading /Users/romain/Library/CloudStorage/Dropbox/Notebooks/IAM-ecoinvent/new image/full data/image_SSP2-RCP19.xlsx as excel file\n",
      "Reading /Users/romain/Library/CloudStorage/Dropbox/Notebooks/IAM-ecoinvent/new image/full data/image_SSP2-RCP19.xlsx as excel file\n",
      "Reading /Users/romain/Library/CloudStorage/Dropbox/Notebooks/IAM-ecoinvent/new image/full data/image_SSP2-RCP19.xlsx as excel file\n",
      "Reading /Users/romain/Library/CloudStorage/Dropbox/Notebooks/IAM-ecoinvent/new image/full data/image_SSP2-RCP19.xlsx as excel file\n",
      "Done!\n"
     ]
    }
   ],
   "source": [
    "from premise import *\n",
    "import bw2data\n",
    "from datapackage import Package\n",
    "bw2data.projects.set_current(\"ei39\")\n",
    "ndb = PathwaysDataPackage(\n",
    "    scenarios=[\n",
    "        {\"model\": \"image\",\n",
    "         \"pathway\": \"SSP2-RCP19\",\n",
    "         \"filepath\": \"/Users/romain/Library/CloudStorage/Dropbox/Notebooks/IAM-ecoinvent/new image/full data\"\n",
    "        },\n",
    "    ],\n",
    "    years=[2005, 2010, 2020, 2030, 2040, 2050, 2060, 2070, 2080, 2090, 2100],\n",
    "    source_db=\"ecoinvent 3.9.1 cutoff\", # <-- name of the database in the BW2 project. Must be a string.\n",
    "    source_version=\"3.9\", # <-- version of ecoinvent. Can be \"3.5\", \"3.6\", \"3.7\" or \"3.8\". Must be a string.\n",
    "    #key=\"tUePmX_S5B8ieZkkM7WUU2CnO8SmShwmAeWK9x2rTFo=\",\n",
    ")"
   ]
  },
  {
   "cell_type": "code",
   "execution_count": 2,
   "id": "f7d15e94-9a93-4314-9a69-11f50243b166",
   "metadata": {},
   "outputs": [
    {
     "name": "stdout",
     "output_type": "stream",
     "text": [
      "`update()` will skip the following sectors: 'buses', 'cars', 'two_wheelers'.\n",
      "If you want to update these sectors, please run them separately afterwards.\n"
     ]
    },
    {
     "name": "stderr",
     "output_type": "stream",
     "text": [
      "Updating: external:  91%|██████████▉ | 10/11 [35:31<03:33, 213.11s/it]\n"
     ]
    },
    {
     "name": "stdout",
     "output_type": "stream",
     "text": [
      "External scenarios (datapackages) are not provided. Skipped.\n",
      "Done!\n",
      "\n",
      "Extracted 1 worksheets in 0.03 seconds\n",
      "Remove uncertainty data.\n",
      "Extracted 1 worksheets in 0.02 seconds\n",
      "Remove uncertainty data.\n",
      "Extracted 1 worksheets in 0.02 seconds\n",
      "Remove uncertainty data.\n",
      "Extracted 1 worksheets in 0.02 seconds\n",
      "Remove uncertainty data.\n",
      "Extracted 1 worksheets in 0.02 seconds\n",
      "Remove uncertainty data.\n",
      "Extracted 1 worksheets in 0.02 seconds\n",
      "Remove uncertainty data.\n",
      "Extracted 1 worksheets in 0.02 seconds\n",
      "Remove uncertainty data.\n",
      "Extracted 1 worksheets in 0.02 seconds\n",
      "Remove uncertainty data.\n",
      "Extracted 1 worksheets in 0.02 seconds\n",
      "Remove uncertainty data.\n",
      "Extracted 1 worksheets in 0.02 seconds\n",
      "Remove uncertainty data.\n",
      "Extracted 1 worksheets in 0.02 seconds\n",
      "Remove uncertainty data.\n",
      "Write new database(s) to matrix.\n",
      "Running all checks...\n",
      "Anomalies found: check the change report.\n",
      "Running all checks...\n",
      "Anomalies found: check the change report.\n",
      "Running all checks...\n",
      "Anomalies found: check the change report.\n",
      "Matrices saved in /Users/romain/GitHub/pathways/dev/pathways/inventories/image/SSP2-RCP19/2030.\n",
      "Matrices saved in /Users/romain/GitHub/pathways/dev/pathways/inventories/image/SSP2-RCP19/2040.\n",
      "Matrices saved in /Users/romain/GitHub/pathways/dev/pathways/inventories/image/SSP2-RCP19/2050.\n",
      "Matrices saved in /Users/romain/GitHub/pathways/dev/pathways/inventories/image/SSP2-RCP19/2005.\n",
      "Matrices saved in /Users/romain/GitHub/pathways/dev/pathways/inventories/image/SSP2-RCP19/2080.\n",
      "Matrices saved in /Users/romain/GitHub/pathways/dev/pathways/inventories/image/SSP2-RCP19/2070.\n",
      "Matrices saved in /Users/romain/GitHub/pathways/dev/pathways/inventories/image/SSP2-RCP19/2060.\n",
      "Matrices saved in /Users/romain/GitHub/pathways/dev/pathways/inventories/image/SSP2-RCP19/2010.\n",
      "Matrices saved in /Users/romain/GitHub/pathways/dev/pathways/inventories/image/SSP2-RCP19/2090.\n",
      "Generate scenario report.\n",
      "Report saved under /Users/romain/GitHub/pathways/dev/export/scenario_report.\n",
      "Generate change report.\n",
      "Report saved under /Users/romain/GitHub/pathways/dev.\n",
      "Data package saved at /Users/romain/GitHub/pathways/dev/pathways/image-SSP2-RCP19.zip\n"
     ]
    }
   ],
   "source": [
    "ndb.create_datapackage(\n",
    "    name=\"image-SSP2-RCP19\",\n",
    "    contributors=[\n",
    "        {\"name\": \"Romain\",\n",
    "        \"email\": \"r_s at me.com\",}\n",
    "    ],\n",
    ")"
   ]
  },
  {
   "cell_type": "code",
   "execution_count": 1,
   "id": "9d57850c-04fa-4ef7-89e8-3e9de62f92e3",
   "metadata": {},
   "outputs": [
    {
     "name": "stdout",
     "output_type": "stream",
     "text": [
      "Invalid datapackage: Descriptor validation error: {'path': 'mapping/mapping.yaml', 'profile': 'data-resource', 'name': 'mapping', 'format': 'yaml', 'mediatype': 'text/yaml', 'encoding': 'utf-8'} is not valid under any of the given schemas at \"resources/45\" in descriptor and at \"properties/resources/items/oneOf\" in profile\n",
      "Invalid datapackage: Descriptor validation error: 'data-resource' is not one of ['tabular-data-resource'] at \"resources/45/profile\" in descriptor and at \"properties/resources/items/properties/profile/enum\" in profile\n"
     ]
    }
   ],
   "source": [
    "from pathways import Pathways\n",
    "p = Pathways(datapackage=\"./image-SSP2-RCP19/datapackage.json\")"
   ]
  },
  {
   "cell_type": "code",
   "execution_count": null,
   "id": "a081c764-a942-4627-9197-fcd373e98b62",
   "metadata": {},
   "outputs": [
    {
     "name": "stdout",
     "output_type": "stream",
     "text": [
      "Calculating LCA results for image...\n",
      "--- Calculating LCA results for SSP2-RCP19...\n",
      "------ Calculating LCA results for 2005...\n"
     ]
    },
    {
     "name": "stderr",
     "output_type": "stream",
     "text": [
      "Process SpawnPoolWorker-7:\n",
      "Process SpawnPoolWorker-1:\n",
      "Process SpawnPoolWorker-6:\n",
      "Process SpawnPoolWorker-4:\n",
      "Process SpawnPoolWorker-3:\n",
      "Process SpawnPoolWorker-5:\n",
      "Traceback (most recent call last):\n",
      "Traceback (most recent call last):\n",
      "Traceback (most recent call last):\n",
      "Traceback (most recent call last):\n",
      "Traceback (most recent call last):\n",
      "Process SpawnPoolWorker-8:\n",
      "  File \"/opt/homebrew/Caskroom/miniforge/base/envs/premise/lib/python3.11/multiprocessing/process.py\", line 314, in _bootstrap\n",
      "    self.run()\n",
      "  File \"/opt/homebrew/Caskroom/miniforge/base/envs/premise/lib/python3.11/multiprocessing/process.py\", line 108, in run\n",
      "    self._target(*self._args, **self._kwargs)\n",
      "  File \"/opt/homebrew/Caskroom/miniforge/base/envs/premise/lib/python3.11/multiprocessing/pool.py\", line 131, in worker\n",
      "    put((job, i, result))\n",
      "  File \"/opt/homebrew/Caskroom/miniforge/base/envs/premise/lib/python3.11/multiprocessing/queues.py\", line 377, in put\n",
      "    self._writer.send_bytes(obj)\n",
      "  File \"/opt/homebrew/Caskroom/miniforge/base/envs/premise/lib/python3.11/multiprocessing/connection.py\", line 200, in send_bytes\n",
      "    self._send_bytes(m[offset:offset + size])\n",
      "  File \"/opt/homebrew/Caskroom/miniforge/base/envs/premise/lib/python3.11/multiprocessing/connection.py\", line 421, in _send_bytes\n",
      "    self._send(buf)\n",
      "  File \"/opt/homebrew/Caskroom/miniforge/base/envs/premise/lib/python3.11/multiprocessing/connection.py\", line 384, in _send\n",
      "    n = write(self._handle, buf)\n",
      "        ^^^^^^^^^^^^^^^^^^^^^^^^\n",
      "KeyboardInterrupt\n",
      "Traceback (most recent call last):\n",
      "Traceback (most recent call last):\n",
      "  File \"/opt/homebrew/Caskroom/miniforge/base/envs/premise/lib/python3.11/multiprocessing/process.py\", line 314, in _bootstrap\n",
      "    self.run()\n",
      "  File \"/opt/homebrew/Caskroom/miniforge/base/envs/premise/lib/python3.11/multiprocessing/process.py\", line 108, in run\n",
      "    self._target(*self._args, **self._kwargs)\n",
      "  File \"/opt/homebrew/Caskroom/miniforge/base/envs/premise/lib/python3.11/multiprocessing/pool.py\", line 114, in worker\n",
      "    task = get()\n",
      "           ^^^^^\n",
      "  File \"/opt/homebrew/Caskroom/miniforge/base/envs/premise/lib/python3.11/multiprocessing/queues.py\", line 364, in get\n",
      "    with self._rlock:\n",
      "  File \"/opt/homebrew/Caskroom/miniforge/base/envs/premise/lib/python3.11/multiprocessing/synchronize.py\", line 95, in __enter__\n",
      "    return self._semlock.__enter__()\n",
      "           ^^^^^^^^^^^^^^^^^^^^^^^^^\n",
      "KeyboardInterrupt\n",
      "  File \"/opt/homebrew/Caskroom/miniforge/base/envs/premise/lib/python3.11/multiprocessing/process.py\", line 314, in _bootstrap\n",
      "    self.run()\n",
      "  File \"/opt/homebrew/Caskroom/miniforge/base/envs/premise/lib/python3.11/multiprocessing/process.py\", line 108, in run\n",
      "    self._target(*self._args, **self._kwargs)\n",
      "  File \"/opt/homebrew/Caskroom/miniforge/base/envs/premise/lib/python3.11/multiprocessing/pool.py\", line 114, in worker\n",
      "    task = get()\n",
      "           ^^^^^\n",
      "  File \"/opt/homebrew/Caskroom/miniforge/base/envs/premise/lib/python3.11/multiprocessing/queues.py\", line 365, in get\n",
      "    res = self._reader.recv_bytes()\n",
      "          ^^^^^^^^^^^^^^^^^^^^^^^^^\n",
      "  File \"/opt/homebrew/Caskroom/miniforge/base/envs/premise/lib/python3.11/multiprocessing/connection.py\", line 216, in recv_bytes\n",
      "    buf = self._recv_bytes(maxlength)\n",
      "          ^^^^^^^^^^^^^^^^^^^^^^^^^^^\n",
      "  File \"/opt/homebrew/Caskroom/miniforge/base/envs/premise/lib/python3.11/multiprocessing/connection.py\", line 430, in _recv_bytes\n",
      "    buf = self._recv(4)\n",
      "          ^^^^^^^^^^^^^\n",
      "  File \"/opt/homebrew/Caskroom/miniforge/base/envs/premise/lib/python3.11/multiprocessing/connection.py\", line 395, in _recv\n",
      "    chunk = read(handle, remaining)\n",
      "            ^^^^^^^^^^^^^^^^^^^^^^^\n",
      "KeyboardInterrupt\n",
      "  File \"/opt/homebrew/Caskroom/miniforge/base/envs/premise/lib/python3.11/multiprocessing/process.py\", line 314, in _bootstrap\n",
      "    self.run()\n",
      "  File \"/opt/homebrew/Caskroom/miniforge/base/envs/premise/lib/python3.11/multiprocessing/process.py\", line 108, in run\n",
      "    self._target(*self._args, **self._kwargs)\n",
      "  File \"/opt/homebrew/Caskroom/miniforge/base/envs/premise/lib/python3.11/multiprocessing/pool.py\", line 114, in worker\n",
      "    task = get()\n",
      "           ^^^^^\n",
      "  File \"/opt/homebrew/Caskroom/miniforge/base/envs/premise/lib/python3.11/multiprocessing/queues.py\", line 364, in get\n",
      "    with self._rlock:\n",
      "  File \"/opt/homebrew/Caskroom/miniforge/base/envs/premise/lib/python3.11/multiprocessing/synchronize.py\", line 95, in __enter__\n",
      "    return self._semlock.__enter__()\n",
      "           ^^^^^^^^^^^^^^^^^^^^^^^^^\n",
      "KeyboardInterrupt\n",
      "  File \"/opt/homebrew/Caskroom/miniforge/base/envs/premise/lib/python3.11/multiprocessing/process.py\", line 314, in _bootstrap\n",
      "    self.run()\n",
      "  File \"/opt/homebrew/Caskroom/miniforge/base/envs/premise/lib/python3.11/multiprocessing/process.py\", line 108, in run\n",
      "    self._target(*self._args, **self._kwargs)\n",
      "  File \"/opt/homebrew/Caskroom/miniforge/base/envs/premise/lib/python3.11/multiprocessing/pool.py\", line 114, in worker\n",
      "    task = get()\n",
      "           ^^^^^\n",
      "  File \"/opt/homebrew/Caskroom/miniforge/base/envs/premise/lib/python3.11/multiprocessing/queues.py\", line 364, in get\n",
      "    with self._rlock:\n",
      "  File \"/opt/homebrew/Caskroom/miniforge/base/envs/premise/lib/python3.11/multiprocessing/synchronize.py\", line 95, in __enter__\n",
      "    return self._semlock.__enter__()\n",
      "           ^^^^^^^^^^^^^^^^^^^^^^^^^\n",
      "KeyboardInterrupt\n",
      "  File \"/opt/homebrew/Caskroom/miniforge/base/envs/premise/lib/python3.11/multiprocessing/process.py\", line 314, in _bootstrap\n",
      "    self.run()\n",
      "  File \"/opt/homebrew/Caskroom/miniforge/base/envs/premise/lib/python3.11/multiprocessing/process.py\", line 108, in run\n",
      "    self._target(*self._args, **self._kwargs)\n",
      "  File \"/opt/homebrew/Caskroom/miniforge/base/envs/premise/lib/python3.11/multiprocessing/pool.py\", line 114, in worker\n",
      "    task = get()\n",
      "           ^^^^^\n",
      "  File \"/opt/homebrew/Caskroom/miniforge/base/envs/premise/lib/python3.11/multiprocessing/queues.py\", line 364, in get\n",
      "    with self._rlock:\n",
      "  File \"/opt/homebrew/Caskroom/miniforge/base/envs/premise/lib/python3.11/multiprocessing/synchronize.py\", line 95, in __enter__\n",
      "    return self._semlock.__enter__()\n",
      "           ^^^^^^^^^^^^^^^^^^^^^^^^^\n",
      "KeyboardInterrupt\n",
      "  File \"/opt/homebrew/Caskroom/miniforge/base/envs/premise/lib/python3.11/multiprocessing/process.py\", line 314, in _bootstrap\n",
      "    self.run()\n",
      "  File \"/opt/homebrew/Caskroom/miniforge/base/envs/premise/lib/python3.11/multiprocessing/process.py\", line 108, in run\n",
      "    self._target(*self._args, **self._kwargs)\n",
      "  File \"/opt/homebrew/Caskroom/miniforge/base/envs/premise/lib/python3.11/multiprocessing/pool.py\", line 114, in worker\n",
      "    task = get()\n",
      "           ^^^^^\n",
      "  File \"/opt/homebrew/Caskroom/miniforge/base/envs/premise/lib/python3.11/multiprocessing/queues.py\", line 364, in get\n",
      "    with self._rlock:\n",
      "  File \"/opt/homebrew/Caskroom/miniforge/base/envs/premise/lib/python3.11/multiprocessing/synchronize.py\", line 95, in __enter__\n",
      "    return self._semlock.__enter__()\n",
      "           ^^^^^^^^^^^^^^^^^^^^^^^^^\n",
      "KeyboardInterrupt\n",
      "Process SpawnPoolWorker-2:\n",
      "Traceback (most recent call last):\n",
      "  File \"/opt/homebrew/Caskroom/miniforge/base/envs/premise/lib/python3.11/multiprocessing/process.py\", line 314, in _bootstrap\n",
      "    self.run()\n",
      "  File \"/opt/homebrew/Caskroom/miniforge/base/envs/premise/lib/python3.11/multiprocessing/process.py\", line 108, in run\n",
      "    self._target(*self._args, **self._kwargs)\n",
      "  File \"/opt/homebrew/Caskroom/miniforge/base/envs/premise/lib/python3.11/multiprocessing/pool.py\", line 114, in worker\n",
      "    task = get()\n",
      "           ^^^^^\n",
      "  File \"/opt/homebrew/Caskroom/miniforge/base/envs/premise/lib/python3.11/multiprocessing/queues.py\", line 367, in get\n",
      "    return _ForkingPickler.loads(res)\n",
      "           ^^^^^^^^^^^^^^^^^^^^^^^^^^\n",
      "  File \"/opt/homebrew/Caskroom/miniforge/base/envs/premise/lib/python3.11/site-packages/xarray/core/common.py\", line 279, in __getattr__\n",
      "    def __getattr__(self, name: str) -> Any:\n",
      "    \n",
      "KeyboardInterrupt\n"
     ]
    }
   ],
   "source": [
    "import numpy as np\n",
    "p.calculate(\n",
    "    #methods=[\n",
    "    #    #'EF v3.1 - acidification - accumulated exceedance (AE)',\n",
    "    #    'EF v3.1 - climate change - global warming potential (GWP100)',\n",
    "    #    'RELICS - metals extraction - Lithium',\n",
    "    #],\n",
    "    regions=[r for r in p.scenarios.coords[\"region\"].values if r!=\"World\"],\n",
    "    #regions=[\"WEU\",],\n",
    "    scenarios=[\"SSP2-RCP19\",],\n",
    "    variables=[\n",
    "        v for v in p.scenarios.coords[\"variables\"].values\n",
    "        if any(i in v for i in [\"Industry\", \"Transport\", \"Heating\"])\n",
    "    ],\n",
    "    #years=[2005, 2020, 2050, 2070, 2100],\n",
    "    characterization=False,\n",
    "    flows=[\"Lithium - natural resource - in ground - kilogram\",],\n",
    "    #data_type=np.float32,\n",
    "    multiprocessing=True,\n",
    "    demand_cutoff=0.01,\n",
    ")"
   ]
  },
  {
   "cell_type": "code",
   "execution_count": null,
   "id": "c744f278-aaa9-408a-bfbf-5dbc1f692285",
   "metadata": {},
   "outputs": [],
   "source": [
    "arr = p.display_results()"
   ]
  },
  {
   "cell_type": "code",
   "execution_count": null,
   "id": "dc1903c8-9e0a-43ce-ac5b-cef7952eb152",
   "metadata": {},
   "outputs": [],
   "source": [
    "arr = arr.sum(dim=\"act_category\")"
   ]
  },
  {
   "cell_type": "code",
   "execution_count": null,
   "id": "0e32dc3c-9f0b-4a45-b2a0-114c314f2771",
   "metadata": {},
   "outputs": [],
   "source": [
    "arr.to_netcdf('data.nc')"
   ]
  },
  {
   "cell_type": "code",
   "execution_count": 3,
   "id": "9958409e-1e04-4548-a08b-49b111a7c114",
   "metadata": {},
   "outputs": [],
   "source": [
    "import xarray as xr"
   ]
  },
  {
   "cell_type": "code",
   "execution_count": 4,
   "id": "0d02f286-cb21-4b46-94f4-022e3ae4c9ae",
   "metadata": {},
   "outputs": [],
   "source": [
    "arr = xr.open_dataarray(\"data.nc\")"
   ]
  },
  {
   "cell_type": "code",
   "execution_count": 5,
   "id": "5a6e946a-0b6a-4059-ae06-6d25dcc94c9a",
   "metadata": {},
   "outputs": [],
   "source": [
    "arr = arr.interp(\n",
    "    year=np.arange(arr.year.min(), arr.year.max() + 1,),\n",
    "    kwargs={\"fill_value\": \"interpolate\"},\n",
    "    method=\"linear\",\n",
    ")"
   ]
  },
  {
   "cell_type": "code",
   "execution_count": 6,
   "id": "21434870-34fa-434c-91ec-40cbc8aea39c",
   "metadata": {},
   "outputs": [],
   "source": [
    "df = arr.to_dataframe(\"value\")"
   ]
  },
  {
   "cell_type": "code",
   "execution_count": 7,
   "id": "f5d600f7-8eb0-42dd-8522-aa296a32fe08",
   "metadata": {},
   "outputs": [
    {
     "data": {
      "text/plain": [
       "Coordinates:\n",
       "  * location         (location) object 3kB 'ET' 'CN-HL' ... 'RoW' 'IN-CH'\n",
       "  * variable         (variable) object 776B 'Industry_Food and Tobacco_Electr...\n",
       "  * impact_category  (impact_category) object 8B 'RELICS - metals extraction ...\n",
       "  * scenario         (scenario) object 8B 'SSP2-RCP19'\n",
       "  * model            (model) object 8B 'image'\n",
       "  * region           (region) object 8B 'WEU'\n",
       "  * year             (year) int64 768B 2005 2006 2007 2008 ... 2098 2099 2100"
      ]
     },
     "execution_count": 7,
     "metadata": {},
     "output_type": "execute_result"
    }
   ],
   "source": [
    "arr.coords"
   ]
  },
  {
   "cell_type": "code",
   "execution_count": 8,
   "id": "9e187610-3d3d-4998-a5de-9a88049ae031",
   "metadata": {},
   "outputs": [
    {
     "data": {
      "text/plain": [
       "3343008"
      ]
     },
     "execution_count": 8,
     "metadata": {},
     "output_type": "execute_result"
    }
   ],
   "source": [
    "len(df)"
   ]
  },
  {
   "cell_type": "code",
   "execution_count": 9,
   "id": "7a8e3d53-89f2-4cd3-b957-516c0206b653",
   "metadata": {},
   "outputs": [],
   "source": [
    "df = df[df[\"value\"]!=0.0]\n",
    "df = df[~df[\"value\"].isnull()]"
   ]
  },
  {
   "cell_type": "code",
   "execution_count": 10,
   "id": "10253a05-a90d-4cc6-851b-d28ce89188cb",
   "metadata": {},
   "outputs": [
    {
     "data": {
      "text/plain": [
       "25817"
      ]
     },
     "execution_count": 10,
     "metadata": {},
     "output_type": "execute_result"
    }
   ],
   "source": [
    "len(df)"
   ]
  },
  {
   "cell_type": "code",
   "execution_count": 11,
   "id": "aff3301d-4731-4802-97c0-ed88226cd58b",
   "metadata": {},
   "outputs": [],
   "source": [
    "df=df.reset_index()"
   ]
  },
  {
   "cell_type": "code",
   "execution_count": 12,
   "id": "998d8893-98af-4299-b1eb-10ef3a8c7c7c",
   "metadata": {},
   "outputs": [
    {
     "data": {
      "text/html": [
       "<div>\n",
       "<style scoped>\n",
       "    .dataframe tbody tr th:only-of-type {\n",
       "        vertical-align: middle;\n",
       "    }\n",
       "\n",
       "    .dataframe tbody tr th {\n",
       "        vertical-align: top;\n",
       "    }\n",
       "\n",
       "    .dataframe thead th {\n",
       "        text-align: right;\n",
       "    }\n",
       "</style>\n",
       "<table border=\"1\" class=\"dataframe\">\n",
       "  <thead>\n",
       "    <tr style=\"text-align: right;\">\n",
       "      <th></th>\n",
       "      <th>variable</th>\n",
       "      <th>year</th>\n",
       "      <th>region</th>\n",
       "      <th>location</th>\n",
       "      <th>model</th>\n",
       "      <th>scenario</th>\n",
       "      <th>impact_category</th>\n",
       "      <th>value</th>\n",
       "    </tr>\n",
       "  </thead>\n",
       "  <tbody>\n",
       "    <tr>\n",
       "      <th>0</th>\n",
       "      <td>Industry_Food and Tobacco_Electricity</td>\n",
       "      <td>2005</td>\n",
       "      <td>WEU</td>\n",
       "      <td>CL</td>\n",
       "      <td>image</td>\n",
       "      <td>SSP2-RCP19</td>\n",
       "      <td>RELICS - metals extraction - Lithium</td>\n",
       "      <td>0.215986</td>\n",
       "    </tr>\n",
       "    <tr>\n",
       "      <th>1</th>\n",
       "      <td>Industry_Food and Tobacco_Electricity</td>\n",
       "      <td>2005</td>\n",
       "      <td>WEU</td>\n",
       "      <td>US</td>\n",
       "      <td>image</td>\n",
       "      <td>SSP2-RCP19</td>\n",
       "      <td>RELICS - metals extraction - Lithium</td>\n",
       "      <td>0.000011</td>\n",
       "    </tr>\n",
       "    <tr>\n",
       "      <th>2</th>\n",
       "      <td>Industry_Food and Tobacco_Electricity</td>\n",
       "      <td>2005</td>\n",
       "      <td>WEU</td>\n",
       "      <td>AR</td>\n",
       "      <td>image</td>\n",
       "      <td>SSP2-RCP19</td>\n",
       "      <td>RELICS - metals extraction - Lithium</td>\n",
       "      <td>0.035179</td>\n",
       "    </tr>\n",
       "    <tr>\n",
       "      <th>3</th>\n",
       "      <td>Industry_Food and Tobacco_Electricity</td>\n",
       "      <td>2005</td>\n",
       "      <td>WEU</td>\n",
       "      <td>RER</td>\n",
       "      <td>image</td>\n",
       "      <td>SSP2-RCP19</td>\n",
       "      <td>RELICS - metals extraction - Lithium</td>\n",
       "      <td>0.000086</td>\n",
       "    </tr>\n",
       "    <tr>\n",
       "      <th>4</th>\n",
       "      <td>Industry_Food and Tobacco_Electricity</td>\n",
       "      <td>2005</td>\n",
       "      <td>WEU</td>\n",
       "      <td>RNA</td>\n",
       "      <td>image</td>\n",
       "      <td>SSP2-RCP19</td>\n",
       "      <td>RELICS - metals extraction - Lithium</td>\n",
       "      <td>0.000066</td>\n",
       "    </tr>\n",
       "  </tbody>\n",
       "</table>\n",
       "</div>"
      ],
      "text/plain": [
       "                                variable  year region location  model  \\\n",
       "0  Industry_Food and Tobacco_Electricity  2005    WEU       CL  image   \n",
       "1  Industry_Food and Tobacco_Electricity  2005    WEU       US  image   \n",
       "2  Industry_Food and Tobacco_Electricity  2005    WEU       AR  image   \n",
       "3  Industry_Food and Tobacco_Electricity  2005    WEU      RER  image   \n",
       "4  Industry_Food and Tobacco_Electricity  2005    WEU      RNA  image   \n",
       "\n",
       "     scenario                       impact_category     value  \n",
       "0  SSP2-RCP19  RELICS - metals extraction - Lithium  0.215986  \n",
       "1  SSP2-RCP19  RELICS - metals extraction - Lithium  0.000011  \n",
       "2  SSP2-RCP19  RELICS - metals extraction - Lithium  0.035179  \n",
       "3  SSP2-RCP19  RELICS - metals extraction - Lithium  0.000086  \n",
       "4  SSP2-RCP19  RELICS - metals extraction - Lithium  0.000066  "
      ]
     },
     "execution_count": 12,
     "metadata": {},
     "output_type": "execute_result"
    }
   ],
   "source": [
    "df.head()"
   ]
  },
  {
   "cell_type": "code",
   "execution_count": 13,
   "id": "1de1d921-4156-46b8-9113-f94214320f50",
   "metadata": {},
   "outputs": [],
   "source": [
    "from premise.geomap import Geomap\n",
    "geo = Geomap(\"image\")"
   ]
  },
  {
   "cell_type": "code",
   "execution_count": 14,
   "id": "57b097ed-0108-4d62-8aaf-0a3d7c76fc48",
   "metadata": {},
   "outputs": [],
   "source": [
    "d = {\n",
    "    loc: geo.ecoinvent_to_iam_location(loc)\n",
    "    for loc in df[\"location\"].unique()\n",
    "}"
   ]
  },
  {
   "cell_type": "code",
   "execution_count": 15,
   "id": "c0b92aed-c162-4f5a-b200-512452d5157e",
   "metadata": {},
   "outputs": [],
   "source": [
    "df[\"region from\"] = df[\"location\"].map(d)"
   ]
  },
  {
   "cell_type": "code",
   "execution_count": 16,
   "id": "829eef08-5bc8-4ee3-8d51-fd55e2beb2b0",
   "metadata": {},
   "outputs": [],
   "source": [
    "df = df.drop('location', axis=1)"
   ]
  },
  {
   "cell_type": "code",
   "execution_count": 17,
   "id": "11c1861f-1a2b-49f6-a1be-94680d5a6b30",
   "metadata": {},
   "outputs": [],
   "source": [
    "df = df.groupby([\n",
    "    'variable', 'year', 'region', 'model', 'scenario', 'impact_category', 'region from'\n",
    "]).sum().reset_index()"
   ]
  },
  {
   "cell_type": "code",
   "execution_count": 18,
   "id": "9acd0483-a477-4250-a28a-aa0d2f510509",
   "metadata": {},
   "outputs": [
    {
     "data": {
      "text/plain": [
       "14353"
      ]
     },
     "execution_count": 18,
     "metadata": {},
     "output_type": "execute_result"
    }
   ],
   "source": [
    "len(df)"
   ]
  },
  {
   "cell_type": "code",
   "execution_count": 19,
   "id": "5b5dde7a-3eb9-4f1d-997e-3c6310e76580",
   "metadata": {},
   "outputs": [],
   "source": [
    "df[\"impact_category\"] = df[\"impact_category\"].str.replace(\"RELICS - metals extraction - \", \"\")\n",
    "df[\"impact_category\"] = df[\"impact_category\"].str.replace(\"EF v3.1 - climate change - global warming potential (GWP100)\", \"climate change\")"
   ]
  },
  {
   "cell_type": "code",
   "execution_count": 20,
   "id": "3361c4c8-c006-4f09-85f4-9d50c10f327f",
   "metadata": {},
   "outputs": [
    {
     "data": {
      "text/plain": [
       "14353"
      ]
     },
     "execution_count": 20,
     "metadata": {},
     "output_type": "execute_result"
    }
   ],
   "source": [
    "len(df)"
   ]
  },
  {
   "cell_type": "code",
   "execution_count": 21,
   "id": "87646c30-91c9-4dcf-b4a0-a52471634580",
   "metadata": {},
   "outputs": [
    {
     "data": {
      "text/html": [
       "\n",
       "        <iframe\n",
       "            width=\"100%\"\n",
       "            height=\"500\"\n",
       "            src=\"pivottable_metals.html\"\n",
       "            frameborder=\"0\"\n",
       "            allowfullscreen\n",
       "            \n",
       "        ></iframe>\n",
       "        "
      ],
      "text/plain": [
       "<IPython.lib.display.IFrame at 0x16d43fd50>"
      ]
     },
     "execution_count": 21,
     "metadata": {},
     "output_type": "execute_result"
    }
   ],
   "source": [
    "from pivottablejs import pivot_ui\n",
    "from IPython.display import HTML\n",
    "pivot_ui(df, outfile_path='pivottable_metals.html')"
   ]
  },
  {
   "cell_type": "code",
   "execution_count": 154,
   "id": "1a20734d-fa1f-4daa-99c7-ac57ad5deb4f",
   "metadata": {},
   "outputs": [
    {
     "data": {
      "text/plain": [
       "['Heating_Commercial (space heating)_Solid coal',\n",
       " 'Heating_Commercial (space heating)_Electricity',\n",
       " 'Heating_Commercial (space heating)_Natural gas',\n",
       " 'Heating_Commercial (space heating)_Liquid fossil',\n",
       " 'Heating_Commercial (space heating)_Solid biomass',\n",
       " 'Heating_Residential (space heating)_Solid coal',\n",
       " 'Heating_Residential (space heating)_Electricity',\n",
       " 'Heating_Residential (space heating)_Natural gas',\n",
       " 'Heating_Residential (space heating)_Liquid fossil',\n",
       " 'Heating_Residential (space heating)_Solid biomass',\n",
       " 'Industry_Food and Tobacco_Electricity',\n",
       " 'Industry_Food and Tobacco_Natural gas',\n",
       " 'Industry_Food and Tobacco_Heat',\n",
       " 'Industry_Food and Tobacco_Hydrogen',\n",
       " 'Industry_Food and Tobacco_Liquid fossil',\n",
       " 'Industry_Food and Tobacco_Solid biomass',\n",
       " 'Industry_Food and Tobacco_Solid coal',\n",
       " 'Industry_Non-metallic minerals_Electricity',\n",
       " 'Industry_Non-metallic minerals_Natural gas',\n",
       " 'Industry_Non-metallic minerals_Heat',\n",
       " 'Industry_Non-metallic minerals_Hydrogen',\n",
       " 'Industry_Non-metallic minerals_Liquid fossil',\n",
       " 'Industry_Non-metallic minerals_Solid biomass',\n",
       " 'Industry_Non-metallic minerals_Solid coal',\n",
       " 'Industry_Pulp and Paper_Electricity',\n",
       " 'Industry_Pulp and Paper_Natural gas',\n",
       " 'Industry_Pulp and Paper_Heat',\n",
       " 'Industry_Pulp and Paper_Hydrogen',\n",
       " 'Industry_Pulp and Paper_Liquid fossil',\n",
       " 'Industry_Pulp and Paper_Solid biomass',\n",
       " 'Industry_Pulp and Paper_Solid coal',\n",
       " 'Industry_Steel_Electricity',\n",
       " 'Industry_Steel_Natural gas',\n",
       " 'Industry_Steel_Heat',\n",
       " 'Industry_Steel_Hydrogen',\n",
       " 'Industry_Steel_Liquid coal',\n",
       " 'Industry_Steel_Solid biomass',\n",
       " 'Industry_Steel_Solid coal',\n",
       " 'Industry_Chemical (ammonia)_Electricity',\n",
       " 'Industry_Chemical (ammonia)_Natural gas',\n",
       " 'Industry_Chemical (ammonia)_Liquid biomass',\n",
       " 'Industry_Chemical (ammonia)_Liquid fossil',\n",
       " 'Industry_Chemical (ammonia)_Other',\n",
       " 'Industry_Chemical (ammonia)_Solid biomass',\n",
       " 'Industry_Chemical (ammonia)_Solid coal',\n",
       " 'Industry_Chemical (high value)_Electricity',\n",
       " 'Industry_Chemical (high value)_Natural gas',\n",
       " 'Industry_Chemical (high value)_Liquid biomass',\n",
       " 'Industry_Chemical (high value)_Liquid fossil',\n",
       " 'Industry_Chemical (high value)_Solid biomass',\n",
       " 'Industry_Chemical (high value)_Solid coal',\n",
       " 'Industry_Food processing_Electricity',\n",
       " 'Industry_Food processing_Natural gas',\n",
       " 'Industry_Food processing_Heat',\n",
       " 'Industry_Food processing_Hydrogen',\n",
       " 'Industry_Food processing_Liquid fossil',\n",
       " 'Industry_Food processing_Solid biomass',\n",
       " 'Industry_Food processing_Solid coal',\n",
       " 'Heating_Residential (water heating)_Solid coal',\n",
       " 'Heating_Residential (water heating)_Electricity',\n",
       " 'Heating_Residential (water heating)_Natural gas',\n",
       " 'Heating_Residential (water heating)_Liquid fossil',\n",
       " 'Heating_Residential (water heating)_Solid biomass',\n",
       " 'Transport_Freight (air)_Liquid biomass',\n",
       " 'Transport_Freight (air)_Electricity',\n",
       " 'Transport_Freight (air)_Natural gas',\n",
       " 'Transport_Freight (air)_Hydrogen',\n",
       " 'Transport_Freight (air)_Liquid fossil',\n",
       " 'Transport_Freight (heavy truck)_Liquid biomass',\n",
       " 'Transport_Freight (heavy truck)_Electricity',\n",
       " 'Transport_Freight (heavy truck)_Natural gas',\n",
       " 'Transport_Freight (heavy truck)_Hydrogen',\n",
       " 'Transport_Freight (heavy truck)_Liquid fossil',\n",
       " 'Transport_Freight (Intl. Shipping)_Liquid biomass',\n",
       " 'Transport_Freight (Intl. Shipping)_Electricity',\n",
       " 'Transport_Freight (Intl. Shipping)_Natural gas',\n",
       " 'Transport_Freight (Intl. Shipping)_Hydrogen',\n",
       " 'Transport_Freight (Intl. Shipping)_Liquid fossil',\n",
       " 'Transport_Freight (med. Truck)_Liquid biomass',\n",
       " 'Transport_Freight (med. Truck)_Electricity',\n",
       " 'Transport_Freight (med. Truck)_Natural gas',\n",
       " 'Transport_Freight (med. Truck)_Hydrogen',\n",
       " 'Transport_Freight (med. Truck)_Liquid fossil',\n",
       " 'Transport_Freight (nat. Shipping)_Liquid biomass',\n",
       " 'Transport_Freight (nat. Shipping)_Electricity',\n",
       " 'Transport_Freight (nat. Shipping)_Natural gas',\n",
       " 'Transport_Freight (nat. Shipping)_Hydrogen',\n",
       " 'Transport_Freight (nat. Shipping)_Liquid fossil',\n",
       " 'Transport_Freight (train)_Liquid biomass',\n",
       " 'Transport_Freight (train)_Electricity',\n",
       " 'Transport_Freight (train)_Natural gas',\n",
       " 'Transport_Freight (train)_Hydrogen',\n",
       " 'Transport_Freight (train)_Liquid fossil',\n",
       " 'Transport_Passenger_Electricity',\n",
       " 'Transport_Passenger_Natural gas',\n",
       " 'Transport_Passenger_Hydrogen',\n",
       " 'Transport_Passenger_Liquid']"
      ]
     },
     "execution_count": 154,
     "metadata": {},
     "output_type": "execute_result"
    }
   ],
   "source": [
    "[\n",
    "        v for v in p.scenarios.coords[\"variables\"].values\n",
    "        if any(i in v for i in [\"Industry\", \"Transport\", \"Heating\"])\n",
    "    ]"
   ]
  },
  {
   "cell_type": "code",
   "execution_count": null,
   "id": "701b3907-31d8-4329-9693-fdbf66ccffd2",
   "metadata": {},
   "outputs": [],
   "source": []
  }
 ],
 "metadata": {
  "kernelspec": {
   "display_name": "Python 3 (ipykernel)",
   "language": "python",
   "name": "python3"
  },
  "language_info": {
   "codemirror_mode": {
    "name": "ipython",
    "version": 3
   },
   "file_extension": ".py",
   "mimetype": "text/x-python",
   "name": "python",
   "nbconvert_exporter": "python",
   "pygments_lexer": "ipython3",
   "version": "3.11.8"
  }
 },
 "nbformat": 4,
 "nbformat_minor": 5
}
