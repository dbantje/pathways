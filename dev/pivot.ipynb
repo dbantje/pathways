{
 "cells": [
  {
   "cell_type": "code",
   "execution_count": 1,
   "id": "18916cee-310e-4785-b496-988d59883636",
   "metadata": {},
   "outputs": [],
   "source": [
    "import xarray as xr"
   ]
  },
  {
   "cell_type": "code",
   "execution_count": 2,
   "id": "eabc5614-5c90-4bb7-b229-f12ced2f6f04",
   "metadata": {},
   "outputs": [],
   "source": [
    "arr = xr.open_dataarray(\"results_image_SSP2-RCP19.nc\")"
   ]
  },
  {
   "cell_type": "code",
   "execution_count": 3,
   "id": "05aa3629-f29f-42e2-8f5b-9c717f6649dd",
   "metadata": {},
   "outputs": [],
   "source": [
    "df = arr.to_dataframe(\"x\")"
   ]
  },
  {
   "cell_type": "code",
   "execution_count": 8,
   "id": "499da85e-e3a1-4e40-93d6-358b9ae40209",
   "metadata": {
    "tags": []
   },
   "outputs": [],
   "source": [
    "df=df.loc[df[\"x\"]>0, \"x\"]"
   ]
  },
  {
   "cell_type": "code",
   "execution_count": 10,
   "id": "de978966-a3a9-4022-bf48-d0a59b7577ca",
   "metadata": {
    "tags": []
   },
   "outputs": [],
   "source": [
    "df = df.unstack()"
   ]
  },
  {
   "cell_type": "code",
   "execution_count": 11,
   "id": "f53b633b-fa91-4c6d-a2fd-90c80cf0784f",
   "metadata": {
    "tags": []
   },
   "outputs": [
    {
     "data": {
      "text/html": [
       "<div>\n",
       "<style scoped>\n",
       "    .dataframe tbody tr th:only-of-type {\n",
       "        vertical-align: middle;\n",
       "    }\n",
       "\n",
       "    .dataframe tbody tr th {\n",
       "        vertical-align: top;\n",
       "    }\n",
       "\n",
       "    .dataframe thead th {\n",
       "        text-align: right;\n",
       "    }\n",
       "</style>\n",
       "<table border=\"1\" class=\"dataframe\">\n",
       "  <thead>\n",
       "    <tr style=\"text-align: right;\">\n",
       "      <th></th>\n",
       "      <th></th>\n",
       "      <th></th>\n",
       "      <th></th>\n",
       "      <th></th>\n",
       "      <th>act_category</th>\n",
       "      <th>Carbon capture</th>\n",
       "      <th>Collection of nonhazardous waste</th>\n",
       "      <th>Construction of other civil engineering projects</th>\n",
       "      <th>Construction of roads and railways</th>\n",
       "      <th>Construction of utility projects</th>\n",
       "      <th>Electric power generation transmission and distribution</th>\n",
       "      <th>Extraction of crude petroleum</th>\n",
       "      <th>Extraction of crude petroleum and natural gas</th>\n",
       "      <th>Extraction of natural gas</th>\n",
       "      <th>Extraction of salt</th>\n",
       "      <th>...</th>\n",
       "      <th>Site preparation</th>\n",
       "      <th>Steam and air conditioning supply</th>\n",
       "      <th>Support activities for crop production</th>\n",
       "      <th>Support activities for petroleum and natural gas extraction</th>\n",
       "      <th>Transport via pipeline</th>\n",
       "      <th>Treatment and coating of metals machining</th>\n",
       "      <th>Treatment and disposal of hazardous waste</th>\n",
       "      <th>Treatment and disposal of nonhazardous waste</th>\n",
       "      <th>Water collection treatment and supply</th>\n",
       "      <th>other</th>\n",
       "    </tr>\n",
       "    <tr>\n",
       "      <th>model</th>\n",
       "      <th>scenario</th>\n",
       "      <th>year</th>\n",
       "      <th>region</th>\n",
       "      <th>impact_category</th>\n",
       "      <th>variable</th>\n",
       "      <th></th>\n",
       "      <th></th>\n",
       "      <th></th>\n",
       "      <th></th>\n",
       "      <th></th>\n",
       "      <th></th>\n",
       "      <th></th>\n",
       "      <th></th>\n",
       "      <th></th>\n",
       "      <th></th>\n",
       "      <th></th>\n",
       "      <th></th>\n",
       "      <th></th>\n",
       "      <th></th>\n",
       "      <th></th>\n",
       "      <th></th>\n",
       "      <th></th>\n",
       "      <th></th>\n",
       "      <th></th>\n",
       "      <th></th>\n",
       "      <th></th>\n",
       "    </tr>\n",
       "  </thead>\n",
       "  <tbody>\n",
       "    <tr>\n",
       "      <th rowspan=\"5\" valign=\"top\">image</th>\n",
       "      <th rowspan=\"5\" valign=\"top\">SSP2-RCP19</th>\n",
       "      <th rowspan=\"5\" valign=\"top\">2020</th>\n",
       "      <th rowspan=\"5\" valign=\"top\">BRA</th>\n",
       "      <th rowspan=\"5\" valign=\"top\">EF v3.1 - acidification - accumulated exceedance (AE)</th>\n",
       "      <th>Heating_Residential (water heating)_Liquid fossil</th>\n",
       "      <td>NaN</td>\n",
       "      <td>NaN</td>\n",
       "      <td>NaN</td>\n",
       "      <td>NaN</td>\n",
       "      <td>NaN</td>\n",
       "      <td>NaN</td>\n",
       "      <td>NaN</td>\n",
       "      <td>NaN</td>\n",
       "      <td>NaN</td>\n",
       "      <td>NaN</td>\n",
       "      <td>...</td>\n",
       "      <td>NaN</td>\n",
       "      <td>NaN</td>\n",
       "      <td>NaN</td>\n",
       "      <td>NaN</td>\n",
       "      <td>NaN</td>\n",
       "      <td>NaN</td>\n",
       "      <td>NaN</td>\n",
       "      <td>NaN</td>\n",
       "      <td>NaN</td>\n",
       "      <td>5.360020e+05</td>\n",
       "    </tr>\n",
       "    <tr>\n",
       "      <th>Industry_Chemical (high value)_Liquid fossil</th>\n",
       "      <td>NaN</td>\n",
       "      <td>NaN</td>\n",
       "      <td>NaN</td>\n",
       "      <td>NaN</td>\n",
       "      <td>NaN</td>\n",
       "      <td>4.935812e+08</td>\n",
       "      <td>NaN</td>\n",
       "      <td>513907.043401</td>\n",
       "      <td>NaN</td>\n",
       "      <td>NaN</td>\n",
       "      <td>...</td>\n",
       "      <td>1.860549e+06</td>\n",
       "      <td>8.043030e+05</td>\n",
       "      <td>NaN</td>\n",
       "      <td>NaN</td>\n",
       "      <td>NaN</td>\n",
       "      <td>NaN</td>\n",
       "      <td>NaN</td>\n",
       "      <td>NaN</td>\n",
       "      <td>NaN</td>\n",
       "      <td>1.392382e+06</td>\n",
       "    </tr>\n",
       "    <tr>\n",
       "      <th>Industry_Food and Tobacco_Electricity</th>\n",
       "      <td>NaN</td>\n",
       "      <td>NaN</td>\n",
       "      <td>NaN</td>\n",
       "      <td>NaN</td>\n",
       "      <td>NaN</td>\n",
       "      <td>1.990820e+07</td>\n",
       "      <td>NaN</td>\n",
       "      <td>580945.064255</td>\n",
       "      <td>NaN</td>\n",
       "      <td>NaN</td>\n",
       "      <td>...</td>\n",
       "      <td>2.033499e+06</td>\n",
       "      <td>1.410038e+06</td>\n",
       "      <td>NaN</td>\n",
       "      <td>NaN</td>\n",
       "      <td>NaN</td>\n",
       "      <td>NaN</td>\n",
       "      <td>NaN</td>\n",
       "      <td>NaN</td>\n",
       "      <td>NaN</td>\n",
       "      <td>9.098854e+05</td>\n",
       "    </tr>\n",
       "    <tr>\n",
       "      <th>Industry_Food and Tobacco_Solid biomass</th>\n",
       "      <td>NaN</td>\n",
       "      <td>NaN</td>\n",
       "      <td>NaN</td>\n",
       "      <td>NaN</td>\n",
       "      <td>NaN</td>\n",
       "      <td>1.225494e+06</td>\n",
       "      <td>NaN</td>\n",
       "      <td>298447.144647</td>\n",
       "      <td>NaN</td>\n",
       "      <td>NaN</td>\n",
       "      <td>...</td>\n",
       "      <td>7.431459e+05</td>\n",
       "      <td>7.628308e+07</td>\n",
       "      <td>3.823759e+06</td>\n",
       "      <td>NaN</td>\n",
       "      <td>NaN</td>\n",
       "      <td>NaN</td>\n",
       "      <td>NaN</td>\n",
       "      <td>NaN</td>\n",
       "      <td>NaN</td>\n",
       "      <td>8.803603e+05</td>\n",
       "    </tr>\n",
       "    <tr>\n",
       "      <th>Industry_Food processing_Electricity</th>\n",
       "      <td>NaN</td>\n",
       "      <td>NaN</td>\n",
       "      <td>NaN</td>\n",
       "      <td>NaN</td>\n",
       "      <td>NaN</td>\n",
       "      <td>1.990820e+07</td>\n",
       "      <td>NaN</td>\n",
       "      <td>580945.064255</td>\n",
       "      <td>NaN</td>\n",
       "      <td>NaN</td>\n",
       "      <td>...</td>\n",
       "      <td>2.033499e+06</td>\n",
       "      <td>1.410038e+06</td>\n",
       "      <td>NaN</td>\n",
       "      <td>NaN</td>\n",
       "      <td>NaN</td>\n",
       "      <td>NaN</td>\n",
       "      <td>NaN</td>\n",
       "      <td>NaN</td>\n",
       "      <td>NaN</td>\n",
       "      <td>9.098854e+05</td>\n",
       "    </tr>\n",
       "  </tbody>\n",
       "</table>\n",
       "<p>5 rows × 69 columns</p>\n",
       "</div>"
      ],
      "text/plain": [
       "act_category                                                                                                                       Carbon capture  \\\n",
       "model scenario   year region impact_category                                    variable                                                            \n",
       "image SSP2-RCP19 2020 BRA    EF v3.1 - acidification - accumulated exceedanc... Heating_Residential (water heating)_Liquid fossil             NaN   \n",
       "                                                                                Industry_Chemical (high value)_Liquid fossil                  NaN   \n",
       "                                                                                Industry_Food and Tobacco_Electricity                         NaN   \n",
       "                                                                                Industry_Food and Tobacco_Solid biomass                       NaN   \n",
       "                                                                                Industry_Food processing_Electricity                          NaN   \n",
       "\n",
       "act_category                                                                                                                       Collection of nonhazardous waste  \\\n",
       "model scenario   year region impact_category                                    variable                                                                              \n",
       "image SSP2-RCP19 2020 BRA    EF v3.1 - acidification - accumulated exceedanc... Heating_Residential (water heating)_Liquid fossil                               NaN   \n",
       "                                                                                Industry_Chemical (high value)_Liquid fossil                                    NaN   \n",
       "                                                                                Industry_Food and Tobacco_Electricity                                           NaN   \n",
       "                                                                                Industry_Food and Tobacco_Solid biomass                                         NaN   \n",
       "                                                                                Industry_Food processing_Electricity                                            NaN   \n",
       "\n",
       "act_category                                                                                                                       Construction of other civil engineering projects  \\\n",
       "model scenario   year region impact_category                                    variable                                                                                              \n",
       "image SSP2-RCP19 2020 BRA    EF v3.1 - acidification - accumulated exceedanc... Heating_Residential (water heating)_Liquid fossil                                               NaN   \n",
       "                                                                                Industry_Chemical (high value)_Liquid fossil                                                    NaN   \n",
       "                                                                                Industry_Food and Tobacco_Electricity                                                           NaN   \n",
       "                                                                                Industry_Food and Tobacco_Solid biomass                                                         NaN   \n",
       "                                                                                Industry_Food processing_Electricity                                                            NaN   \n",
       "\n",
       "act_category                                                                                                                       Construction of roads and railways  \\\n",
       "model scenario   year region impact_category                                    variable                                                                                \n",
       "image SSP2-RCP19 2020 BRA    EF v3.1 - acidification - accumulated exceedanc... Heating_Residential (water heating)_Liquid fossil                                 NaN   \n",
       "                                                                                Industry_Chemical (high value)_Liquid fossil                                      NaN   \n",
       "                                                                                Industry_Food and Tobacco_Electricity                                             NaN   \n",
       "                                                                                Industry_Food and Tobacco_Solid biomass                                           NaN   \n",
       "                                                                                Industry_Food processing_Electricity                                              NaN   \n",
       "\n",
       "act_category                                                                                                                       Construction of utility projects  \\\n",
       "model scenario   year region impact_category                                    variable                                                                              \n",
       "image SSP2-RCP19 2020 BRA    EF v3.1 - acidification - accumulated exceedanc... Heating_Residential (water heating)_Liquid fossil                               NaN   \n",
       "                                                                                Industry_Chemical (high value)_Liquid fossil                                    NaN   \n",
       "                                                                                Industry_Food and Tobacco_Electricity                                           NaN   \n",
       "                                                                                Industry_Food and Tobacco_Solid biomass                                         NaN   \n",
       "                                                                                Industry_Food processing_Electricity                                            NaN   \n",
       "\n",
       "act_category                                                                                                                       Electric power generation transmission and distribution  \\\n",
       "model scenario   year region impact_category                                    variable                                                                                                     \n",
       "image SSP2-RCP19 2020 BRA    EF v3.1 - acidification - accumulated exceedanc... Heating_Residential (water heating)_Liquid fossil                                                NaN         \n",
       "                                                                                Industry_Chemical (high value)_Liquid fossil                                            4.935812e+08         \n",
       "                                                                                Industry_Food and Tobacco_Electricity                                                   1.990820e+07         \n",
       "                                                                                Industry_Food and Tobacco_Solid biomass                                                 1.225494e+06         \n",
       "                                                                                Industry_Food processing_Electricity                                                    1.990820e+07         \n",
       "\n",
       "act_category                                                                                                                       Extraction of crude petroleum  \\\n",
       "model scenario   year region impact_category                                    variable                                                                           \n",
       "image SSP2-RCP19 2020 BRA    EF v3.1 - acidification - accumulated exceedanc... Heating_Residential (water heating)_Liquid fossil                            NaN   \n",
       "                                                                                Industry_Chemical (high value)_Liquid fossil                                 NaN   \n",
       "                                                                                Industry_Food and Tobacco_Electricity                                        NaN   \n",
       "                                                                                Industry_Food and Tobacco_Solid biomass                                      NaN   \n",
       "                                                                                Industry_Food processing_Electricity                                         NaN   \n",
       "\n",
       "act_category                                                                                                                       Extraction of crude petroleum and natural gas  \\\n",
       "model scenario   year region impact_category                                    variable                                                                                           \n",
       "image SSP2-RCP19 2020 BRA    EF v3.1 - acidification - accumulated exceedanc... Heating_Residential (water heating)_Liquid fossil                                            NaN   \n",
       "                                                                                Industry_Chemical (high value)_Liquid fossil                                       513907.043401   \n",
       "                                                                                Industry_Food and Tobacco_Electricity                                              580945.064255   \n",
       "                                                                                Industry_Food and Tobacco_Solid biomass                                            298447.144647   \n",
       "                                                                                Industry_Food processing_Electricity                                               580945.064255   \n",
       "\n",
       "act_category                                                                                                                       Extraction of natural gas  \\\n",
       "model scenario   year region impact_category                                    variable                                                                       \n",
       "image SSP2-RCP19 2020 BRA    EF v3.1 - acidification - accumulated exceedanc... Heating_Residential (water heating)_Liquid fossil                        NaN   \n",
       "                                                                                Industry_Chemical (high value)_Liquid fossil                             NaN   \n",
       "                                                                                Industry_Food and Tobacco_Electricity                                    NaN   \n",
       "                                                                                Industry_Food and Tobacco_Solid biomass                                  NaN   \n",
       "                                                                                Industry_Food processing_Electricity                                     NaN   \n",
       "\n",
       "act_category                                                                                                                       Extraction of salt  \\\n",
       "model scenario   year region impact_category                                    variable                                                                \n",
       "image SSP2-RCP19 2020 BRA    EF v3.1 - acidification - accumulated exceedanc... Heating_Residential (water heating)_Liquid fossil                 NaN   \n",
       "                                                                                Industry_Chemical (high value)_Liquid fossil                      NaN   \n",
       "                                                                                Industry_Food and Tobacco_Electricity                             NaN   \n",
       "                                                                                Industry_Food and Tobacco_Solid biomass                           NaN   \n",
       "                                                                                Industry_Food processing_Electricity                              NaN   \n",
       "\n",
       "act_category                                                                                                                       ...  \\\n",
       "model scenario   year region impact_category                                    variable                                           ...   \n",
       "image SSP2-RCP19 2020 BRA    EF v3.1 - acidification - accumulated exceedanc... Heating_Residential (water heating)_Liquid fossil  ...   \n",
       "                                                                                Industry_Chemical (high value)_Liquid fossil       ...   \n",
       "                                                                                Industry_Food and Tobacco_Electricity              ...   \n",
       "                                                                                Industry_Food and Tobacco_Solid biomass            ...   \n",
       "                                                                                Industry_Food processing_Electricity               ...   \n",
       "\n",
       "act_category                                                                                                                       Site preparation  \\\n",
       "model scenario   year region impact_category                                    variable                                                              \n",
       "image SSP2-RCP19 2020 BRA    EF v3.1 - acidification - accumulated exceedanc... Heating_Residential (water heating)_Liquid fossil               NaN   \n",
       "                                                                                Industry_Chemical (high value)_Liquid fossil           1.860549e+06   \n",
       "                                                                                Industry_Food and Tobacco_Electricity                  2.033499e+06   \n",
       "                                                                                Industry_Food and Tobacco_Solid biomass                7.431459e+05   \n",
       "                                                                                Industry_Food processing_Electricity                   2.033499e+06   \n",
       "\n",
       "act_category                                                                                                                       Steam and air conditioning supply  \\\n",
       "model scenario   year region impact_category                                    variable                                                                               \n",
       "image SSP2-RCP19 2020 BRA    EF v3.1 - acidification - accumulated exceedanc... Heating_Residential (water heating)_Liquid fossil                                NaN   \n",
       "                                                                                Industry_Chemical (high value)_Liquid fossil                            8.043030e+05   \n",
       "                                                                                Industry_Food and Tobacco_Electricity                                   1.410038e+06   \n",
       "                                                                                Industry_Food and Tobacco_Solid biomass                                 7.628308e+07   \n",
       "                                                                                Industry_Food processing_Electricity                                    1.410038e+06   \n",
       "\n",
       "act_category                                                                                                                       Support activities for crop production  \\\n",
       "model scenario   year region impact_category                                    variable                                                                                    \n",
       "image SSP2-RCP19 2020 BRA    EF v3.1 - acidification - accumulated exceedanc... Heating_Residential (water heating)_Liquid fossil                                     NaN   \n",
       "                                                                                Industry_Chemical (high value)_Liquid fossil                                          NaN   \n",
       "                                                                                Industry_Food and Tobacco_Electricity                                                 NaN   \n",
       "                                                                                Industry_Food and Tobacco_Solid biomass                                      3.823759e+06   \n",
       "                                                                                Industry_Food processing_Electricity                                                  NaN   \n",
       "\n",
       "act_category                                                                                                                       Support activities for petroleum and natural gas extraction  \\\n",
       "model scenario   year region impact_category                                    variable                                                                                                         \n",
       "image SSP2-RCP19 2020 BRA    EF v3.1 - acidification - accumulated exceedanc... Heating_Residential (water heating)_Liquid fossil                                                NaN             \n",
       "                                                                                Industry_Chemical (high value)_Liquid fossil                                                     NaN             \n",
       "                                                                                Industry_Food and Tobacco_Electricity                                                            NaN             \n",
       "                                                                                Industry_Food and Tobacco_Solid biomass                                                          NaN             \n",
       "                                                                                Industry_Food processing_Electricity                                                             NaN             \n",
       "\n",
       "act_category                                                                                                                       Transport via pipeline  \\\n",
       "model scenario   year region impact_category                                    variable                                                                    \n",
       "image SSP2-RCP19 2020 BRA    EF v3.1 - acidification - accumulated exceedanc... Heating_Residential (water heating)_Liquid fossil                     NaN   \n",
       "                                                                                Industry_Chemical (high value)_Liquid fossil                          NaN   \n",
       "                                                                                Industry_Food and Tobacco_Electricity                                 NaN   \n",
       "                                                                                Industry_Food and Tobacco_Solid biomass                               NaN   \n",
       "                                                                                Industry_Food processing_Electricity                                  NaN   \n",
       "\n",
       "act_category                                                                                                                       Treatment and coating of metals machining  \\\n",
       "model scenario   year region impact_category                                    variable                                                                                       \n",
       "image SSP2-RCP19 2020 BRA    EF v3.1 - acidification - accumulated exceedanc... Heating_Residential (water heating)_Liquid fossil                                        NaN   \n",
       "                                                                                Industry_Chemical (high value)_Liquid fossil                                             NaN   \n",
       "                                                                                Industry_Food and Tobacco_Electricity                                                    NaN   \n",
       "                                                                                Industry_Food and Tobacco_Solid biomass                                                  NaN   \n",
       "                                                                                Industry_Food processing_Electricity                                                     NaN   \n",
       "\n",
       "act_category                                                                                                                       Treatment and disposal of hazardous waste  \\\n",
       "model scenario   year region impact_category                                    variable                                                                                       \n",
       "image SSP2-RCP19 2020 BRA    EF v3.1 - acidification - accumulated exceedanc... Heating_Residential (water heating)_Liquid fossil                                        NaN   \n",
       "                                                                                Industry_Chemical (high value)_Liquid fossil                                             NaN   \n",
       "                                                                                Industry_Food and Tobacco_Electricity                                                    NaN   \n",
       "                                                                                Industry_Food and Tobacco_Solid biomass                                                  NaN   \n",
       "                                                                                Industry_Food processing_Electricity                                                     NaN   \n",
       "\n",
       "act_category                                                                                                                       Treatment and disposal of nonhazardous waste  \\\n",
       "model scenario   year region impact_category                                    variable                                                                                          \n",
       "image SSP2-RCP19 2020 BRA    EF v3.1 - acidification - accumulated exceedanc... Heating_Residential (water heating)_Liquid fossil                                           NaN   \n",
       "                                                                                Industry_Chemical (high value)_Liquid fossil                                                NaN   \n",
       "                                                                                Industry_Food and Tobacco_Electricity                                                       NaN   \n",
       "                                                                                Industry_Food and Tobacco_Solid biomass                                                     NaN   \n",
       "                                                                                Industry_Food processing_Electricity                                                        NaN   \n",
       "\n",
       "act_category                                                                                                                       Water collection treatment and supply  \\\n",
       "model scenario   year region impact_category                                    variable                                                                                   \n",
       "image SSP2-RCP19 2020 BRA    EF v3.1 - acidification - accumulated exceedanc... Heating_Residential (water heating)_Liquid fossil                                    NaN   \n",
       "                                                                                Industry_Chemical (high value)_Liquid fossil                                         NaN   \n",
       "                                                                                Industry_Food and Tobacco_Electricity                                                NaN   \n",
       "                                                                                Industry_Food and Tobacco_Solid biomass                                              NaN   \n",
       "                                                                                Industry_Food processing_Electricity                                                 NaN   \n",
       "\n",
       "act_category                                                                                                                              other  \n",
       "model scenario   year region impact_category                                    variable                                                         \n",
       "image SSP2-RCP19 2020 BRA    EF v3.1 - acidification - accumulated exceedanc... Heating_Residential (water heating)_Liquid fossil  5.360020e+05  \n",
       "                                                                                Industry_Chemical (high value)_Liquid fossil       1.392382e+06  \n",
       "                                                                                Industry_Food and Tobacco_Electricity              9.098854e+05  \n",
       "                                                                                Industry_Food and Tobacco_Solid biomass            8.803603e+05  \n",
       "                                                                                Industry_Food processing_Electricity               9.098854e+05  \n",
       "\n",
       "[5 rows x 69 columns]"
      ]
     },
     "execution_count": 11,
     "metadata": {},
     "output_type": "execute_result"
    }
   ],
   "source": [
    "df.head()"
   ]
  },
  {
   "cell_type": "code",
   "execution_count": 12,
   "id": "40301255-6a18-4968-857a-2a46ecaac165",
   "metadata": {},
   "outputs": [],
   "source": [
    "df=df.reset_index().melt(id_vars=[\n",
    "    \"model\", \"scenario\", \"region\", \"impact_category\", \"variable\", \"year\"\n",
    "])"
   ]
  },
  {
   "cell_type": "code",
   "execution_count": 13,
   "id": "60c8b5e2-431f-461b-b0b8-023ed5d57412",
   "metadata": {},
   "outputs": [
    {
     "data": {
      "text/plain": [
       "68699919"
      ]
     },
     "execution_count": 13,
     "metadata": {},
     "output_type": "execute_result"
    }
   ],
   "source": [
    "len(df)"
   ]
  },
  {
   "cell_type": "code",
   "execution_count": 14,
   "id": "d7e240c6-78b7-4e0b-b238-72ca5f6f7471",
   "metadata": {},
   "outputs": [
    {
     "data": {
      "text/plain": [
       "13627431"
      ]
     },
     "execution_count": 14,
     "metadata": {},
     "output_type": "execute_result"
    }
   ],
   "source": [
    "years = [2020, 2025, 2030, 2035, 2040, 2045, 2050, 2055, 2060, 2065, 2070, 2075, 2080, 2085, 2090, 2095, 2100]\n",
    "df_short = df.loc[df[\"year\"].isin(years)]\n",
    "len(df_short)"
   ]
  },
  {
   "cell_type": "code",
   "execution_count": 15,
   "id": "9bb4ebbb-1516-44f1-9858-0fbebe23ac62",
   "metadata": {},
   "outputs": [
    {
     "data": {
      "text/plain": [
       "930220"
      ]
     },
     "execution_count": 15,
     "metadata": {},
     "output_type": "execute_result"
    }
   ],
   "source": [
    "df_short = df_short.loc[~df_short[\"value\"].isnull()]\n",
    "len(df_short)"
   ]
  },
  {
   "cell_type": "code",
   "execution_count": 16,
   "id": "f33230d2-44fe-4c47-a3b0-eecbf3fd311c",
   "metadata": {},
   "outputs": [],
   "source": [
    "df_short[['Main sector', 'Sub sector', 'Energy carrier']] = df_short['variable'].str.split('_', expand=True)"
   ]
  },
  {
   "cell_type": "code",
   "execution_count": 17,
   "id": "93289b77-0a65-4213-becc-5c9ee28d8730",
   "metadata": {
    "tags": []
   },
   "outputs": [
    {
     "data": {
      "text/html": [
       "<div>\n",
       "<style scoped>\n",
       "    .dataframe tbody tr th:only-of-type {\n",
       "        vertical-align: middle;\n",
       "    }\n",
       "\n",
       "    .dataframe tbody tr th {\n",
       "        vertical-align: top;\n",
       "    }\n",
       "\n",
       "    .dataframe thead th {\n",
       "        text-align: right;\n",
       "    }\n",
       "</style>\n",
       "<table border=\"1\" class=\"dataframe\">\n",
       "  <thead>\n",
       "    <tr style=\"text-align: right;\">\n",
       "      <th></th>\n",
       "      <th>model</th>\n",
       "      <th>scenario</th>\n",
       "      <th>region</th>\n",
       "      <th>impact_category</th>\n",
       "      <th>variable</th>\n",
       "      <th>year</th>\n",
       "      <th>act_category</th>\n",
       "      <th>value</th>\n",
       "      <th>Main sector</th>\n",
       "      <th>Sub sector</th>\n",
       "      <th>Energy carrier</th>\n",
       "    </tr>\n",
       "  </thead>\n",
       "  <tbody>\n",
       "    <tr>\n",
       "      <th>188323</th>\n",
       "      <td>image</td>\n",
       "      <td>SSP2-RCP19</td>\n",
       "      <td>CAN</td>\n",
       "      <td>EF v3.1 - acidification - accumulated exceedan...</td>\n",
       "      <td>Heating_Residential (water heating)_Electricity</td>\n",
       "      <td>2035</td>\n",
       "      <td>Carbon capture</td>\n",
       "      <td>2.375128e+06</td>\n",
       "      <td>Heating</td>\n",
       "      <td>Residential (water heating)</td>\n",
       "      <td>Electricity</td>\n",
       "    </tr>\n",
       "    <tr>\n",
       "      <th>188327</th>\n",
       "      <td>image</td>\n",
       "      <td>SSP2-RCP19</td>\n",
       "      <td>CAN</td>\n",
       "      <td>EF v3.1 - acidification - accumulated exceedan...</td>\n",
       "      <td>Industry_Pulp and Paper_Electricity</td>\n",
       "      <td>2035</td>\n",
       "      <td>Carbon capture</td>\n",
       "      <td>2.669263e+06</td>\n",
       "      <td>Industry</td>\n",
       "      <td>Pulp and Paper</td>\n",
       "      <td>Electricity</td>\n",
       "    </tr>\n",
       "    <tr>\n",
       "      <th>188533</th>\n",
       "      <td>image</td>\n",
       "      <td>SSP2-RCP19</td>\n",
       "      <td>CAN</td>\n",
       "      <td>EF v3.1 - particulate matter formation - impac...</td>\n",
       "      <td>Heating_Residential (water heating)_Electricity</td>\n",
       "      <td>2035</td>\n",
       "      <td>Carbon capture</td>\n",
       "      <td>1.651579e+01</td>\n",
       "      <td>Heating</td>\n",
       "      <td>Residential (water heating)</td>\n",
       "      <td>Electricity</td>\n",
       "    </tr>\n",
       "    <tr>\n",
       "      <th>188537</th>\n",
       "      <td>image</td>\n",
       "      <td>SSP2-RCP19</td>\n",
       "      <td>CAN</td>\n",
       "      <td>EF v3.1 - particulate matter formation - impac...</td>\n",
       "      <td>Industry_Pulp and Paper_Electricity</td>\n",
       "      <td>2035</td>\n",
       "      <td>Carbon capture</td>\n",
       "      <td>1.856110e+01</td>\n",
       "      <td>Industry</td>\n",
       "      <td>Pulp and Paper</td>\n",
       "      <td>Electricity</td>\n",
       "    </tr>\n",
       "    <tr>\n",
       "      <th>190269</th>\n",
       "      <td>image</td>\n",
       "      <td>SSP2-RCP19</td>\n",
       "      <td>EAF</td>\n",
       "      <td>EF v3.1 - acidification - accumulated exceedan...</td>\n",
       "      <td>Industry_Food and Tobacco_Electricity</td>\n",
       "      <td>2035</td>\n",
       "      <td>Carbon capture</td>\n",
       "      <td>9.791550e+05</td>\n",
       "      <td>Industry</td>\n",
       "      <td>Food and Tobacco</td>\n",
       "      <td>Electricity</td>\n",
       "    </tr>\n",
       "  </tbody>\n",
       "</table>\n",
       "</div>"
      ],
      "text/plain": [
       "        model    scenario region  \\\n",
       "188323  image  SSP2-RCP19    CAN   \n",
       "188327  image  SSP2-RCP19    CAN   \n",
       "188533  image  SSP2-RCP19    CAN   \n",
       "188537  image  SSP2-RCP19    CAN   \n",
       "190269  image  SSP2-RCP19    EAF   \n",
       "\n",
       "                                          impact_category  \\\n",
       "188323  EF v3.1 - acidification - accumulated exceedan...   \n",
       "188327  EF v3.1 - acidification - accumulated exceedan...   \n",
       "188533  EF v3.1 - particulate matter formation - impac...   \n",
       "188537  EF v3.1 - particulate matter formation - impac...   \n",
       "190269  EF v3.1 - acidification - accumulated exceedan...   \n",
       "\n",
       "                                               variable  year    act_category  \\\n",
       "188323  Heating_Residential (water heating)_Electricity  2035  Carbon capture   \n",
       "188327              Industry_Pulp and Paper_Electricity  2035  Carbon capture   \n",
       "188533  Heating_Residential (water heating)_Electricity  2035  Carbon capture   \n",
       "188537              Industry_Pulp and Paper_Electricity  2035  Carbon capture   \n",
       "190269            Industry_Food and Tobacco_Electricity  2035  Carbon capture   \n",
       "\n",
       "               value Main sector                   Sub sector Energy carrier  \n",
       "188323  2.375128e+06     Heating  Residential (water heating)    Electricity  \n",
       "188327  2.669263e+06    Industry               Pulp and Paper    Electricity  \n",
       "188533  1.651579e+01     Heating  Residential (water heating)    Electricity  \n",
       "188537  1.856110e+01    Industry               Pulp and Paper    Electricity  \n",
       "190269  9.791550e+05    Industry             Food and Tobacco    Electricity  "
      ]
     },
     "execution_count": 17,
     "metadata": {},
     "output_type": "execute_result"
    }
   ],
   "source": [
    "df_short.head()"
   ]
  },
  {
   "cell_type": "code",
   "execution_count": 18,
   "id": "1f2a611d-607f-41e9-b551-14f007d0a207",
   "metadata": {
    "tags": []
   },
   "outputs": [],
   "source": [
    "df_short.loc[df_short[\"value\"]<0, \"value\"] = 0"
   ]
  },
  {
   "cell_type": "code",
   "execution_count": 19,
   "id": "6a129543-43d1-4ac1-9550-8349517e5c81",
   "metadata": {},
   "outputs": [
    {
     "data": {
      "text/html": [
       "\n",
       "        <iframe\n",
       "            width=\"100%\"\n",
       "            height=\"500\"\n",
       "            src=\"IMAGE_SSP2_RCP19.html\"\n",
       "            frameborder=\"0\"\n",
       "            allowfullscreen\n",
       "            \n",
       "        ></iframe>\n",
       "        "
      ],
      "text/plain": [
       "<IPython.lib.display.IFrame at 0x12ee7bc10>"
      ]
     },
     "execution_count": 19,
     "metadata": {},
     "output_type": "execute_result"
    }
   ],
   "source": [
    "from pivottablejs import pivot_ui\n",
    "from IPython.display import HTML\n",
    "pivot_ui(df_short.loc[~df_short[\"value\"].isnull()], outfile_path='IMAGE_SSP2_RCP19.html')"
   ]
  },
  {
   "cell_type": "code",
   "execution_count": null,
   "id": "c2b2a738-eadd-4484-af93-fa4ef448819f",
   "metadata": {},
   "outputs": [],
   "source": []
  },
  {
   "cell_type": "code",
   "execution_count": null,
   "id": "e09d7255-3959-4375-83c9-9daba005535f",
   "metadata": {},
   "outputs": [],
   "source": []
  },
  {
   "cell_type": "code",
   "execution_count": null,
   "id": "99aa311e-ba9b-4fd0-9fcb-198834964e25",
   "metadata": {},
   "outputs": [],
   "source": []
  },
  {
   "cell_type": "code",
   "execution_count": null,
   "id": "85c8b131-4863-4fce-b15a-bc8885b10cb6",
   "metadata": {},
   "outputs": [],
   "source": []
  },
  {
   "cell_type": "code",
   "execution_count": null,
   "id": "0ec0e303-72e9-4c05-9737-7946a2fd6e2f",
   "metadata": {},
   "outputs": [],
   "source": []
  },
  {
   "cell_type": "code",
   "execution_count": null,
   "id": "994dd3fb-79a0-4da6-a3fd-7b9f51c7f21e",
   "metadata": {},
   "outputs": [],
   "source": []
  },
  {
   "cell_type": "code",
   "execution_count": 1,
   "id": "09ecc66d-f028-4c60-a8a1-3f80d27c4821",
   "metadata": {},
   "outputs": [],
   "source": [
    "from pathways import Pathways"
   ]
  },
  {
   "cell_type": "code",
   "execution_count": 2,
   "id": "b3b37d5c-8f65-4fb3-8f1b-7bbc05327081",
   "metadata": {},
   "outputs": [
    {
     "name": "stdout",
     "output_type": "stream",
     "text": [
      "Invalid datapackage: Descriptor validation error: {'path': 'mapping/mapping.yaml', 'profile': 'data-resource', 'name': 'mapping', 'format': 'yaml', 'mediatype': 'text/yaml', 'encoding': 'utf-8'} is not valid under any of the given schemas at \"resources/89\" in descriptor and at \"properties/resources/items/oneOf\" in profile\n",
      "Invalid datapackage: Descriptor validation error: 'data-resource' is not one of ['tabular-data-resource'] at \"resources/89/profile\" in descriptor and at \"properties/resources/items/properties/profile/enum\" in profile\n"
     ]
    }
   ],
   "source": [
    "p = Pathways(datapackage=\"/Users/romain/GitHub/premise/dev/image-SSP2/datapackage.json\")"
   ]
  },
  {
   "cell_type": "code",
   "execution_count": 3,
   "id": "2f3bf87a-5922-41b6-92e5-0a5e55500e8e",
   "metadata": {
    "tags": []
   },
   "outputs": [
    {
     "name": "stdout",
     "output_type": "stream",
     "text": [
      "Calculating LCA results for image...\n",
      "--- Calculating LCA results for SSP2-Base...\n",
      "------ Calculating LCA results for 2005...\n"
     ]
    },
    {
     "name": "stderr",
     "output_type": "stream",
     "text": [
      "0% [##########################] 100% | ETA: 00:00:00\n",
      "Total time elapsed: 00:17:59\n"
     ]
    },
    {
     "name": "stdout",
     "output_type": "stream",
     "text": [
      "------ Calculating LCA results for 2010...\n"
     ]
    },
    {
     "name": "stderr",
     "output_type": "stream",
     "text": [
      "0% [######################    ] 100% | ETA: 00:02:45\n",
      "KeyboardInterrupt\n",
      "\n"
     ]
    }
   ],
   "source": [
    "import numpy as np\n",
    "p.calculate(\n",
    "    methods=[\n",
    "        'EF v3.1 - acidification - accumulated exceedance (AE)',\n",
    "        'EF v3.1 - climate change - global warming potential (GWP100)',\n",
    "        'EF v3.1 - ecotoxicity: freshwater - comparative toxic unit for ecosystems (CTUe)',\n",
    "        'EF v3.1 - energy resources: non-renewable - abiotic depletion potential (ADP): fossil fuels',\n",
    "        'EF v3.1 - eutrophication: freshwater - fraction of nutrients reaching freshwater end compartment (P)',\n",
    "        #'EF v3.1 - eutrophication: marine - fraction of nutrients reaching marine end compartment (N)',\n",
    "        #'EF v3.1 - eutrophication: terrestrial - accumulated exceedance (AE)',\n",
    "        #'EF v3.1 - human toxicity: carcinogenic - comparative toxic unit for human (CTUh)',\n",
    "        #'EF v3.1 - human toxicity: non-carcinogenic - comparative toxic unit for human (CTUh)',\n",
    "        #'EF v3.1 - ionising radiation: human health - human exposure efficiency relative to u235',\n",
    "        #'EF v3.1 - land use - soil quality index',\n",
    "        'EF v3.1 - material resources: metals/minerals - abiotic depletion potential (ADP): elements (ultimate reserves)',\n",
    "        'EF v3.1 - ozone depletion - ozone depletion potential (ODP)',\n",
    "        'EF v3.1 - particulate matter formation - impact on human health',\n",
    "        #'EF v3.1 - photochemical oxidant formation: human health - tropospheric ozone concentration increase',\n",
    "        'EF v3.1 - water use - user deprivation potential (deprivation-weighted water consumption)',\n",
    "        'RELICS - metals extraction - Aluminium',\n",
    "        'RELICS - metals extraction - Cobalt',\n",
    "        'RELICS - metals extraction - Copper',\n",
    "        'RELICS - metals extraction - Graphite',\n",
    "        'RELICS - metals extraction - Lithium',\n",
    "        'RELICS - metals extraction - Molybdenum',\n",
    "        'RELICS - metals extraction - Neodymium',\n",
    "        'RELICS - metals extraction - Nickel',\n",
    "        'RELICS - metals extraction - Platinum',\n",
    "        'RELICS - metals extraction - Vanadium',\n",
    "        'RELICS - metals extraction - Zinc',\n",
    "    ],\n",
    "    regions=[r for r in p.scenarios.coords[\"region\"].values if r!=\"World\"],\n",
    "    scenarios=[\n",
    "        \"SSP2-Base\",\n",
    "        #\"SSP2-RCP19\",\n",
    "    ],\n",
    "    variables=[\n",
    "        v for v in p.scenarios.coords[\"variables\"].values\n",
    "        if any(i in v for i in [\"Industry\", \"Transport\", \"Heating\"])\n",
    "    ],\n",
    "    years=[2005, 2010, 2020, 2030, 2040, 2050, 2060, 2070, 2080, 2090, 2100],\n",
    "    characterization=True,\n",
    "    data_type=np.float32,\n",
    "    multiprocessing=False,\n",
    "    demand_cutoff=0.1,\n",
    ")\n",
    "arr = p.display_results()"
   ]
  },
  {
   "cell_type": "code",
   "execution_count": null,
   "id": "83d7622b-18db-429b-9ec5-453244db74bb",
   "metadata": {},
   "outputs": [],
   "source": [
    "p.scenarios"
   ]
  },
  {
   "cell_type": "code",
   "execution_count": 4,
   "id": "a63727ad-455f-4d7d-80fb-086678cbf901",
   "metadata": {},
   "outputs": [
    {
     "data": {
      "text/html": [
       "<div><svg style=\"position: absolute; width: 0; height: 0; overflow: hidden\">\n",
       "<defs>\n",
       "<symbol id=\"icon-database\" viewBox=\"0 0 32 32\">\n",
       "<path d=\"M16 0c-8.837 0-16 2.239-16 5v4c0 2.761 7.163 5 16 5s16-2.239 16-5v-4c0-2.761-7.163-5-16-5z\"></path>\n",
       "<path d=\"M16 17c-8.837 0-16-2.239-16-5v6c0 2.761 7.163 5 16 5s16-2.239 16-5v-6c0 2.761-7.163 5-16 5z\"></path>\n",
       "<path d=\"M16 26c-8.837 0-16-2.239-16-5v6c0 2.761 7.163 5 16 5s16-2.239 16-5v-6c0 2.761-7.163 5-16 5z\"></path>\n",
       "</symbol>\n",
       "<symbol id=\"icon-file-text2\" viewBox=\"0 0 32 32\">\n",
       "<path d=\"M28.681 7.159c-0.694-0.947-1.662-2.053-2.724-3.116s-2.169-2.030-3.116-2.724c-1.612-1.182-2.393-1.319-2.841-1.319h-15.5c-1.378 0-2.5 1.121-2.5 2.5v27c0 1.378 1.122 2.5 2.5 2.5h23c1.378 0 2.5-1.122 2.5-2.5v-19.5c0-0.448-0.137-1.23-1.319-2.841zM24.543 5.457c0.959 0.959 1.712 1.825 2.268 2.543h-4.811v-4.811c0.718 0.556 1.584 1.309 2.543 2.268zM28 29.5c0 0.271-0.229 0.5-0.5 0.5h-23c-0.271 0-0.5-0.229-0.5-0.5v-27c0-0.271 0.229-0.5 0.5-0.5 0 0 15.499-0 15.5 0v7c0 0.552 0.448 1 1 1h7v19.5z\"></path>\n",
       "<path d=\"M23 26h-14c-0.552 0-1-0.448-1-1s0.448-1 1-1h14c0.552 0 1 0.448 1 1s-0.448 1-1 1z\"></path>\n",
       "<path d=\"M23 22h-14c-0.552 0-1-0.448-1-1s0.448-1 1-1h14c0.552 0 1 0.448 1 1s-0.448 1-1 1z\"></path>\n",
       "<path d=\"M23 18h-14c-0.552 0-1-0.448-1-1s0.448-1 1-1h14c0.552 0 1 0.448 1 1s-0.448 1-1 1z\"></path>\n",
       "</symbol>\n",
       "</defs>\n",
       "</svg>\n",
       "<style>/* CSS stylesheet for displaying xarray objects in jupyterlab.\n",
       " *\n",
       " */\n",
       "\n",
       ":root {\n",
       "  --xr-font-color0: var(--jp-content-font-color0, rgba(0, 0, 0, 1));\n",
       "  --xr-font-color2: var(--jp-content-font-color2, rgba(0, 0, 0, 0.54));\n",
       "  --xr-font-color3: var(--jp-content-font-color3, rgba(0, 0, 0, 0.38));\n",
       "  --xr-border-color: var(--jp-border-color2, #e0e0e0);\n",
       "  --xr-disabled-color: var(--jp-layout-color3, #bdbdbd);\n",
       "  --xr-background-color: var(--jp-layout-color0, white);\n",
       "  --xr-background-color-row-even: var(--jp-layout-color1, white);\n",
       "  --xr-background-color-row-odd: var(--jp-layout-color2, #eeeeee);\n",
       "}\n",
       "\n",
       "html[theme=dark],\n",
       "body[data-theme=dark],\n",
       "body.vscode-dark {\n",
       "  --xr-font-color0: rgba(255, 255, 255, 1);\n",
       "  --xr-font-color2: rgba(255, 255, 255, 0.54);\n",
       "  --xr-font-color3: rgba(255, 255, 255, 0.38);\n",
       "  --xr-border-color: #1F1F1F;\n",
       "  --xr-disabled-color: #515151;\n",
       "  --xr-background-color: #111111;\n",
       "  --xr-background-color-row-even: #111111;\n",
       "  --xr-background-color-row-odd: #313131;\n",
       "}\n",
       "\n",
       ".xr-wrap {\n",
       "  display: block !important;\n",
       "  min-width: 300px;\n",
       "  max-width: 700px;\n",
       "}\n",
       "\n",
       ".xr-text-repr-fallback {\n",
       "  /* fallback to plain text repr when CSS is not injected (untrusted notebook) */\n",
       "  display: none;\n",
       "}\n",
       "\n",
       ".xr-header {\n",
       "  padding-top: 6px;\n",
       "  padding-bottom: 6px;\n",
       "  margin-bottom: 4px;\n",
       "  border-bottom: solid 1px var(--xr-border-color);\n",
       "}\n",
       "\n",
       ".xr-header > div,\n",
       ".xr-header > ul {\n",
       "  display: inline;\n",
       "  margin-top: 0;\n",
       "  margin-bottom: 0;\n",
       "}\n",
       "\n",
       ".xr-obj-type,\n",
       ".xr-array-name {\n",
       "  margin-left: 2px;\n",
       "  margin-right: 10px;\n",
       "}\n",
       "\n",
       ".xr-obj-type {\n",
       "  color: var(--xr-font-color2);\n",
       "}\n",
       "\n",
       ".xr-sections {\n",
       "  padding-left: 0 !important;\n",
       "  display: grid;\n",
       "  grid-template-columns: 150px auto auto 1fr 20px 20px;\n",
       "}\n",
       "\n",
       ".xr-section-item {\n",
       "  display: contents;\n",
       "}\n",
       "\n",
       ".xr-section-item input {\n",
       "  display: none;\n",
       "}\n",
       "\n",
       ".xr-section-item input + label {\n",
       "  color: var(--xr-disabled-color);\n",
       "}\n",
       "\n",
       ".xr-section-item input:enabled + label {\n",
       "  cursor: pointer;\n",
       "  color: var(--xr-font-color2);\n",
       "}\n",
       "\n",
       ".xr-section-item input:enabled + label:hover {\n",
       "  color: var(--xr-font-color0);\n",
       "}\n",
       "\n",
       ".xr-section-summary {\n",
       "  grid-column: 1;\n",
       "  color: var(--xr-font-color2);\n",
       "  font-weight: 500;\n",
       "}\n",
       "\n",
       ".xr-section-summary > span {\n",
       "  display: inline-block;\n",
       "  padding-left: 0.5em;\n",
       "}\n",
       "\n",
       ".xr-section-summary-in:disabled + label {\n",
       "  color: var(--xr-font-color2);\n",
       "}\n",
       "\n",
       ".xr-section-summary-in + label:before {\n",
       "  display: inline-block;\n",
       "  content: '►';\n",
       "  font-size: 11px;\n",
       "  width: 15px;\n",
       "  text-align: center;\n",
       "}\n",
       "\n",
       ".xr-section-summary-in:disabled + label:before {\n",
       "  color: var(--xr-disabled-color);\n",
       "}\n",
       "\n",
       ".xr-section-summary-in:checked + label:before {\n",
       "  content: '▼';\n",
       "}\n",
       "\n",
       ".xr-section-summary-in:checked + label > span {\n",
       "  display: none;\n",
       "}\n",
       "\n",
       ".xr-section-summary,\n",
       ".xr-section-inline-details {\n",
       "  padding-top: 4px;\n",
       "  padding-bottom: 4px;\n",
       "}\n",
       "\n",
       ".xr-section-inline-details {\n",
       "  grid-column: 2 / -1;\n",
       "}\n",
       "\n",
       ".xr-section-details {\n",
       "  display: none;\n",
       "  grid-column: 1 / -1;\n",
       "  margin-bottom: 5px;\n",
       "}\n",
       "\n",
       ".xr-section-summary-in:checked ~ .xr-section-details {\n",
       "  display: contents;\n",
       "}\n",
       "\n",
       ".xr-array-wrap {\n",
       "  grid-column: 1 / -1;\n",
       "  display: grid;\n",
       "  grid-template-columns: 20px auto;\n",
       "}\n",
       "\n",
       ".xr-array-wrap > label {\n",
       "  grid-column: 1;\n",
       "  vertical-align: top;\n",
       "}\n",
       "\n",
       ".xr-preview {\n",
       "  color: var(--xr-font-color3);\n",
       "}\n",
       "\n",
       ".xr-array-preview,\n",
       ".xr-array-data {\n",
       "  padding: 0 5px !important;\n",
       "  grid-column: 2;\n",
       "}\n",
       "\n",
       ".xr-array-data,\n",
       ".xr-array-in:checked ~ .xr-array-preview {\n",
       "  display: none;\n",
       "}\n",
       "\n",
       ".xr-array-in:checked ~ .xr-array-data,\n",
       ".xr-array-preview {\n",
       "  display: inline-block;\n",
       "}\n",
       "\n",
       ".xr-dim-list {\n",
       "  display: inline-block !important;\n",
       "  list-style: none;\n",
       "  padding: 0 !important;\n",
       "  margin: 0;\n",
       "}\n",
       "\n",
       ".xr-dim-list li {\n",
       "  display: inline-block;\n",
       "  padding: 0;\n",
       "  margin: 0;\n",
       "}\n",
       "\n",
       ".xr-dim-list:before {\n",
       "  content: '(';\n",
       "}\n",
       "\n",
       ".xr-dim-list:after {\n",
       "  content: ')';\n",
       "}\n",
       "\n",
       ".xr-dim-list li:not(:last-child):after {\n",
       "  content: ',';\n",
       "  padding-right: 5px;\n",
       "}\n",
       "\n",
       ".xr-has-index {\n",
       "  font-weight: bold;\n",
       "}\n",
       "\n",
       ".xr-var-list,\n",
       ".xr-var-item {\n",
       "  display: contents;\n",
       "}\n",
       "\n",
       ".xr-var-item > div,\n",
       ".xr-var-item label,\n",
       ".xr-var-item > .xr-var-name span {\n",
       "  background-color: var(--xr-background-color-row-even);\n",
       "  margin-bottom: 0;\n",
       "}\n",
       "\n",
       ".xr-var-item > .xr-var-name:hover span {\n",
       "  padding-right: 5px;\n",
       "}\n",
       "\n",
       ".xr-var-list > li:nth-child(odd) > div,\n",
       ".xr-var-list > li:nth-child(odd) > label,\n",
       ".xr-var-list > li:nth-child(odd) > .xr-var-name span {\n",
       "  background-color: var(--xr-background-color-row-odd);\n",
       "}\n",
       "\n",
       ".xr-var-name {\n",
       "  grid-column: 1;\n",
       "}\n",
       "\n",
       ".xr-var-dims {\n",
       "  grid-column: 2;\n",
       "}\n",
       "\n",
       ".xr-var-dtype {\n",
       "  grid-column: 3;\n",
       "  text-align: right;\n",
       "  color: var(--xr-font-color2);\n",
       "}\n",
       "\n",
       ".xr-var-preview {\n",
       "  grid-column: 4;\n",
       "}\n",
       "\n",
       ".xr-index-preview {\n",
       "  grid-column: 2 / 5;\n",
       "  color: var(--xr-font-color2);\n",
       "}\n",
       "\n",
       ".xr-var-name,\n",
       ".xr-var-dims,\n",
       ".xr-var-dtype,\n",
       ".xr-preview,\n",
       ".xr-attrs dt {\n",
       "  white-space: nowrap;\n",
       "  overflow: hidden;\n",
       "  text-overflow: ellipsis;\n",
       "  padding-right: 10px;\n",
       "}\n",
       "\n",
       ".xr-var-name:hover,\n",
       ".xr-var-dims:hover,\n",
       ".xr-var-dtype:hover,\n",
       ".xr-attrs dt:hover {\n",
       "  overflow: visible;\n",
       "  width: auto;\n",
       "  z-index: 1;\n",
       "}\n",
       "\n",
       ".xr-var-attrs,\n",
       ".xr-var-data,\n",
       ".xr-index-data {\n",
       "  display: none;\n",
       "  background-color: var(--xr-background-color) !important;\n",
       "  padding-bottom: 5px !important;\n",
       "}\n",
       "\n",
       ".xr-var-attrs-in:checked ~ .xr-var-attrs,\n",
       ".xr-var-data-in:checked ~ .xr-var-data,\n",
       ".xr-index-data-in:checked ~ .xr-index-data {\n",
       "  display: block;\n",
       "}\n",
       "\n",
       ".xr-var-data > table {\n",
       "  float: right;\n",
       "}\n",
       "\n",
       ".xr-var-name span,\n",
       ".xr-var-data,\n",
       ".xr-index-name div,\n",
       ".xr-index-data,\n",
       ".xr-attrs {\n",
       "  padding-left: 25px !important;\n",
       "}\n",
       "\n",
       ".xr-attrs,\n",
       ".xr-var-attrs,\n",
       ".xr-var-data,\n",
       ".xr-index-data {\n",
       "  grid-column: 1 / -1;\n",
       "}\n",
       "\n",
       "dl.xr-attrs {\n",
       "  padding: 0;\n",
       "  margin: 0;\n",
       "  display: grid;\n",
       "  grid-template-columns: 125px auto;\n",
       "}\n",
       "\n",
       ".xr-attrs dt,\n",
       ".xr-attrs dd {\n",
       "  padding: 0;\n",
       "  margin: 0;\n",
       "  float: left;\n",
       "  padding-right: 10px;\n",
       "  width: auto;\n",
       "}\n",
       "\n",
       ".xr-attrs dt {\n",
       "  font-weight: normal;\n",
       "  grid-column: 1;\n",
       "}\n",
       "\n",
       ".xr-attrs dt:hover span {\n",
       "  display: inline-block;\n",
       "  background: var(--xr-background-color);\n",
       "  padding-right: 10px;\n",
       "}\n",
       "\n",
       ".xr-attrs dd {\n",
       "  grid-column: 2;\n",
       "  white-space: pre-wrap;\n",
       "  word-break: break-all;\n",
       "}\n",
       "\n",
       ".xr-icon-database,\n",
       ".xr-icon-file-text2,\n",
       ".xr-no-icon {\n",
       "  display: inline-block;\n",
       "  vertical-align: middle;\n",
       "  width: 1em;\n",
       "  height: 1.5em !important;\n",
       "  stroke-width: 0;\n",
       "  stroke: currentColor;\n",
       "  fill: currentColor;\n",
       "}\n",
       "</style><pre class='xr-text-repr-fallback'>&lt;xarray.DataArray &#x27;value&#x27; (model: 0, scenario: 0, year: 0, region: 0,\n",
       "                           impact_category: 0, variable: 0, act_category: 0)&gt;\n",
       "array([], shape=(0, 0, 0, 0, 0, 0, 0), dtype=float64)\n",
       "Coordinates:\n",
       "  * model            (model) object \n",
       "  * scenario         (scenario) object \n",
       "  * year             (year) int64 \n",
       "  * region           (region) object \n",
       "  * impact_category  (impact_category) object \n",
       "  * variable         (variable) float64 \n",
       "  * act_category     (act_category) object </pre><div class='xr-wrap' style='display:none'><div class='xr-header'><div class='xr-obj-type'>xarray.DataArray</div><div class='xr-array-name'>'value'</div><ul class='xr-dim-list'><li><span class='xr-has-index'>model</span>: 0</li><li><span class='xr-has-index'>scenario</span>: 0</li><li><span class='xr-has-index'>year</span>: 0</li><li><span class='xr-has-index'>region</span>: 0</li><li><span class='xr-has-index'>impact_category</span>: 0</li><li><span class='xr-has-index'>variable</span>: 0</li><li><span class='xr-has-index'>act_category</span>: 0</li></ul></div><ul class='xr-sections'><li class='xr-section-item'><div class='xr-array-wrap'><input id='section-9260d193-faaf-46fa-91d3-df90a266b455' class='xr-array-in' type='checkbox' checked><label for='section-9260d193-faaf-46fa-91d3-df90a266b455' title='Show/hide data repr'><svg class='icon xr-icon-database'><use xlink:href='#icon-database'></use></svg></label><div class='xr-array-preview xr-preview'><span></span></div><div class='xr-array-data'><pre>array([], shape=(0, 0, 0, 0, 0, 0, 0), dtype=float64)</pre></div></div></li><li class='xr-section-item'><input id='section-0b0babbe-6252-42ee-b00d-b9613426e59c' class='xr-section-summary-in' type='checkbox'  checked><label for='section-0b0babbe-6252-42ee-b00d-b9613426e59c' class='xr-section-summary' >Coordinates: <span>(7)</span></label><div class='xr-section-inline-details'></div><div class='xr-section-details'><ul class='xr-var-list'><li class='xr-var-item'><div class='xr-var-name'><span class='xr-has-index'>model</span></div><div class='xr-var-dims'>(model)</div><div class='xr-var-dtype'>object</div><div class='xr-var-preview xr-preview'></div><input id='attrs-4258a7c1-385f-4a91-b724-384799d2028e' class='xr-var-attrs-in' type='checkbox' disabled><label for='attrs-4258a7c1-385f-4a91-b724-384799d2028e' title='Show/Hide attributes'><svg class='icon xr-icon-file-text2'><use xlink:href='#icon-file-text2'></use></svg></label><input id='data-113c9209-c4be-4c7e-9a7a-1064bd1c902a' class='xr-var-data-in' type='checkbox'><label for='data-113c9209-c4be-4c7e-9a7a-1064bd1c902a' title='Show/Hide data repr'><svg class='icon xr-icon-database'><use xlink:href='#icon-database'></use></svg></label><div class='xr-var-attrs'><dl class='xr-attrs'></dl></div><div class='xr-var-data'><pre>array([], dtype=object)</pre></div></li><li class='xr-var-item'><div class='xr-var-name'><span class='xr-has-index'>scenario</span></div><div class='xr-var-dims'>(scenario)</div><div class='xr-var-dtype'>object</div><div class='xr-var-preview xr-preview'></div><input id='attrs-8cac74ca-065c-4f4c-8585-ec54f8410e1b' class='xr-var-attrs-in' type='checkbox' disabled><label for='attrs-8cac74ca-065c-4f4c-8585-ec54f8410e1b' title='Show/Hide attributes'><svg class='icon xr-icon-file-text2'><use xlink:href='#icon-file-text2'></use></svg></label><input id='data-802e15a4-8595-4864-a4d8-862d568aba0d' class='xr-var-data-in' type='checkbox'><label for='data-802e15a4-8595-4864-a4d8-862d568aba0d' title='Show/Hide data repr'><svg class='icon xr-icon-database'><use xlink:href='#icon-database'></use></svg></label><div class='xr-var-attrs'><dl class='xr-attrs'></dl></div><div class='xr-var-data'><pre>array([], dtype=object)</pre></div></li><li class='xr-var-item'><div class='xr-var-name'><span class='xr-has-index'>year</span></div><div class='xr-var-dims'>(year)</div><div class='xr-var-dtype'>int64</div><div class='xr-var-preview xr-preview'></div><input id='attrs-38de9260-c8d5-47ab-8e29-45f011452224' class='xr-var-attrs-in' type='checkbox' disabled><label for='attrs-38de9260-c8d5-47ab-8e29-45f011452224' title='Show/Hide attributes'><svg class='icon xr-icon-file-text2'><use xlink:href='#icon-file-text2'></use></svg></label><input id='data-99c7f383-8320-4778-87fa-ce7783371f75' class='xr-var-data-in' type='checkbox'><label for='data-99c7f383-8320-4778-87fa-ce7783371f75' title='Show/Hide data repr'><svg class='icon xr-icon-database'><use xlink:href='#icon-database'></use></svg></label><div class='xr-var-attrs'><dl class='xr-attrs'></dl></div><div class='xr-var-data'><pre>array([], dtype=int64)</pre></div></li><li class='xr-var-item'><div class='xr-var-name'><span class='xr-has-index'>region</span></div><div class='xr-var-dims'>(region)</div><div class='xr-var-dtype'>object</div><div class='xr-var-preview xr-preview'></div><input id='attrs-655c1dfe-cd24-43ad-ad33-17c41cc7d218' class='xr-var-attrs-in' type='checkbox' disabled><label for='attrs-655c1dfe-cd24-43ad-ad33-17c41cc7d218' title='Show/Hide attributes'><svg class='icon xr-icon-file-text2'><use xlink:href='#icon-file-text2'></use></svg></label><input id='data-b6f1af02-f5f7-41c2-ac26-23fa928f5861' class='xr-var-data-in' type='checkbox'><label for='data-b6f1af02-f5f7-41c2-ac26-23fa928f5861' title='Show/Hide data repr'><svg class='icon xr-icon-database'><use xlink:href='#icon-database'></use></svg></label><div class='xr-var-attrs'><dl class='xr-attrs'></dl></div><div class='xr-var-data'><pre>array([], dtype=object)</pre></div></li><li class='xr-var-item'><div class='xr-var-name'><span class='xr-has-index'>impact_category</span></div><div class='xr-var-dims'>(impact_category)</div><div class='xr-var-dtype'>object</div><div class='xr-var-preview xr-preview'></div><input id='attrs-f13f7307-17cd-4cfd-a7c6-ce65f44ab291' class='xr-var-attrs-in' type='checkbox' disabled><label for='attrs-f13f7307-17cd-4cfd-a7c6-ce65f44ab291' title='Show/Hide attributes'><svg class='icon xr-icon-file-text2'><use xlink:href='#icon-file-text2'></use></svg></label><input id='data-4905237f-5bfa-4ab9-adfd-83b32d3ac1e4' class='xr-var-data-in' type='checkbox'><label for='data-4905237f-5bfa-4ab9-adfd-83b32d3ac1e4' title='Show/Hide data repr'><svg class='icon xr-icon-database'><use xlink:href='#icon-database'></use></svg></label><div class='xr-var-attrs'><dl class='xr-attrs'></dl></div><div class='xr-var-data'><pre>array([], dtype=object)</pre></div></li><li class='xr-var-item'><div class='xr-var-name'><span class='xr-has-index'>variable</span></div><div class='xr-var-dims'>(variable)</div><div class='xr-var-dtype'>float64</div><div class='xr-var-preview xr-preview'></div><input id='attrs-c881cf7d-2473-49c2-b79b-8ade135b5dc7' class='xr-var-attrs-in' type='checkbox' disabled><label for='attrs-c881cf7d-2473-49c2-b79b-8ade135b5dc7' title='Show/Hide attributes'><svg class='icon xr-icon-file-text2'><use xlink:href='#icon-file-text2'></use></svg></label><input id='data-5fb21623-70fe-4ffb-ba9e-956f61e5974f' class='xr-var-data-in' type='checkbox'><label for='data-5fb21623-70fe-4ffb-ba9e-956f61e5974f' title='Show/Hide data repr'><svg class='icon xr-icon-database'><use xlink:href='#icon-database'></use></svg></label><div class='xr-var-attrs'><dl class='xr-attrs'></dl></div><div class='xr-var-data'><pre>array([], dtype=float64)</pre></div></li><li class='xr-var-item'><div class='xr-var-name'><span class='xr-has-index'>act_category</span></div><div class='xr-var-dims'>(act_category)</div><div class='xr-var-dtype'>object</div><div class='xr-var-preview xr-preview'></div><input id='attrs-234d1202-750f-4bc2-bed2-07c5ac0afa32' class='xr-var-attrs-in' type='checkbox' disabled><label for='attrs-234d1202-750f-4bc2-bed2-07c5ac0afa32' title='Show/Hide attributes'><svg class='icon xr-icon-file-text2'><use xlink:href='#icon-file-text2'></use></svg></label><input id='data-db7e5c1a-6763-431f-911b-5c53eb8b865e' class='xr-var-data-in' type='checkbox'><label for='data-db7e5c1a-6763-431f-911b-5c53eb8b865e' title='Show/Hide data repr'><svg class='icon xr-icon-database'><use xlink:href='#icon-database'></use></svg></label><div class='xr-var-attrs'><dl class='xr-attrs'></dl></div><div class='xr-var-data'><pre>array([], dtype=object)</pre></div></li></ul></div></li><li class='xr-section-item'><input id='section-56a40fcd-5b57-4488-a570-183064a73511' class='xr-section-summary-in' type='checkbox'  ><label for='section-56a40fcd-5b57-4488-a570-183064a73511' class='xr-section-summary' >Indexes: <span>(7)</span></label><div class='xr-section-inline-details'></div><div class='xr-section-details'><ul class='xr-var-list'><li class='xr-var-item'><div class='xr-index-name'><div>model</div></div><div class='xr-index-preview'>PandasIndex</div><div></div><input id='index-7346c56e-0cc7-4edd-af93-cd2f15a31f8f' class='xr-index-data-in' type='checkbox'/><label for='index-7346c56e-0cc7-4edd-af93-cd2f15a31f8f' title='Show/Hide index repr'><svg class='icon xr-icon-database'><use xlink:href='#icon-database'></use></svg></label><div class='xr-index-data'><pre>PandasIndex(Index([], dtype=&#x27;object&#x27;, name=&#x27;model&#x27;))</pre></div></li><li class='xr-var-item'><div class='xr-index-name'><div>scenario</div></div><div class='xr-index-preview'>PandasIndex</div><div></div><input id='index-b44dc4d2-679e-41e3-80f9-8c2fca4afad9' class='xr-index-data-in' type='checkbox'/><label for='index-b44dc4d2-679e-41e3-80f9-8c2fca4afad9' title='Show/Hide index repr'><svg class='icon xr-icon-database'><use xlink:href='#icon-database'></use></svg></label><div class='xr-index-data'><pre>PandasIndex(Index([], dtype=&#x27;object&#x27;, name=&#x27;scenario&#x27;))</pre></div></li><li class='xr-var-item'><div class='xr-index-name'><div>year</div></div><div class='xr-index-preview'>PandasIndex</div><div></div><input id='index-f70f5691-4d8d-4527-b1fc-488bb8dc6290' class='xr-index-data-in' type='checkbox'/><label for='index-f70f5691-4d8d-4527-b1fc-488bb8dc6290' title='Show/Hide index repr'><svg class='icon xr-icon-database'><use xlink:href='#icon-database'></use></svg></label><div class='xr-index-data'><pre>PandasIndex(Index([], dtype=&#x27;int64&#x27;, name=&#x27;year&#x27;))</pre></div></li><li class='xr-var-item'><div class='xr-index-name'><div>region</div></div><div class='xr-index-preview'>PandasIndex</div><div></div><input id='index-67741457-63d1-4755-a199-904f9eab9c2b' class='xr-index-data-in' type='checkbox'/><label for='index-67741457-63d1-4755-a199-904f9eab9c2b' title='Show/Hide index repr'><svg class='icon xr-icon-database'><use xlink:href='#icon-database'></use></svg></label><div class='xr-index-data'><pre>PandasIndex(Index([], dtype=&#x27;object&#x27;, name=&#x27;region&#x27;))</pre></div></li><li class='xr-var-item'><div class='xr-index-name'><div>impact_category</div></div><div class='xr-index-preview'>PandasIndex</div><div></div><input id='index-a0fc1a36-62ae-41b2-95a2-53a9954d2a46' class='xr-index-data-in' type='checkbox'/><label for='index-a0fc1a36-62ae-41b2-95a2-53a9954d2a46' title='Show/Hide index repr'><svg class='icon xr-icon-database'><use xlink:href='#icon-database'></use></svg></label><div class='xr-index-data'><pre>PandasIndex(Index([], dtype=&#x27;object&#x27;, name=&#x27;impact_category&#x27;))</pre></div></li><li class='xr-var-item'><div class='xr-index-name'><div>variable</div></div><div class='xr-index-preview'>PandasIndex</div><div></div><input id='index-cc370b1f-055a-4f1a-a2d8-e942083fb090' class='xr-index-data-in' type='checkbox'/><label for='index-cc370b1f-055a-4f1a-a2d8-e942083fb090' title='Show/Hide index repr'><svg class='icon xr-icon-database'><use xlink:href='#icon-database'></use></svg></label><div class='xr-index-data'><pre>PandasIndex(Index([], dtype=&#x27;float64&#x27;, name=&#x27;variable&#x27;))</pre></div></li><li class='xr-var-item'><div class='xr-index-name'><div>act_category</div></div><div class='xr-index-preview'>PandasIndex</div><div></div><input id='index-9b8354bc-3910-404e-9653-a2326a452e2d' class='xr-index-data-in' type='checkbox'/><label for='index-9b8354bc-3910-404e-9653-a2326a452e2d' title='Show/Hide index repr'><svg class='icon xr-icon-database'><use xlink:href='#icon-database'></use></svg></label><div class='xr-index-data'><pre>PandasIndex(Index([], dtype=&#x27;object&#x27;, name=&#x27;act_category&#x27;))</pre></div></li></ul></div></li><li class='xr-section-item'><input id='section-590e553d-5344-46ad-a7bf-ef3490d032ca' class='xr-section-summary-in' type='checkbox' disabled ><label for='section-590e553d-5344-46ad-a7bf-ef3490d032ca' class='xr-section-summary'  title='Expand/collapse section'>Attributes: <span>(0)</span></label><div class='xr-section-inline-details'></div><div class='xr-section-details'><dl class='xr-attrs'></dl></div></li></ul></div></div>"
      ],
      "text/plain": [
       "<xarray.DataArray 'value' (model: 0, scenario: 0, year: 0, region: 0,\n",
       "                           impact_category: 0, variable: 0, act_category: 0)>\n",
       "array([], shape=(0, 0, 0, 0, 0, 0, 0), dtype=float64)\n",
       "Coordinates:\n",
       "  * model            (model) object \n",
       "  * scenario         (scenario) object \n",
       "  * year             (year) int64 \n",
       "  * region           (region) object \n",
       "  * impact_category  (impact_category) object \n",
       "  * variable         (variable) float64 \n",
       "  * act_category     (act_category) object "
      ]
     },
     "execution_count": 4,
     "metadata": {},
     "output_type": "execute_result"
    }
   ],
   "source": [
    "arr"
   ]
  },
  {
   "cell_type": "code",
   "execution_count": 4,
   "id": "55c1ae5b-f165-4b45-84b4-f46c8b859fdc",
   "metadata": {},
   "outputs": [],
   "source": [
    "arr.to_netcdf(\"results_image_SSP2.nc\")"
   ]
  },
  {
   "cell_type": "code",
   "execution_count": 5,
   "id": "0078f7fc-a267-4eab-b28d-d943133cd2c7",
   "metadata": {},
   "outputs": [
    {
     "ename": "KeyError",
     "evalue": "'x'",
     "output_type": "error",
     "traceback": [
      "\u001b[0;31m---------------------------------------------------------------------------\u001b[0m",
      "\u001b[0;31mKeyError\u001b[0m                                  Traceback (most recent call last)",
      "Cell \u001b[0;32mIn[5], line 1\u001b[0m\n\u001b[0;32m----> 1\u001b[0m df \u001b[38;5;241m=\u001b[39m \u001b[43marr\u001b[49m\u001b[38;5;241;43m.\u001b[39;49m\u001b[43mto_dataframe\u001b[49m\u001b[43m(\u001b[49m\u001b[38;5;124;43m\"\u001b[39;49m\u001b[38;5;124;43mx\u001b[39;49m\u001b[38;5;124;43m\"\u001b[39;49m\u001b[43m)\u001b[49m\u001b[38;5;241;43m.\u001b[39;49m\u001b[43munstack\u001b[49m\u001b[43m(\u001b[49m\u001b[43m)\u001b[49m\u001b[43m[\u001b[49m\u001b[38;5;124;43m\"\u001b[39;49m\u001b[38;5;124;43mx\u001b[39;49m\u001b[38;5;124;43m\"\u001b[39;49m\u001b[43m]\u001b[49m\u001b[38;5;241m.\u001b[39mreset_index()\u001b[38;5;241m.\u001b[39mmelt(id_vars\u001b[38;5;241m=\u001b[39m[\n\u001b[1;32m      2\u001b[0m     \u001b[38;5;124m\"\u001b[39m\u001b[38;5;124mmodel\u001b[39m\u001b[38;5;124m\"\u001b[39m, \u001b[38;5;124m\"\u001b[39m\u001b[38;5;124mscenario\u001b[39m\u001b[38;5;124m\"\u001b[39m, \u001b[38;5;124m\"\u001b[39m\u001b[38;5;124mregion\u001b[39m\u001b[38;5;124m\"\u001b[39m, \u001b[38;5;124m\"\u001b[39m\u001b[38;5;124mimpact_category\u001b[39m\u001b[38;5;124m\"\u001b[39m, \u001b[38;5;124m\"\u001b[39m\u001b[38;5;124mvariable\u001b[39m\u001b[38;5;124m\"\u001b[39m, \u001b[38;5;124m\"\u001b[39m\u001b[38;5;124myear\u001b[39m\u001b[38;5;124m\"\u001b[39m\n\u001b[1;32m      3\u001b[0m ])\n",
      "File \u001b[0;32m/opt/homebrew/Caskroom/miniforge/base/envs/ab/lib/python3.9/site-packages/pandas/core/frame.py:3895\u001b[0m, in \u001b[0;36mDataFrame.__getitem__\u001b[0;34m(self, key)\u001b[0m\n\u001b[1;32m   3893\u001b[0m \u001b[38;5;28;01mif\u001b[39;00m is_single_key:\n\u001b[1;32m   3894\u001b[0m     \u001b[38;5;28;01mif\u001b[39;00m \u001b[38;5;28mself\u001b[39m\u001b[38;5;241m.\u001b[39mcolumns\u001b[38;5;241m.\u001b[39mnlevels \u001b[38;5;241m>\u001b[39m \u001b[38;5;241m1\u001b[39m:\n\u001b[0;32m-> 3895\u001b[0m         \u001b[38;5;28;01mreturn\u001b[39;00m \u001b[38;5;28;43mself\u001b[39;49m\u001b[38;5;241;43m.\u001b[39;49m\u001b[43m_getitem_multilevel\u001b[49m\u001b[43m(\u001b[49m\u001b[43mkey\u001b[49m\u001b[43m)\u001b[49m\n\u001b[1;32m   3896\u001b[0m     indexer \u001b[38;5;241m=\u001b[39m \u001b[38;5;28mself\u001b[39m\u001b[38;5;241m.\u001b[39mcolumns\u001b[38;5;241m.\u001b[39mget_loc(key)\n\u001b[1;32m   3897\u001b[0m     \u001b[38;5;28;01mif\u001b[39;00m is_integer(indexer):\n",
      "File \u001b[0;32m/opt/homebrew/Caskroom/miniforge/base/envs/ab/lib/python3.9/site-packages/pandas/core/frame.py:3953\u001b[0m, in \u001b[0;36mDataFrame._getitem_multilevel\u001b[0;34m(self, key)\u001b[0m\n\u001b[1;32m   3951\u001b[0m \u001b[38;5;28;01mdef\u001b[39;00m \u001b[38;5;21m_getitem_multilevel\u001b[39m(\u001b[38;5;28mself\u001b[39m, key):\n\u001b[1;32m   3952\u001b[0m     \u001b[38;5;66;03m# self.columns is a MultiIndex\u001b[39;00m\n\u001b[0;32m-> 3953\u001b[0m     loc \u001b[38;5;241m=\u001b[39m \u001b[38;5;28;43mself\u001b[39;49m\u001b[38;5;241;43m.\u001b[39;49m\u001b[43mcolumns\u001b[49m\u001b[38;5;241;43m.\u001b[39;49m\u001b[43mget_loc\u001b[49m\u001b[43m(\u001b[49m\u001b[43mkey\u001b[49m\u001b[43m)\u001b[49m\n\u001b[1;32m   3954\u001b[0m     \u001b[38;5;28;01mif\u001b[39;00m \u001b[38;5;28misinstance\u001b[39m(loc, (\u001b[38;5;28mslice\u001b[39m, np\u001b[38;5;241m.\u001b[39mndarray)):\n\u001b[1;32m   3955\u001b[0m         new_columns \u001b[38;5;241m=\u001b[39m \u001b[38;5;28mself\u001b[39m\u001b[38;5;241m.\u001b[39mcolumns[loc]\n",
      "File \u001b[0;32m/opt/homebrew/Caskroom/miniforge/base/envs/ab/lib/python3.9/site-packages/pandas/core/indexes/multi.py:2925\u001b[0m, in \u001b[0;36mMultiIndex.get_loc\u001b[0;34m(self, key)\u001b[0m\n\u001b[1;32m   2922\u001b[0m     \u001b[38;5;28;01mreturn\u001b[39;00m mask\n\u001b[1;32m   2924\u001b[0m \u001b[38;5;28;01mif\u001b[39;00m \u001b[38;5;129;01mnot\u001b[39;00m \u001b[38;5;28misinstance\u001b[39m(key, \u001b[38;5;28mtuple\u001b[39m):\n\u001b[0;32m-> 2925\u001b[0m     loc \u001b[38;5;241m=\u001b[39m \u001b[38;5;28;43mself\u001b[39;49m\u001b[38;5;241;43m.\u001b[39;49m\u001b[43m_get_level_indexer\u001b[49m\u001b[43m(\u001b[49m\u001b[43mkey\u001b[49m\u001b[43m,\u001b[49m\u001b[43m \u001b[49m\u001b[43mlevel\u001b[49m\u001b[38;5;241;43m=\u001b[39;49m\u001b[38;5;241;43m0\u001b[39;49m\u001b[43m)\u001b[49m\n\u001b[1;32m   2926\u001b[0m     \u001b[38;5;28;01mreturn\u001b[39;00m _maybe_to_slice(loc)\n\u001b[1;32m   2928\u001b[0m keylen \u001b[38;5;241m=\u001b[39m \u001b[38;5;28mlen\u001b[39m(key)\n",
      "File \u001b[0;32m/opt/homebrew/Caskroom/miniforge/base/envs/ab/lib/python3.9/site-packages/pandas/core/indexes/multi.py:3303\u001b[0m, in \u001b[0;36mMultiIndex._get_level_indexer\u001b[0;34m(self, key, level, indexer)\u001b[0m\n\u001b[1;32m   3299\u001b[0m     end \u001b[38;5;241m=\u001b[39m algos\u001b[38;5;241m.\u001b[39msearchsorted(level_codes, idx, side\u001b[38;5;241m=\u001b[39m\u001b[38;5;124m\"\u001b[39m\u001b[38;5;124mright\u001b[39m\u001b[38;5;124m\"\u001b[39m)\n\u001b[1;32m   3301\u001b[0m \u001b[38;5;28;01mif\u001b[39;00m start \u001b[38;5;241m==\u001b[39m end:\n\u001b[1;32m   3302\u001b[0m     \u001b[38;5;66;03m# The label is present in self.levels[level] but unused:\u001b[39;00m\n\u001b[0;32m-> 3303\u001b[0m     \u001b[38;5;28;01mraise\u001b[39;00m \u001b[38;5;167;01mKeyError\u001b[39;00m(key)\n\u001b[1;32m   3304\u001b[0m \u001b[38;5;28;01mreturn\u001b[39;00m \u001b[38;5;28mslice\u001b[39m(start, end)\n",
      "\u001b[0;31mKeyError\u001b[0m: 'x'"
     ]
    }
   ],
   "source": [
    "df = arr.to_dataframe(\"x\").unstack()[\"x\"].reset_index().melt(id_vars=[\n",
    "    \"model\", \"scenario\", \"region\", \"impact_category\", \"variable\", \"year\"\n",
    "])"
   ]
  },
  {
   "cell_type": "code",
   "execution_count": 5,
   "id": "42f0f2c3-2faf-42a6-adcf-b13d4942d2cb",
   "metadata": {},
   "outputs": [
    {
     "ename": "KeyboardInterrupt",
     "evalue": "",
     "output_type": "error",
     "traceback": [
      "\u001b[0;31m---------------------------------------------------------------------------\u001b[0m",
      "\u001b[0;31mKeyboardInterrupt\u001b[0m                         Traceback (most recent call last)",
      "Cell \u001b[0;32mIn[5], line 1\u001b[0m\n\u001b[0;32m----> 1\u001b[0m df[[\u001b[38;5;124m'\u001b[39m\u001b[38;5;124mMain sector\u001b[39m\u001b[38;5;124m'\u001b[39m, \u001b[38;5;124m'\u001b[39m\u001b[38;5;124mSub sector\u001b[39m\u001b[38;5;124m'\u001b[39m, \u001b[38;5;124m'\u001b[39m\u001b[38;5;124mEnergy carrier\u001b[39m\u001b[38;5;124m'\u001b[39m]] \u001b[38;5;241m=\u001b[39m \u001b[43mdf\u001b[49m\u001b[43m[\u001b[49m\u001b[38;5;124;43m'\u001b[39;49m\u001b[38;5;124;43mvariable\u001b[39;49m\u001b[38;5;124;43m'\u001b[39;49m\u001b[43m]\u001b[49m\u001b[38;5;241;43m.\u001b[39;49m\u001b[43mstr\u001b[49m\u001b[38;5;241;43m.\u001b[39;49m\u001b[43msplit\u001b[49m\u001b[43m(\u001b[49m\u001b[38;5;124;43m'\u001b[39;49m\u001b[38;5;124;43m_\u001b[39;49m\u001b[38;5;124;43m'\u001b[39;49m\u001b[43m,\u001b[49m\u001b[43m \u001b[49m\u001b[43mexpand\u001b[49m\u001b[38;5;241;43m=\u001b[39;49m\u001b[38;5;28;43;01mTrue\u001b[39;49;00m\u001b[43m)\u001b[49m\n",
      "File \u001b[0;32m/opt/homebrew/Caskroom/miniforge/base/envs/ab/lib/python3.9/site-packages/pandas/core/strings/accessor.py:136\u001b[0m, in \u001b[0;36mforbid_nonstring_types.<locals>._forbid_nonstring_types.<locals>.wrapper\u001b[0;34m(self, *args, **kwargs)\u001b[0m\n\u001b[1;32m    131\u001b[0m     msg \u001b[38;5;241m=\u001b[39m (\n\u001b[1;32m    132\u001b[0m         \u001b[38;5;124mf\u001b[39m\u001b[38;5;124m\"\u001b[39m\u001b[38;5;124mCannot use .str.\u001b[39m\u001b[38;5;132;01m{\u001b[39;00mfunc_name\u001b[38;5;132;01m}\u001b[39;00m\u001b[38;5;124m with values of \u001b[39m\u001b[38;5;124m\"\u001b[39m\n\u001b[1;32m    133\u001b[0m         \u001b[38;5;124mf\u001b[39m\u001b[38;5;124m\"\u001b[39m\u001b[38;5;124minferred dtype \u001b[39m\u001b[38;5;124m'\u001b[39m\u001b[38;5;132;01m{\u001b[39;00m\u001b[38;5;28mself\u001b[39m\u001b[38;5;241m.\u001b[39m_inferred_dtype\u001b[38;5;132;01m}\u001b[39;00m\u001b[38;5;124m'\u001b[39m\u001b[38;5;124m.\u001b[39m\u001b[38;5;124m\"\u001b[39m\n\u001b[1;32m    134\u001b[0m     )\n\u001b[1;32m    135\u001b[0m     \u001b[38;5;28;01mraise\u001b[39;00m \u001b[38;5;167;01mTypeError\u001b[39;00m(msg)\n\u001b[0;32m--> 136\u001b[0m \u001b[38;5;28;01mreturn\u001b[39;00m \u001b[43mfunc\u001b[49m\u001b[43m(\u001b[49m\u001b[38;5;28;43mself\u001b[39;49m\u001b[43m,\u001b[49m\u001b[43m \u001b[49m\u001b[38;5;241;43m*\u001b[39;49m\u001b[43margs\u001b[49m\u001b[43m,\u001b[49m\u001b[43m \u001b[49m\u001b[38;5;241;43m*\u001b[39;49m\u001b[38;5;241;43m*\u001b[39;49m\u001b[43mkwargs\u001b[49m\u001b[43m)\u001b[49m\n",
      "File \u001b[0;32m/opt/homebrew/Caskroom/miniforge/base/envs/ab/lib/python3.9/site-packages/pandas/core/strings/accessor.py:916\u001b[0m, in \u001b[0;36mStringMethods.split\u001b[0;34m(self, pat, n, expand, regex)\u001b[0m\n\u001b[1;32m    914\u001b[0m     regex \u001b[38;5;241m=\u001b[39m \u001b[38;5;28;01mTrue\u001b[39;00m\n\u001b[1;32m    915\u001b[0m result \u001b[38;5;241m=\u001b[39m \u001b[38;5;28mself\u001b[39m\u001b[38;5;241m.\u001b[39m_data\u001b[38;5;241m.\u001b[39marray\u001b[38;5;241m.\u001b[39m_str_split(pat, n, expand, regex)\n\u001b[0;32m--> 916\u001b[0m \u001b[38;5;28;01mreturn\u001b[39;00m \u001b[38;5;28;43mself\u001b[39;49m\u001b[38;5;241;43m.\u001b[39;49m\u001b[43m_wrap_result\u001b[49m\u001b[43m(\u001b[49m\u001b[43mresult\u001b[49m\u001b[43m,\u001b[49m\u001b[43m \u001b[49m\u001b[43mreturns_string\u001b[49m\u001b[38;5;241;43m=\u001b[39;49m\u001b[43mexpand\u001b[49m\u001b[43m,\u001b[49m\u001b[43m \u001b[49m\u001b[43mexpand\u001b[49m\u001b[38;5;241;43m=\u001b[39;49m\u001b[43mexpand\u001b[49m\u001b[43m)\u001b[49m\n",
      "File \u001b[0;32m/opt/homebrew/Caskroom/miniforge/base/envs/ab/lib/python3.9/site-packages/pandas/core/strings/accessor.py:400\u001b[0m, in \u001b[0;36mStringMethods._wrap_result\u001b[0;34m(self, result, name, expand, fill_value, returns_string, returns_bool)\u001b[0m\n\u001b[1;32m    398\u001b[0m \u001b[38;5;28;01mif\u001b[39;00m expand:\n\u001b[1;32m    399\u001b[0m     cons \u001b[38;5;241m=\u001b[39m \u001b[38;5;28mself\u001b[39m\u001b[38;5;241m.\u001b[39m_orig\u001b[38;5;241m.\u001b[39m_constructor_expanddim\n\u001b[0;32m--> 400\u001b[0m     result \u001b[38;5;241m=\u001b[39m \u001b[43mcons\u001b[49m\u001b[43m(\u001b[49m\u001b[43mresult\u001b[49m\u001b[43m,\u001b[49m\u001b[43m \u001b[49m\u001b[43mcolumns\u001b[49m\u001b[38;5;241;43m=\u001b[39;49m\u001b[43mname\u001b[49m\u001b[43m,\u001b[49m\u001b[43m \u001b[49m\u001b[43mindex\u001b[49m\u001b[38;5;241;43m=\u001b[39;49m\u001b[43mindex\u001b[49m\u001b[43m,\u001b[49m\u001b[43m \u001b[49m\u001b[43mdtype\u001b[49m\u001b[38;5;241;43m=\u001b[39;49m\u001b[43mdtype\u001b[49m\u001b[43m)\u001b[49m\n\u001b[1;32m    401\u001b[0m \u001b[38;5;28;01melse\u001b[39;00m:\n\u001b[1;32m    402\u001b[0m     \u001b[38;5;66;03m# Must be a Series\u001b[39;00m\n\u001b[1;32m    403\u001b[0m     cons \u001b[38;5;241m=\u001b[39m \u001b[38;5;28mself\u001b[39m\u001b[38;5;241m.\u001b[39m_orig\u001b[38;5;241m.\u001b[39m_constructor\n",
      "File \u001b[0;32m/opt/homebrew/Caskroom/miniforge/base/envs/ab/lib/python3.9/site-packages/pandas/core/frame.py:809\u001b[0m, in \u001b[0;36mDataFrame.__init__\u001b[0;34m(self, data, index, columns, dtype, copy)\u001b[0m\n\u001b[1;32m    807\u001b[0m     \u001b[38;5;28;01mif\u001b[39;00m columns \u001b[38;5;129;01mis\u001b[39;00m \u001b[38;5;129;01mnot\u001b[39;00m \u001b[38;5;28;01mNone\u001b[39;00m:\n\u001b[1;32m    808\u001b[0m         columns \u001b[38;5;241m=\u001b[39m ensure_index(columns)\n\u001b[0;32m--> 809\u001b[0m     arrays, columns, index \u001b[38;5;241m=\u001b[39m \u001b[43mnested_data_to_arrays\u001b[49m\u001b[43m(\u001b[49m\n\u001b[1;32m    810\u001b[0m \u001b[43m        \u001b[49m\u001b[38;5;66;43;03m# error: Argument 3 to \"nested_data_to_arrays\" has incompatible\u001b[39;49;00m\n\u001b[1;32m    811\u001b[0m \u001b[43m        \u001b[49m\u001b[38;5;66;43;03m# type \"Optional[Collection[Any]]\"; expected \"Optional[Index]\"\u001b[39;49;00m\n\u001b[1;32m    812\u001b[0m \u001b[43m        \u001b[49m\u001b[43mdata\u001b[49m\u001b[43m,\u001b[49m\n\u001b[1;32m    813\u001b[0m \u001b[43m        \u001b[49m\u001b[43mcolumns\u001b[49m\u001b[43m,\u001b[49m\n\u001b[1;32m    814\u001b[0m \u001b[43m        \u001b[49m\u001b[43mindex\u001b[49m\u001b[43m,\u001b[49m\u001b[43m  \u001b[49m\u001b[38;5;66;43;03m# type: ignore[arg-type]\u001b[39;49;00m\n\u001b[1;32m    815\u001b[0m \u001b[43m        \u001b[49m\u001b[43mdtype\u001b[49m\u001b[43m,\u001b[49m\n\u001b[1;32m    816\u001b[0m \u001b[43m    \u001b[49m\u001b[43m)\u001b[49m\n\u001b[1;32m    817\u001b[0m     mgr \u001b[38;5;241m=\u001b[39m arrays_to_mgr(\n\u001b[1;32m    818\u001b[0m         arrays,\n\u001b[1;32m    819\u001b[0m         columns,\n\u001b[0;32m   (...)\u001b[0m\n\u001b[1;32m    822\u001b[0m         typ\u001b[38;5;241m=\u001b[39mmanager,\n\u001b[1;32m    823\u001b[0m     )\n\u001b[1;32m    824\u001b[0m \u001b[38;5;28;01melse\u001b[39;00m:\n",
      "File \u001b[0;32m/opt/homebrew/Caskroom/miniforge/base/envs/ab/lib/python3.9/site-packages/pandas/core/internals/construction.py:520\u001b[0m, in \u001b[0;36mnested_data_to_arrays\u001b[0;34m(data, columns, index, dtype)\u001b[0m\n\u001b[1;32m    517\u001b[0m \u001b[38;5;28;01mif\u001b[39;00m is_named_tuple(data[\u001b[38;5;241m0\u001b[39m]) \u001b[38;5;129;01mand\u001b[39;00m columns \u001b[38;5;129;01mis\u001b[39;00m \u001b[38;5;28;01mNone\u001b[39;00m:\n\u001b[1;32m    518\u001b[0m     columns \u001b[38;5;241m=\u001b[39m ensure_index(data[\u001b[38;5;241m0\u001b[39m]\u001b[38;5;241m.\u001b[39m_fields)\n\u001b[0;32m--> 520\u001b[0m arrays, columns \u001b[38;5;241m=\u001b[39m \u001b[43mto_arrays\u001b[49m\u001b[43m(\u001b[49m\u001b[43mdata\u001b[49m\u001b[43m,\u001b[49m\u001b[43m \u001b[49m\u001b[43mcolumns\u001b[49m\u001b[43m,\u001b[49m\u001b[43m \u001b[49m\u001b[43mdtype\u001b[49m\u001b[38;5;241;43m=\u001b[39;49m\u001b[43mdtype\u001b[49m\u001b[43m)\u001b[49m\n\u001b[1;32m    521\u001b[0m columns \u001b[38;5;241m=\u001b[39m ensure_index(columns)\n\u001b[1;32m    523\u001b[0m \u001b[38;5;28;01mif\u001b[39;00m index \u001b[38;5;129;01mis\u001b[39;00m \u001b[38;5;28;01mNone\u001b[39;00m:\n",
      "File \u001b[0;32m/opt/homebrew/Caskroom/miniforge/base/envs/ab/lib/python3.9/site-packages/pandas/core/internals/construction.py:835\u001b[0m, in \u001b[0;36mto_arrays\u001b[0;34m(data, columns, dtype)\u001b[0m\n\u001b[1;32m    832\u001b[0m     \u001b[38;5;28;01mreturn\u001b[39;00m arrays, columns\n\u001b[1;32m    834\u001b[0m \u001b[38;5;28;01mif\u001b[39;00m \u001b[38;5;28misinstance\u001b[39m(data[\u001b[38;5;241m0\u001b[39m], (\u001b[38;5;28mlist\u001b[39m, \u001b[38;5;28mtuple\u001b[39m)):\n\u001b[0;32m--> 835\u001b[0m     arr \u001b[38;5;241m=\u001b[39m \u001b[43m_list_to_arrays\u001b[49m\u001b[43m(\u001b[49m\u001b[43mdata\u001b[49m\u001b[43m)\u001b[49m\n\u001b[1;32m    836\u001b[0m \u001b[38;5;28;01melif\u001b[39;00m \u001b[38;5;28misinstance\u001b[39m(data[\u001b[38;5;241m0\u001b[39m], abc\u001b[38;5;241m.\u001b[39mMapping):\n\u001b[1;32m    837\u001b[0m     arr, columns \u001b[38;5;241m=\u001b[39m _list_of_dict_to_arrays(data, columns)\n",
      "File \u001b[0;32m/opt/homebrew/Caskroom/miniforge/base/envs/ab/lib/python3.9/site-packages/pandas/core/internals/construction.py:856\u001b[0m, in \u001b[0;36m_list_to_arrays\u001b[0;34m(data)\u001b[0m\n\u001b[1;32m    853\u001b[0m     content \u001b[38;5;241m=\u001b[39m lib\u001b[38;5;241m.\u001b[39mto_object_array_tuples(data)\n\u001b[1;32m    854\u001b[0m \u001b[38;5;28;01melse\u001b[39;00m:\n\u001b[1;32m    855\u001b[0m     \u001b[38;5;66;03m# list of lists\u001b[39;00m\n\u001b[0;32m--> 856\u001b[0m     content \u001b[38;5;241m=\u001b[39m \u001b[43mlib\u001b[49m\u001b[38;5;241;43m.\u001b[39;49m\u001b[43mto_object_array\u001b[49m\u001b[43m(\u001b[49m\u001b[43mdata\u001b[49m\u001b[43m)\u001b[49m\n\u001b[1;32m    857\u001b[0m \u001b[38;5;28;01mreturn\u001b[39;00m content\n",
      "\u001b[0;31mKeyboardInterrupt\u001b[0m: "
     ]
    }
   ],
   "source": [
    "df = arr.to_dataframe(\"x\").unstack()[\"x\"].reset_index().melt(id_vars=[\n",
    "    \"model\", \"scenario\", \"region\", \"impact_category\", \"variable\", \"year\"\n",
    "])\n",
    "df[['Main sector', 'Sub sector', 'Energy carrier']] = df['variable'].str.split('_', expand=True)"
   ]
  },
  {
   "cell_type": "code",
   "execution_count": 1,
   "id": "67b9d6b0-ed89-44b3-9bf1-b11aa20e1b84",
   "metadata": {},
   "outputs": [
    {
     "name": "stdout",
     "output_type": "stream",
     "text": [
      "Invalid datapackage: Descriptor validation error: {'path': 'mapping/mapping.yaml', 'profile': 'data-resource', 'name': 'mapping', 'format': 'yaml', 'mediatype': 'text/yaml', 'encoding': 'utf-8'} is not valid under any of the given schemas at \"resources/89\" in descriptor and at \"properties/resources/items/oneOf\" in profile\n",
      "Invalid datapackage: Descriptor validation error: 'data-resource' is not one of ['tabular-data-resource'] at \"resources/89/profile\" in descriptor and at \"properties/resources/items/properties/profile/enum\" in profile\n"
     ]
    }
   ],
   "source": [
    "from pathways import Pathways\n",
    "p = Pathways(datapackage=\"/Users/romain/GitHub/premise/dev/image-SSP2/datapackage.json\")"
   ]
  },
  {
   "cell_type": "code",
   "execution_count": 2,
   "id": "db6729e1-78a9-467f-a8cb-7fa272bb2734",
   "metadata": {},
   "outputs": [
    {
     "name": "stdout",
     "output_type": "stream",
     "text": [
      "Calculating LCA results for image...\n",
      "--- Calculating LCA results for SSP2-RCP19...\n",
      "------ Calculating LCA results for 2005...\n"
     ]
    },
    {
     "name": "stderr",
     "output_type": "stream",
     "text": [
      "0% [##########################] 100% | ETA: 00:00:00\n",
      "Total time elapsed: 00:32:52\n"
     ]
    },
    {
     "name": "stdout",
     "output_type": "stream",
     "text": [
      "------ Calculating LCA results for 2010...\n"
     ]
    },
    {
     "name": "stderr",
     "output_type": "stream",
     "text": [
      "0% [##########################] 100% | ETA: 00:00:00\n",
      "Total time elapsed: 00:36:00\n"
     ]
    },
    {
     "name": "stdout",
     "output_type": "stream",
     "text": [
      "------ Calculating LCA results for 2020...\n"
     ]
    },
    {
     "name": "stderr",
     "output_type": "stream",
     "text": [
      "0% [##########################] 100% | ETA: 00:00:00\n",
      "Total time elapsed: 00:54:44\n"
     ]
    },
    {
     "name": "stdout",
     "output_type": "stream",
     "text": [
      "------ Calculating LCA results for 2030...\n"
     ]
    },
    {
     "name": "stderr",
     "output_type": "stream",
     "text": [
      "0% [##########################] 100% | ETA: 00:00:00\n",
      "Total time elapsed: 01:12:14\n"
     ]
    },
    {
     "name": "stdout",
     "output_type": "stream",
     "text": [
      "------ Calculating LCA results for 2040...\n"
     ]
    },
    {
     "name": "stderr",
     "output_type": "stream",
     "text": [
      "0% [##########################] 100% | ETA: 00:00:00\n",
      "Total time elapsed: 01:03:56\n"
     ]
    },
    {
     "name": "stdout",
     "output_type": "stream",
     "text": [
      "------ Calculating LCA results for 2050...\n"
     ]
    },
    {
     "name": "stderr",
     "output_type": "stream",
     "text": [
      "0% [##########################] 100% | ETA: 00:00:00\n",
      "Total time elapsed: 01:00:29\n"
     ]
    },
    {
     "name": "stdout",
     "output_type": "stream",
     "text": [
      "------ Calculating LCA results for 2060...\n"
     ]
    },
    {
     "name": "stderr",
     "output_type": "stream",
     "text": [
      "0% [##########################] 100% | ETA: 00:00:00\n",
      "Total time elapsed: 00:57:32\n"
     ]
    },
    {
     "name": "stdout",
     "output_type": "stream",
     "text": [
      "------ Calculating LCA results for 2070...\n"
     ]
    },
    {
     "name": "stderr",
     "output_type": "stream",
     "text": [
      "0% [##########################] 100% | ETA: 00:00:00\n",
      "Total time elapsed: 00:54:37\n"
     ]
    },
    {
     "name": "stdout",
     "output_type": "stream",
     "text": [
      "------ Calculating LCA results for 2080...\n"
     ]
    },
    {
     "name": "stderr",
     "output_type": "stream",
     "text": [
      "0% [##########################] 100% | ETA: 00:00:00\n",
      "Total time elapsed: 00:55:58\n"
     ]
    },
    {
     "name": "stdout",
     "output_type": "stream",
     "text": [
      "------ Calculating LCA results for 2090...\n"
     ]
    },
    {
     "name": "stderr",
     "output_type": "stream",
     "text": [
      "0% [##########################] 100% | ETA: 00:00:00\n",
      "Total time elapsed: 00:51:10\n"
     ]
    },
    {
     "name": "stdout",
     "output_type": "stream",
     "text": [
      "------ Calculating LCA results for 2100...\n"
     ]
    },
    {
     "name": "stderr",
     "output_type": "stream",
     "text": [
      "0% [##########################] 100% | ETA: 00:00:00\n",
      "Total time elapsed: 00:50:14\n"
     ]
    }
   ],
   "source": [
    "metals = [\n",
    "    \"Aluminium\",\n",
    "    \"Cobalt\",\n",
    "    \"Graphite\",\n",
    "    \"Lithium\",\n",
    "    \"Molybdenum\",\n",
    "    \"Neodymium\",\n",
    "    \"Nickel\",\n",
    "    \"Copper\",\n",
    "    \"Platinum\",\n",
    "    \"Zinc\",\n",
    "]\n",
    "\n",
    "p.calculate(\n",
    "    regions=[r for r in p.scenarios.coords[\"region\"].values if r!=\"World\"],\n",
    "    methods=[\n",
    "        'RELICS - metals extraction - Aluminium',\n",
    "        'RELICS - metals extraction - Cobalt',\n",
    "        'RELICS - metals extraction - Copper',\n",
    "        'RELICS - metals extraction - Graphite',\n",
    "        'RELICS - metals extraction - Lithium',\n",
    "        'RELICS - metals extraction - Molybdenum',\n",
    "        'RELICS - metals extraction - Neodymium',\n",
    "        'RELICS - metals extraction - Nickel',\n",
    "        'RELICS - metals extraction - Platinum',\n",
    "        'RELICS - metals extraction - Vanadium',\n",
    "        'RELICS - metals extraction - Zinc',\n",
    "    ],\n",
    "    scenarios=[\n",
    "        #\"SSP2-Base\",\n",
    "        \"SSP2-RCP19\",\n",
    "    ],\n",
    "    years=[2005, 2010, 2020, 2030, 2040, 2050, 2060, 2070, 2080, 2090, 2100],\n",
    "    variables=[\n",
    "       'Biomass IGCC CCS',\n",
    "       'Biomass CHP CCS', 'Biomass ST', 'Biomass IGCC', 'Biomass CHP',\n",
    "       'Coal IGCC CCS', 'Coal PC', 'Coal IGCC', 'Coal CHP', 'Gas CC CCS',\n",
    "       'Gas CHP CCS', 'Gas OC', 'Gas CC', 'Gas CHP', 'Hydro', 'Nuclear',\n",
    "       'Oil CC CCS', 'Oil CHP CCS', 'Oil ST', 'Oil CC', 'Oil CHP',\n",
    "       'Geothermal', 'Solar CSP', 'Solar PV Centralized',\n",
    "       'Solar PV Residential', 'Storage, Flow Battery', 'Wind Onshore',\n",
    "       'Wind Offshore'\n",
    "    ],\n",
    ")\n",
    "arr = p.display_results(cutoff=0.001)"
   ]
  },
  {
   "cell_type": "code",
   "execution_count": 3,
   "id": "42b154ea-928c-4fd9-9b6d-04f2ec8c7db2",
   "metadata": {},
   "outputs": [
    {
     "data": {
      "text/plain": [
       "Coordinates:\n",
       "  * model            (model) object 'image'\n",
       "  * scenario         (scenario) object 'SSP2-RCP19'\n",
       "  * region           (region) object 'BRA' 'CAN' 'CEU' ... 'USA' 'WAF' 'WEU'\n",
       "  * impact_category  (impact_category) object 'RELICS - metals extraction - A...\n",
       "  * variable         (variable) object 'Biomass CHP' ... 'Wind Onshore'\n",
       "  * act_category     (act_category) object 'Manufacture of basic chemicals' ....\n",
       "  * year             (year) int64 2005 2006 2007 2008 ... 2097 2098 2099 2100"
      ]
     },
     "execution_count": 3,
     "metadata": {},
     "output_type": "execute_result"
    }
   ],
   "source": [
    "arr.coords"
   ]
  },
  {
   "cell_type": "code",
   "execution_count": 4,
   "id": "4b1f9ec1-4bba-4d79-90d0-2273b4ff5697",
   "metadata": {},
   "outputs": [],
   "source": [
    "arr.to_netcdf(\"results_image_SSP2_metals.nc\")"
   ]
  },
  {
   "cell_type": "raw",
   "id": "cb484e8b-7975-4a1a-8c6a-4cf8c0bc45b9",
   "metadata": {},
   "source": [
    "import xarray as xr\n",
    "arr = xr.open_dataarray(\"results_image_SSP2_metals.nc\")"
   ]
  },
  {
   "cell_type": "code",
   "execution_count": 5,
   "id": "a14f36a5-eab7-4510-a01b-a4bd048fe777",
   "metadata": {},
   "outputs": [
    {
     "data": {
      "text/html": [
       "<div>\n",
       "<style scoped>\n",
       "    .dataframe tbody tr th:only-of-type {\n",
       "        vertical-align: middle;\n",
       "    }\n",
       "\n",
       "    .dataframe tbody tr th {\n",
       "        vertical-align: top;\n",
       "    }\n",
       "\n",
       "    .dataframe thead th {\n",
       "        text-align: right;\n",
       "    }\n",
       "</style>\n",
       "<table border=\"1\" class=\"dataframe\">\n",
       "  <thead>\n",
       "    <tr style=\"text-align: right;\">\n",
       "      <th></th>\n",
       "      <th>model</th>\n",
       "      <th>scenario</th>\n",
       "      <th>region</th>\n",
       "      <th>impact_category</th>\n",
       "      <th>variable</th>\n",
       "      <th>year</th>\n",
       "      <th>act_category</th>\n",
       "      <th>value</th>\n",
       "    </tr>\n",
       "  </thead>\n",
       "  <tbody>\n",
       "    <tr>\n",
       "      <th>0</th>\n",
       "      <td>image</td>\n",
       "      <td>SSP2-RCP19</td>\n",
       "      <td>BRA</td>\n",
       "      <td>RELICS - metals extraction - Aluminium</td>\n",
       "      <td>Biomass CHP</td>\n",
       "      <td>2005</td>\n",
       "      <td>Manufacture of basic chemicals</td>\n",
       "      <td>NaN</td>\n",
       "    </tr>\n",
       "    <tr>\n",
       "      <th>1</th>\n",
       "      <td>image</td>\n",
       "      <td>SSP2-RCP19</td>\n",
       "      <td>BRA</td>\n",
       "      <td>RELICS - metals extraction - Aluminium</td>\n",
       "      <td>Biomass CHP CCS</td>\n",
       "      <td>2005</td>\n",
       "      <td>Manufacture of basic chemicals</td>\n",
       "      <td>NaN</td>\n",
       "    </tr>\n",
       "    <tr>\n",
       "      <th>2</th>\n",
       "      <td>image</td>\n",
       "      <td>SSP2-RCP19</td>\n",
       "      <td>BRA</td>\n",
       "      <td>RELICS - metals extraction - Aluminium</td>\n",
       "      <td>Biomass IGCC</td>\n",
       "      <td>2005</td>\n",
       "      <td>Manufacture of basic chemicals</td>\n",
       "      <td>NaN</td>\n",
       "    </tr>\n",
       "    <tr>\n",
       "      <th>3</th>\n",
       "      <td>image</td>\n",
       "      <td>SSP2-RCP19</td>\n",
       "      <td>BRA</td>\n",
       "      <td>RELICS - metals extraction - Aluminium</td>\n",
       "      <td>Biomass IGCC CCS</td>\n",
       "      <td>2005</td>\n",
       "      <td>Manufacture of basic chemicals</td>\n",
       "      <td>NaN</td>\n",
       "    </tr>\n",
       "    <tr>\n",
       "      <th>4</th>\n",
       "      <td>image</td>\n",
       "      <td>SSP2-RCP19</td>\n",
       "      <td>BRA</td>\n",
       "      <td>RELICS - metals extraction - Aluminium</td>\n",
       "      <td>Biomass ST</td>\n",
       "      <td>2005</td>\n",
       "      <td>Manufacture of basic chemicals</td>\n",
       "      <td>NaN</td>\n",
       "    </tr>\n",
       "  </tbody>\n",
       "</table>\n",
       "</div>"
      ],
      "text/plain": [
       "   model    scenario region                         impact_category  \\\n",
       "0  image  SSP2-RCP19    BRA  RELICS - metals extraction - Aluminium   \n",
       "1  image  SSP2-RCP19    BRA  RELICS - metals extraction - Aluminium   \n",
       "2  image  SSP2-RCP19    BRA  RELICS - metals extraction - Aluminium   \n",
       "3  image  SSP2-RCP19    BRA  RELICS - metals extraction - Aluminium   \n",
       "4  image  SSP2-RCP19    BRA  RELICS - metals extraction - Aluminium   \n",
       "\n",
       "           variable  year                    act_category  value  \n",
       "0       Biomass CHP  2005  Manufacture of basic chemicals    NaN  \n",
       "1   Biomass CHP CCS  2005  Manufacture of basic chemicals    NaN  \n",
       "2      Biomass IGCC  2005  Manufacture of basic chemicals    NaN  \n",
       "3  Biomass IGCC CCS  2005  Manufacture of basic chemicals    NaN  \n",
       "4        Biomass ST  2005  Manufacture of basic chemicals    NaN  "
      ]
     },
     "execution_count": 5,
     "metadata": {},
     "output_type": "execute_result"
    }
   ],
   "source": [
    "df = arr.to_dataframe(\"x\").unstack()[\"x\"].reset_index().melt(id_vars=[\n",
    "    \"model\", \"scenario\", \"region\", \"impact_category\", \"variable\", \"year\"\n",
    "])\n",
    "df.head()"
   ]
  },
  {
   "cell_type": "raw",
   "id": "1da4713a-615f-426e-91dd-3ed418818497",
   "metadata": {},
   "source": [
    "years = [2020, 2030, 2040, 2050, 2060, 2070, 2080, 2090, 2100]\n",
    "df_short = df.loc[df[\"year\"].isin(years)]\n",
    "len(df_short)"
   ]
  },
  {
   "cell_type": "raw",
   "id": "450e643d-787c-4339-b926-9781e7ace50c",
   "metadata": {},
   "source": [
    "df_short[['Main sector', 'Sub sector', 'Energy carrier']] = df_short['variable'].str.split('_', expand=True)"
   ]
  },
  {
   "cell_type": "code",
   "execution_count": 6,
   "id": "8a317d76-b749-462d-946a-af43d4dd3728",
   "metadata": {},
   "outputs": [],
   "source": [
    "#df[\"impact_category\"] = df[\"impact_category\"].str.replace(\" - natural resource - in ground - kilogram\", \"\")\n",
    "df[\"impact_category\"] = df[\"impact_category\"].str.replace(\"RELICS - metals extraction - \", \"\")"
   ]
  },
  {
   "cell_type": "code",
   "execution_count": 7,
   "id": "e02b9327-29db-4280-9401-121fb6eb8f54",
   "metadata": {},
   "outputs": [],
   "source": [
    "df[\"value\"] /= 1000"
   ]
  },
  {
   "cell_type": "code",
   "execution_count": 8,
   "id": "a078dea5-fd2e-48aa-83cf-5dbc42ae802b",
   "metadata": {},
   "outputs": [
    {
     "data": {
      "text/plain": [
       "array(['Aluminium', 'Cobalt', 'Copper', 'Graphite', 'Lithium',\n",
       "       'Molybdenum', 'Neodymium', 'Nickel', 'Platinum', 'Vanadium',\n",
       "       'Zinc'], dtype=object)"
      ]
     },
     "execution_count": 8,
     "metadata": {},
     "output_type": "execute_result"
    }
   ],
   "source": [
    "df[\"impact_category\"].unique()"
   ]
  },
  {
   "cell_type": "code",
   "execution_count": 9,
   "id": "e24ef9b7-094b-4b63-a725-ac570045e1fd",
   "metadata": {},
   "outputs": [
    {
     "data": {
      "text/plain": [
       "1138596"
      ]
     },
     "execution_count": 9,
     "metadata": {},
     "output_type": "execute_result"
    }
   ],
   "source": [
    "len(df.loc[~df[\"value\"].isnull()])"
   ]
  },
  {
   "cell_type": "code",
   "execution_count": null,
   "id": "0b4be8e2-bf2b-4e75-978e-9933acedeada",
   "metadata": {},
   "outputs": [],
   "source": []
  },
  {
   "cell_type": "code",
   "execution_count": 10,
   "id": "8b0b8d60-9048-45be-be52-3ea3b32305d1",
   "metadata": {},
   "outputs": [
    {
     "data": {
      "text/html": [
       "\n",
       "        <iframe\n",
       "            width=\"100%\"\n",
       "            height=\"500\"\n",
       "            src=\"pivottable_all_metals.html\"\n",
       "            frameborder=\"0\"\n",
       "            allowfullscreen\n",
       "            \n",
       "        ></iframe>\n",
       "        "
      ],
      "text/plain": [
       "<IPython.lib.display.IFrame at 0x104265400>"
      ]
     },
     "execution_count": 10,
     "metadata": {},
     "output_type": "execute_result"
    }
   ],
   "source": [
    "from pivottablejs import pivot_ui\n",
    "from IPython.display import HTML\n",
    "pivot_ui(df.loc[~df[\"value\"].isnull()], outfile_path='pivottable_all_metals.html')"
   ]
  },
  {
   "cell_type": "code",
   "execution_count": 4,
   "id": "75baf250-be1a-4123-995b-2189d7198a47",
   "metadata": {
    "scrolled": true
   },
   "outputs": [
    {
     "ename": "DataPackageException",
     "evalue": "Unable to load JSON at \"/Users/romain/GitHub/premise/dev/image-SSP2-RCP19/datapackage.json\"",
     "output_type": "error",
     "traceback": [
      "\u001b[0;31m---------------------------------------------------------------------------\u001b[0m",
      "\u001b[0;31mMissingSchema\u001b[0m                             Traceback (most recent call last)",
      "File \u001b[0;32m/opt/homebrew/Caskroom/miniforge/base/envs/ab/lib/python3.9/site-packages/datapackage/helpers.py:55\u001b[0m, in \u001b[0;36mretrieve_descriptor\u001b[0;34m(descriptor)\u001b[0m\n\u001b[1;32m     54\u001b[0m \u001b[38;5;28;01melse\u001b[39;00m:\n\u001b[0;32m---> 55\u001b[0m     req \u001b[38;5;241m=\u001b[39m \u001b[43mrequests\u001b[49m\u001b[38;5;241;43m.\u001b[39;49m\u001b[43mget\u001b[49m\u001b[43m(\u001b[49m\u001b[43mthe_descriptor\u001b[49m\u001b[43m)\u001b[49m\n\u001b[1;32m     56\u001b[0m     req\u001b[38;5;241m.\u001b[39mraise_for_status()\n",
      "File \u001b[0;32m/opt/homebrew/Caskroom/miniforge/base/envs/ab/lib/python3.9/site-packages/requests/api.py:73\u001b[0m, in \u001b[0;36mget\u001b[0;34m(url, params, **kwargs)\u001b[0m\n\u001b[1;32m     63\u001b[0m \u001b[38;5;250m\u001b[39m\u001b[38;5;124mr\u001b[39m\u001b[38;5;124;03m\"\"\"Sends a GET request.\u001b[39;00m\n\u001b[1;32m     64\u001b[0m \n\u001b[1;32m     65\u001b[0m \u001b[38;5;124;03m:param url: URL for the new :class:`Request` object.\u001b[39;00m\n\u001b[0;32m   (...)\u001b[0m\n\u001b[1;32m     70\u001b[0m \u001b[38;5;124;03m:rtype: requests.Response\u001b[39;00m\n\u001b[1;32m     71\u001b[0m \u001b[38;5;124;03m\"\"\"\u001b[39;00m\n\u001b[0;32m---> 73\u001b[0m \u001b[38;5;28;01mreturn\u001b[39;00m \u001b[43mrequest\u001b[49m\u001b[43m(\u001b[49m\u001b[38;5;124;43m\"\u001b[39;49m\u001b[38;5;124;43mget\u001b[39;49m\u001b[38;5;124;43m\"\u001b[39;49m\u001b[43m,\u001b[49m\u001b[43m \u001b[49m\u001b[43murl\u001b[49m\u001b[43m,\u001b[49m\u001b[43m \u001b[49m\u001b[43mparams\u001b[49m\u001b[38;5;241;43m=\u001b[39;49m\u001b[43mparams\u001b[49m\u001b[43m,\u001b[49m\u001b[43m \u001b[49m\u001b[38;5;241;43m*\u001b[39;49m\u001b[38;5;241;43m*\u001b[39;49m\u001b[43mkwargs\u001b[49m\u001b[43m)\u001b[49m\n",
      "File \u001b[0;32m/opt/homebrew/Caskroom/miniforge/base/envs/ab/lib/python3.9/site-packages/requests/api.py:59\u001b[0m, in \u001b[0;36mrequest\u001b[0;34m(method, url, **kwargs)\u001b[0m\n\u001b[1;32m     58\u001b[0m \u001b[38;5;28;01mwith\u001b[39;00m sessions\u001b[38;5;241m.\u001b[39mSession() \u001b[38;5;28;01mas\u001b[39;00m session:\n\u001b[0;32m---> 59\u001b[0m     \u001b[38;5;28;01mreturn\u001b[39;00m \u001b[43msession\u001b[49m\u001b[38;5;241;43m.\u001b[39;49m\u001b[43mrequest\u001b[49m\u001b[43m(\u001b[49m\u001b[43mmethod\u001b[49m\u001b[38;5;241;43m=\u001b[39;49m\u001b[43mmethod\u001b[49m\u001b[43m,\u001b[49m\u001b[43m \u001b[49m\u001b[43murl\u001b[49m\u001b[38;5;241;43m=\u001b[39;49m\u001b[43murl\u001b[49m\u001b[43m,\u001b[49m\u001b[43m \u001b[49m\u001b[38;5;241;43m*\u001b[39;49m\u001b[38;5;241;43m*\u001b[39;49m\u001b[43mkwargs\u001b[49m\u001b[43m)\u001b[49m\n",
      "File \u001b[0;32m/opt/homebrew/Caskroom/miniforge/base/envs/ab/lib/python3.9/site-packages/requests/sessions.py:575\u001b[0m, in \u001b[0;36mSession.request\u001b[0;34m(self, method, url, params, data, headers, cookies, files, auth, timeout, allow_redirects, proxies, hooks, stream, verify, cert, json)\u001b[0m\n\u001b[1;32m    563\u001b[0m req \u001b[38;5;241m=\u001b[39m Request(\n\u001b[1;32m    564\u001b[0m     method\u001b[38;5;241m=\u001b[39mmethod\u001b[38;5;241m.\u001b[39mupper(),\n\u001b[1;32m    565\u001b[0m     url\u001b[38;5;241m=\u001b[39murl,\n\u001b[0;32m   (...)\u001b[0m\n\u001b[1;32m    573\u001b[0m     hooks\u001b[38;5;241m=\u001b[39mhooks,\n\u001b[1;32m    574\u001b[0m )\n\u001b[0;32m--> 575\u001b[0m prep \u001b[38;5;241m=\u001b[39m \u001b[38;5;28;43mself\u001b[39;49m\u001b[38;5;241;43m.\u001b[39;49m\u001b[43mprepare_request\u001b[49m\u001b[43m(\u001b[49m\u001b[43mreq\u001b[49m\u001b[43m)\u001b[49m\n\u001b[1;32m    577\u001b[0m proxies \u001b[38;5;241m=\u001b[39m proxies \u001b[38;5;129;01mor\u001b[39;00m {}\n",
      "File \u001b[0;32m/opt/homebrew/Caskroom/miniforge/base/envs/ab/lib/python3.9/site-packages/requests/sessions.py:486\u001b[0m, in \u001b[0;36mSession.prepare_request\u001b[0;34m(self, request)\u001b[0m\n\u001b[1;32m    485\u001b[0m p \u001b[38;5;241m=\u001b[39m PreparedRequest()\n\u001b[0;32m--> 486\u001b[0m \u001b[43mp\u001b[49m\u001b[38;5;241;43m.\u001b[39;49m\u001b[43mprepare\u001b[49m\u001b[43m(\u001b[49m\n\u001b[1;32m    487\u001b[0m \u001b[43m    \u001b[49m\u001b[43mmethod\u001b[49m\u001b[38;5;241;43m=\u001b[39;49m\u001b[43mrequest\u001b[49m\u001b[38;5;241;43m.\u001b[39;49m\u001b[43mmethod\u001b[49m\u001b[38;5;241;43m.\u001b[39;49m\u001b[43mupper\u001b[49m\u001b[43m(\u001b[49m\u001b[43m)\u001b[49m\u001b[43m,\u001b[49m\n\u001b[1;32m    488\u001b[0m \u001b[43m    \u001b[49m\u001b[43murl\u001b[49m\u001b[38;5;241;43m=\u001b[39;49m\u001b[43mrequest\u001b[49m\u001b[38;5;241;43m.\u001b[39;49m\u001b[43murl\u001b[49m\u001b[43m,\u001b[49m\n\u001b[1;32m    489\u001b[0m \u001b[43m    \u001b[49m\u001b[43mfiles\u001b[49m\u001b[38;5;241;43m=\u001b[39;49m\u001b[43mrequest\u001b[49m\u001b[38;5;241;43m.\u001b[39;49m\u001b[43mfiles\u001b[49m\u001b[43m,\u001b[49m\n\u001b[1;32m    490\u001b[0m \u001b[43m    \u001b[49m\u001b[43mdata\u001b[49m\u001b[38;5;241;43m=\u001b[39;49m\u001b[43mrequest\u001b[49m\u001b[38;5;241;43m.\u001b[39;49m\u001b[43mdata\u001b[49m\u001b[43m,\u001b[49m\n\u001b[1;32m    491\u001b[0m \u001b[43m    \u001b[49m\u001b[43mjson\u001b[49m\u001b[38;5;241;43m=\u001b[39;49m\u001b[43mrequest\u001b[49m\u001b[38;5;241;43m.\u001b[39;49m\u001b[43mjson\u001b[49m\u001b[43m,\u001b[49m\n\u001b[1;32m    492\u001b[0m \u001b[43m    \u001b[49m\u001b[43mheaders\u001b[49m\u001b[38;5;241;43m=\u001b[39;49m\u001b[43mmerge_setting\u001b[49m\u001b[43m(\u001b[49m\n\u001b[1;32m    493\u001b[0m \u001b[43m        \u001b[49m\u001b[43mrequest\u001b[49m\u001b[38;5;241;43m.\u001b[39;49m\u001b[43mheaders\u001b[49m\u001b[43m,\u001b[49m\u001b[43m \u001b[49m\u001b[38;5;28;43mself\u001b[39;49m\u001b[38;5;241;43m.\u001b[39;49m\u001b[43mheaders\u001b[49m\u001b[43m,\u001b[49m\u001b[43m \u001b[49m\u001b[43mdict_class\u001b[49m\u001b[38;5;241;43m=\u001b[39;49m\u001b[43mCaseInsensitiveDict\u001b[49m\n\u001b[1;32m    494\u001b[0m \u001b[43m    \u001b[49m\u001b[43m)\u001b[49m\u001b[43m,\u001b[49m\n\u001b[1;32m    495\u001b[0m \u001b[43m    \u001b[49m\u001b[43mparams\u001b[49m\u001b[38;5;241;43m=\u001b[39;49m\u001b[43mmerge_setting\u001b[49m\u001b[43m(\u001b[49m\u001b[43mrequest\u001b[49m\u001b[38;5;241;43m.\u001b[39;49m\u001b[43mparams\u001b[49m\u001b[43m,\u001b[49m\u001b[43m \u001b[49m\u001b[38;5;28;43mself\u001b[39;49m\u001b[38;5;241;43m.\u001b[39;49m\u001b[43mparams\u001b[49m\u001b[43m)\u001b[49m\u001b[43m,\u001b[49m\n\u001b[1;32m    496\u001b[0m \u001b[43m    \u001b[49m\u001b[43mauth\u001b[49m\u001b[38;5;241;43m=\u001b[39;49m\u001b[43mmerge_setting\u001b[49m\u001b[43m(\u001b[49m\u001b[43mauth\u001b[49m\u001b[43m,\u001b[49m\u001b[43m \u001b[49m\u001b[38;5;28;43mself\u001b[39;49m\u001b[38;5;241;43m.\u001b[39;49m\u001b[43mauth\u001b[49m\u001b[43m)\u001b[49m\u001b[43m,\u001b[49m\n\u001b[1;32m    497\u001b[0m \u001b[43m    \u001b[49m\u001b[43mcookies\u001b[49m\u001b[38;5;241;43m=\u001b[39;49m\u001b[43mmerged_cookies\u001b[49m\u001b[43m,\u001b[49m\n\u001b[1;32m    498\u001b[0m \u001b[43m    \u001b[49m\u001b[43mhooks\u001b[49m\u001b[38;5;241;43m=\u001b[39;49m\u001b[43mmerge_hooks\u001b[49m\u001b[43m(\u001b[49m\u001b[43mrequest\u001b[49m\u001b[38;5;241;43m.\u001b[39;49m\u001b[43mhooks\u001b[49m\u001b[43m,\u001b[49m\u001b[43m \u001b[49m\u001b[38;5;28;43mself\u001b[39;49m\u001b[38;5;241;43m.\u001b[39;49m\u001b[43mhooks\u001b[49m\u001b[43m)\u001b[49m\u001b[43m,\u001b[49m\n\u001b[1;32m    499\u001b[0m \u001b[43m\u001b[49m\u001b[43m)\u001b[49m\n\u001b[1;32m    500\u001b[0m \u001b[38;5;28;01mreturn\u001b[39;00m p\n",
      "File \u001b[0;32m/opt/homebrew/Caskroom/miniforge/base/envs/ab/lib/python3.9/site-packages/requests/models.py:368\u001b[0m, in \u001b[0;36mPreparedRequest.prepare\u001b[0;34m(self, method, url, headers, files, data, params, auth, cookies, hooks, json)\u001b[0m\n\u001b[1;32m    367\u001b[0m \u001b[38;5;28mself\u001b[39m\u001b[38;5;241m.\u001b[39mprepare_method(method)\n\u001b[0;32m--> 368\u001b[0m \u001b[38;5;28;43mself\u001b[39;49m\u001b[38;5;241;43m.\u001b[39;49m\u001b[43mprepare_url\u001b[49m\u001b[43m(\u001b[49m\u001b[43murl\u001b[49m\u001b[43m,\u001b[49m\u001b[43m \u001b[49m\u001b[43mparams\u001b[49m\u001b[43m)\u001b[49m\n\u001b[1;32m    369\u001b[0m \u001b[38;5;28mself\u001b[39m\u001b[38;5;241m.\u001b[39mprepare_headers(headers)\n",
      "File \u001b[0;32m/opt/homebrew/Caskroom/miniforge/base/envs/ab/lib/python3.9/site-packages/requests/models.py:439\u001b[0m, in \u001b[0;36mPreparedRequest.prepare_url\u001b[0;34m(self, url, params)\u001b[0m\n\u001b[1;32m    438\u001b[0m \u001b[38;5;28;01mif\u001b[39;00m \u001b[38;5;129;01mnot\u001b[39;00m scheme:\n\u001b[0;32m--> 439\u001b[0m     \u001b[38;5;28;01mraise\u001b[39;00m MissingSchema(\n\u001b[1;32m    440\u001b[0m         \u001b[38;5;124mf\u001b[39m\u001b[38;5;124m\"\u001b[39m\u001b[38;5;124mInvalid URL \u001b[39m\u001b[38;5;132;01m{\u001b[39;00murl\u001b[38;5;132;01m!r}\u001b[39;00m\u001b[38;5;124m: No scheme supplied. \u001b[39m\u001b[38;5;124m\"\u001b[39m\n\u001b[1;32m    441\u001b[0m         \u001b[38;5;124mf\u001b[39m\u001b[38;5;124m\"\u001b[39m\u001b[38;5;124mPerhaps you meant https://\u001b[39m\u001b[38;5;132;01m{\u001b[39;00murl\u001b[38;5;132;01m}\u001b[39;00m\u001b[38;5;124m?\u001b[39m\u001b[38;5;124m\"\u001b[39m\n\u001b[1;32m    442\u001b[0m     )\n\u001b[1;32m    444\u001b[0m \u001b[38;5;28;01mif\u001b[39;00m \u001b[38;5;129;01mnot\u001b[39;00m host:\n",
      "\u001b[0;31mMissingSchema\u001b[0m: Invalid URL '/Users/romain/GitHub/premise/dev/image-SSP2-RCP19/datapackage.json': No scheme supplied. Perhaps you meant https:///Users/romain/GitHub/premise/dev/image-SSP2-RCP19/datapackage.json?",
      "\nThe above exception was the direct cause of the following exception:\n",
      "\u001b[0;31mDataPackageException\u001b[0m                      Traceback (most recent call last)",
      "Cell \u001b[0;32mIn[4], line 1\u001b[0m\n\u001b[0;32m----> 1\u001b[0m p \u001b[38;5;241m=\u001b[39m \u001b[43mPathways\u001b[49m\u001b[43m(\u001b[49m\u001b[43mdatapackage\u001b[49m\u001b[38;5;241;43m=\u001b[39;49m\u001b[38;5;124;43m\"\u001b[39;49m\u001b[38;5;124;43m/Users/romain/GitHub/premise/dev/image-SSP2-RCP19/datapackage.json\u001b[39;49m\u001b[38;5;124;43m\"\u001b[39;49m\u001b[43m)\u001b[49m\n",
      "File \u001b[0;32m~/GitHub/pathways/pathways/pathways.py:327\u001b[0m, in \u001b[0;36mPathways.__init__\u001b[0;34m(self, datapackage)\u001b[0m\n\u001b[1;32m    325\u001b[0m \u001b[38;5;28;01mdef\u001b[39;00m \u001b[38;5;21m__init__\u001b[39m(\u001b[38;5;28mself\u001b[39m, datapackage):\n\u001b[1;32m    326\u001b[0m     \u001b[38;5;28mself\u001b[39m\u001b[38;5;241m.\u001b[39mdatapackage \u001b[38;5;241m=\u001b[39m datapackage\n\u001b[0;32m--> 327\u001b[0m     \u001b[38;5;28mself\u001b[39m\u001b[38;5;241m.\u001b[39mdata \u001b[38;5;241m=\u001b[39m validate_datapackage(\u001b[38;5;28;43mself\u001b[39;49m\u001b[38;5;241;43m.\u001b[39;49m\u001b[43mread_datapackage\u001b[49m\u001b[43m(\u001b[49m\u001b[43m)\u001b[49m)\n\u001b[1;32m    328\u001b[0m     \u001b[38;5;28mself\u001b[39m\u001b[38;5;241m.\u001b[39mmapping \u001b[38;5;241m=\u001b[39m \u001b[38;5;28mself\u001b[39m\u001b[38;5;241m.\u001b[39mget_mapping()\n\u001b[1;32m    329\u001b[0m     \u001b[38;5;28mself\u001b[39m\u001b[38;5;241m.\u001b[39mmapping\u001b[38;5;241m.\u001b[39mupdate(\u001b[38;5;28mself\u001b[39m\u001b[38;5;241m.\u001b[39mget_final_energy_mapping())\n",
      "File \u001b[0;32m~/GitHub/pathways/pathways/pathways.py:351\u001b[0m, in \u001b[0;36mPathways.read_datapackage\u001b[0;34m(self)\u001b[0m\n\u001b[1;32m    343\u001b[0m \u001b[38;5;28;01mdef\u001b[39;00m \u001b[38;5;21mread_datapackage\u001b[39m(\u001b[38;5;28mself\u001b[39m) \u001b[38;5;241m-\u001b[39m\u001b[38;5;241m>\u001b[39m DataPackage:\n\u001b[1;32m    344\u001b[0m \u001b[38;5;250m    \u001b[39m\u001b[38;5;124;03m\"\"\"Read the datapackage.json file.\u001b[39;00m\n\u001b[1;32m    345\u001b[0m \n\u001b[1;32m    346\u001b[0m \u001b[38;5;124;03m    Returns\u001b[39;00m\n\u001b[0;32m   (...)\u001b[0m\n\u001b[1;32m    349\u001b[0m \u001b[38;5;124;03m        The datapackage as a dictionary.\u001b[39;00m\n\u001b[1;32m    350\u001b[0m \u001b[38;5;124;03m    \"\"\"\u001b[39;00m\n\u001b[0;32m--> 351\u001b[0m     \u001b[38;5;28;01mreturn\u001b[39;00m \u001b[43mDataPackage\u001b[49m\u001b[43m(\u001b[49m\u001b[38;5;28;43mself\u001b[39;49m\u001b[38;5;241;43m.\u001b[39;49m\u001b[43mdatapackage\u001b[49m\u001b[43m)\u001b[49m\n",
      "File \u001b[0;32m/opt/homebrew/Caskroom/miniforge/base/envs/ab/lib/python3.9/site-packages/datapackage/package.py:102\u001b[0m, in \u001b[0;36mPackage.__init__\u001b[0;34m(self, descriptor, base_path, strict, unsafe, storage, schema, default_base_path, **options)\u001b[0m\n\u001b[1;32m     99\u001b[0m         descriptor[\u001b[38;5;124m'\u001b[39m\u001b[38;5;124mresources\u001b[39m\u001b[38;5;124m'\u001b[39m]\u001b[38;5;241m.\u001b[39mappend({\u001b[38;5;124m'\u001b[39m\u001b[38;5;124mpath\u001b[39m\u001b[38;5;124m'\u001b[39m: bucket})\n\u001b[1;32m    101\u001b[0m \u001b[38;5;66;03m# Process descriptor\u001b[39;00m\n\u001b[0;32m--> 102\u001b[0m descriptor \u001b[38;5;241m=\u001b[39m \u001b[43mhelpers\u001b[49m\u001b[38;5;241;43m.\u001b[39;49m\u001b[43mretrieve_descriptor\u001b[49m\u001b[43m(\u001b[49m\u001b[43mdescriptor\u001b[49m\u001b[43m)\u001b[49m\n\u001b[1;32m    103\u001b[0m descriptor \u001b[38;5;241m=\u001b[39m helpers\u001b[38;5;241m.\u001b[39mdereference_package_descriptor(descriptor, base_path)\n\u001b[1;32m    105\u001b[0m \u001b[38;5;66;03m# Handle deprecated resource.path/url\u001b[39;00m\n",
      "File \u001b[0;32m/opt/homebrew/Caskroom/miniforge/base/envs/ab/lib/python3.9/site-packages/datapackage/helpers.py:62\u001b[0m, in \u001b[0;36mretrieve_descriptor\u001b[0;34m(descriptor)\u001b[0m\n\u001b[1;32m     60\u001b[0m \u001b[38;5;28;01mexcept\u001b[39;00m (\u001b[38;5;167;01mIOError\u001b[39;00m, requests\u001b[38;5;241m.\u001b[39mexceptions\u001b[38;5;241m.\u001b[39mRequestException) \u001b[38;5;28;01mas\u001b[39;00m error:\n\u001b[1;32m     61\u001b[0m     message \u001b[38;5;241m=\u001b[39m \u001b[38;5;124m'\u001b[39m\u001b[38;5;124mUnable to load JSON at \u001b[39m\u001b[38;5;124m\"\u001b[39m\u001b[38;5;132;01m%s\u001b[39;00m\u001b[38;5;124m\"\u001b[39m\u001b[38;5;124m'\u001b[39m \u001b[38;5;241m%\u001b[39m descriptor\n\u001b[0;32m---> 62\u001b[0m     \u001b[43msix\u001b[49m\u001b[38;5;241;43m.\u001b[39;49m\u001b[43mraise_from\u001b[49m\u001b[43m(\u001b[49m\u001b[43mexceptions\u001b[49m\u001b[38;5;241;43m.\u001b[39;49m\u001b[43mDataPackageException\u001b[49m\u001b[43m(\u001b[49m\u001b[43mmessage\u001b[49m\u001b[43m)\u001b[49m\u001b[43m,\u001b[49m\u001b[43m \u001b[49m\u001b[43merror\u001b[49m\u001b[43m)\u001b[49m\n\u001b[1;32m     63\u001b[0m \u001b[38;5;28;01mexcept\u001b[39;00m \u001b[38;5;167;01mValueError\u001b[39;00m \u001b[38;5;28;01mas\u001b[39;00m error:\n\u001b[1;32m     64\u001b[0m     \u001b[38;5;66;03m# Python2 doesn't have json.JSONDecodeError (use ValueErorr)\u001b[39;00m\n\u001b[1;32m     65\u001b[0m     message \u001b[38;5;241m=\u001b[39m \u001b[38;5;124m'\u001b[39m\u001b[38;5;124mUnable to parse JSON at \u001b[39m\u001b[38;5;124m\"\u001b[39m\u001b[38;5;132;01m%s\u001b[39;00m\u001b[38;5;124m\"\u001b[39m\u001b[38;5;124m. \u001b[39m\u001b[38;5;132;01m%s\u001b[39;00m\u001b[38;5;124m'\u001b[39m \u001b[38;5;241m%\u001b[39m (descriptor, error)\n",
      "File \u001b[0;32m<string>:3\u001b[0m, in \u001b[0;36mraise_from\u001b[0;34m(value, from_value)\u001b[0m\n",
      "\u001b[0;31mDataPackageException\u001b[0m: Unable to load JSON at \"/Users/romain/GitHub/premise/dev/image-SSP2-RCP19/datapackage.json\""
     ]
    }
   ],
   "source": [
    "p = Pathways(datapackage=\"/Users/romain/GitHub/premise/dev/image-SSP2-RCP19/datapackage.json\")"
   ]
  },
  {
   "cell_type": "code",
   "execution_count": null,
   "id": "dcd996a6-3ba8-480a-9ea7-24aced9c2fc2",
   "metadata": {},
   "outputs": [],
   "source": [
    "p.calculate(\n",
    "    methods=[\n",
    "        'IPCC 2021 - climate change - GWP 100a, incl. H',\n",
    "        'EN15804 - inventory indicators ISO21930 - Cumulative Energy Demand - renewable energy resources',\n",
    "        'EN15804 - inventory indicators ISO21930 - Cumulative Energy Demand - non-renewable energy resources',\n",
    "        'EN15804 - inventory indicators ISO21930 - use of net fresh water',\n",
    "        'EF v3.1 EN15804 - particulate matter formation - impact on human health',\n",
    "    ],\n",
    "    regions=[r for r in p.scenarios.coords[\"region\"].values if r!=\"World\"],\n",
    "    #regions=[\"World\",],\n",
    "    scenarios=[\n",
    "        #\"SSP2-Base\",\n",
    "        \"SSP2-RCP19\",\n",
    "    ],\n",
    "    years=[2020, 2030, 2040, 2050, 2060, 2070, 2080, 2090, 2100],\n",
    "    variables=[\n",
    "        v for v in p.scenarios.coords[\"variables\"].values\n",
    "        if any(i in v for i in [\"Industry\", \"Transport\", \"Heating\"])\n",
    "    ],\n",
    "    #variables=[\"Transport_Freight_(train)_Liquid_fossil\"],\n",
    "    #variables = [\"Electricity\", ],\n",
    "    characterization=True\n",
    ")\n",
    "arr = p.display_results(cutoff=0.01)"
   ]
  },
  {
   "cell_type": "code",
   "execution_count": null,
   "id": "2685e409-e694-436c-81f4-55eb86889685",
   "metadata": {},
   "outputs": [],
   "source": [
    "arr.to_netcdf(\"results_image_SSP2.nc\")"
   ]
  },
  {
   "cell_type": "code",
   "execution_count": 5,
   "id": "fd21f031-f036-47e9-b378-c4593d356334",
   "metadata": {},
   "outputs": [
    {
     "data": {
      "text/plain": [
       "Coordinates:\n",
       "  * model            (model) object 'image'\n",
       "  * scenario         (scenario) object 'SSP2-RCP19'\n",
       "  * region           (region) object 'BRA' 'CAN' 'CEU' ... 'USA' 'WAF' 'WEU'\n",
       "  * impact_category  (impact_category) object 'Cobalt - natural resource - in...\n",
       "  * variable         (variable) object 'Heating_Commercial (space heating)_El...\n",
       "  * act_category     (act_category) object 'Manufacture of basic chemicals' ....\n",
       "  * year             (year) int64 2020 2021 2022 2023 ... 2097 2098 2099 2100"
      ]
     },
     "execution_count": 5,
     "metadata": {},
     "output_type": "execute_result"
    }
   ],
   "source": [
    "arr.coords"
   ]
  },
  {
   "cell_type": "code",
   "execution_count": 12,
   "id": "3e6b3af7-0d61-4719-9401-0ee62bbbc872",
   "metadata": {},
   "outputs": [],
   "source": [
    "arr.values[arr.values < 0] = 0"
   ]
  },
  {
   "cell_type": "code",
   "execution_count": 21,
   "id": "43312db1-d957-402d-a936-99846e1f2768",
   "metadata": {},
   "outputs": [],
   "source": [
    "df.to_csv(\"results_metals_rcp19.csv\")"
   ]
  },
  {
   "cell_type": "code",
   "execution_count": 27,
   "id": "975fb2b2-3111-4ccd-ae65-0481fac975b1",
   "metadata": {},
   "outputs": [
    {
     "data": {
      "text/plain": [
       "2918916"
      ]
     },
     "execution_count": 27,
     "metadata": {},
     "output_type": "execute_result"
    }
   ],
   "source": [
    "len(df)"
   ]
  },
  {
   "cell_type": "code",
   "execution_count": 30,
   "id": "9ca4a0e7-8ea6-48da-bd5d-054dec8ebaee",
   "metadata": {},
   "outputs": [
    {
     "data": {
      "text/html": [
       "<div>\n",
       "<style scoped>\n",
       "    .dataframe tbody tr th:only-of-type {\n",
       "        vertical-align: middle;\n",
       "    }\n",
       "\n",
       "    .dataframe tbody tr th {\n",
       "        vertical-align: top;\n",
       "    }\n",
       "\n",
       "    .dataframe thead th {\n",
       "        text-align: right;\n",
       "    }\n",
       "</style>\n",
       "<table border=\"1\" class=\"dataframe\">\n",
       "  <thead>\n",
       "    <tr style=\"text-align: right;\">\n",
       "      <th></th>\n",
       "      <th>model</th>\n",
       "      <th>scenario</th>\n",
       "      <th>region</th>\n",
       "      <th>impact_category</th>\n",
       "      <th>variable</th>\n",
       "      <th>year</th>\n",
       "      <th>act_category</th>\n",
       "      <th>value</th>\n",
       "      <th>Main sector</th>\n",
       "      <th>Sub sector</th>\n",
       "      <th>Energy carrier</th>\n",
       "    </tr>\n",
       "  </thead>\n",
       "  <tbody>\n",
       "    <tr>\n",
       "      <th>0</th>\n",
       "      <td>image</td>\n",
       "      <td>SSP2-RCP19</td>\n",
       "      <td>BRA</td>\n",
       "      <td>Cobalt</td>\n",
       "      <td>Heating_Commercial (space heating)_Electricity</td>\n",
       "      <td>2020</td>\n",
       "      <td>Manufacture of basic chemicals</td>\n",
       "      <td>NaN</td>\n",
       "      <td>Heating</td>\n",
       "      <td>Commercial (space heating)</td>\n",
       "      <td>Electricity</td>\n",
       "    </tr>\n",
       "    <tr>\n",
       "      <th>1</th>\n",
       "      <td>image</td>\n",
       "      <td>SSP2-RCP19</td>\n",
       "      <td>BRA</td>\n",
       "      <td>Cobalt</td>\n",
       "      <td>Heating_Commercial (space heating)_Liquid fossil</td>\n",
       "      <td>2020</td>\n",
       "      <td>Manufacture of basic chemicals</td>\n",
       "      <td>NaN</td>\n",
       "      <td>Heating</td>\n",
       "      <td>Commercial (space heating)</td>\n",
       "      <td>Liquid fossil</td>\n",
       "    </tr>\n",
       "    <tr>\n",
       "      <th>2</th>\n",
       "      <td>image</td>\n",
       "      <td>SSP2-RCP19</td>\n",
       "      <td>BRA</td>\n",
       "      <td>Cobalt</td>\n",
       "      <td>Heating_Commercial (space heating)_Natural gas</td>\n",
       "      <td>2020</td>\n",
       "      <td>Manufacture of basic chemicals</td>\n",
       "      <td>NaN</td>\n",
       "      <td>Heating</td>\n",
       "      <td>Commercial (space heating)</td>\n",
       "      <td>Natural gas</td>\n",
       "    </tr>\n",
       "    <tr>\n",
       "      <th>3</th>\n",
       "      <td>image</td>\n",
       "      <td>SSP2-RCP19</td>\n",
       "      <td>BRA</td>\n",
       "      <td>Cobalt</td>\n",
       "      <td>Heating_Commercial (space heating)_Solid biomass</td>\n",
       "      <td>2020</td>\n",
       "      <td>Manufacture of basic chemicals</td>\n",
       "      <td>NaN</td>\n",
       "      <td>Heating</td>\n",
       "      <td>Commercial (space heating)</td>\n",
       "      <td>Solid biomass</td>\n",
       "    </tr>\n",
       "    <tr>\n",
       "      <th>4</th>\n",
       "      <td>image</td>\n",
       "      <td>SSP2-RCP19</td>\n",
       "      <td>BRA</td>\n",
       "      <td>Cobalt</td>\n",
       "      <td>Heating_Commercial (space heating)_Solid coal</td>\n",
       "      <td>2020</td>\n",
       "      <td>Manufacture of basic chemicals</td>\n",
       "      <td>NaN</td>\n",
       "      <td>Heating</td>\n",
       "      <td>Commercial (space heating)</td>\n",
       "      <td>Solid coal</td>\n",
       "    </tr>\n",
       "  </tbody>\n",
       "</table>\n",
       "</div>"
      ],
      "text/plain": [
       "   model    scenario region impact_category  \\\n",
       "0  image  SSP2-RCP19    BRA          Cobalt   \n",
       "1  image  SSP2-RCP19    BRA          Cobalt   \n",
       "2  image  SSP2-RCP19    BRA          Cobalt   \n",
       "3  image  SSP2-RCP19    BRA          Cobalt   \n",
       "4  image  SSP2-RCP19    BRA          Cobalt   \n",
       "\n",
       "                                           variable  year  \\\n",
       "0    Heating_Commercial (space heating)_Electricity  2020   \n",
       "1  Heating_Commercial (space heating)_Liquid fossil  2020   \n",
       "2    Heating_Commercial (space heating)_Natural gas  2020   \n",
       "3  Heating_Commercial (space heating)_Solid biomass  2020   \n",
       "4     Heating_Commercial (space heating)_Solid coal  2020   \n",
       "\n",
       "                     act_category  value Main sector  \\\n",
       "0  Manufacture of basic chemicals    NaN     Heating   \n",
       "1  Manufacture of basic chemicals    NaN     Heating   \n",
       "2  Manufacture of basic chemicals    NaN     Heating   \n",
       "3  Manufacture of basic chemicals    NaN     Heating   \n",
       "4  Manufacture of basic chemicals    NaN     Heating   \n",
       "\n",
       "                   Sub sector Energy carrier  \n",
       "0  Commercial (space heating)    Electricity  \n",
       "1  Commercial (space heating)  Liquid fossil  \n",
       "2  Commercial (space heating)    Natural gas  \n",
       "3  Commercial (space heating)  Solid biomass  \n",
       "4  Commercial (space heating)     Solid coal  "
      ]
     },
     "execution_count": 30,
     "metadata": {},
     "output_type": "execute_result"
    }
   ],
   "source": [
    "df.head()"
   ]
  },
  {
   "cell_type": "code",
   "execution_count": 8,
   "id": "7af282bf-198f-48fb-867b-55cd63c9b925",
   "metadata": {},
   "outputs": [],
   "source": [
    "df.to_csv(\"results_image_SSP2-RCP19.csv\")"
   ]
  },
  {
   "cell_type": "code",
   "execution_count": 11,
   "id": "6b010325-585c-401e-9e12-4f6b1238020e",
   "metadata": {},
   "outputs": [
    {
     "name": "stdout",
     "output_type": "stream",
     "text": [
      "Updated YAML file saved to updated_yaml_file.yaml\n"
     ]
    }
   ],
   "source": [
    "import yaml\n",
    "import pandas as pd\n",
    "\n",
    "# Replace 'your_yaml_file.yaml' with the path to your YAML file\n",
    "yaml_file_path = '/Users/romain/GitHub/pathways/pathways/data/activities_classifications.yaml'\n",
    "\n",
    "# Replace 'your_excel_file.xlsx' with the path to your Excel file\n",
    "excel_file_path = '/Users/romain/GitHub/pathways/dev/missing_classifications.xlsx'\n",
    "\n",
    "# Load the YAML file\n",
    "with open(yaml_file_path, 'r') as file:\n",
    "    yaml_content = yaml.load(file, Loader=yaml.FullLoader)\n",
    "\n",
    "# Load the Excel file\n",
    "excel_content = pd.read_excel(excel_file_path)\n",
    "\n",
    "# Convert Excel data to the same tuple format as YAML keys\n",
    "excel_tuples = [\n",
    "    ((row['name'], row['reference product'], row['unit'], row['location']), row['classification'])\n",
    "    for index, row in excel_content.iterrows()\n",
    "]\n",
    "\n",
    "# Update the YAML dictionary with the new classifications from the Excel file\n",
    "for csv_key, classification in excel_tuples:\n",
    "    yaml_content[csv_key] = classification\n",
    "\n",
    "# Save the updated dictionary to a new YAML file\n",
    "# Replace 'updated_yaml_file.yaml' with the path where you want to save the updated file\n",
    "updated_yaml_file_path = 'updated_yaml_file.yaml'\n",
    "\n",
    "with open(updated_yaml_file_path, 'w') as file:\n",
    "    yaml.dump(yaml_content, file)\n",
    "\n",
    "print(f'Updated YAML file saved to {updated_yaml_file_path}')\n"
   ]
  },
  {
   "cell_type": "code",
   "execution_count": 32,
   "id": "eaf03dda-afd6-4fca-9e43-04432663895c",
   "metadata": {},
   "outputs": [
    {
     "data": {
      "text/plain": [
       "{'dataset': {'name': 'market group for electricity, low voltage',\n",
       "  'reference product': 'electricity, low voltage',\n",
       "  'unit': 'kilowatt hour'},\n",
       " 'scenario variable': 'Final Energy|Transportation|Passenger|Electricity'}"
      ]
     },
     "execution_count": 32,
     "metadata": {},
     "output_type": "execute_result"
    }
   ],
   "source": [
    "p.mapping[\"Transport_Passenger_Electricity\"]"
   ]
  },
  {
   "cell_type": "code",
   "execution_count": 24,
   "id": "37856379-82ba-4077-afa6-60b55b14f3cf",
   "metadata": {},
   "outputs": [],
   "source": [
    "import yaml\n",
    "fp=\"/Users/romain/GitHub/pathways/pathways/data/activities_classifications.yaml\"\n",
    "with open(fp, 'rb') as fp:\n",
    "    cat = yaml.full_load(fp)"
   ]
  },
  {
   "cell_type": "code",
   "execution_count": null,
   "id": "afeae598-b68e-4a45-8c73-d2683d6f49b4",
   "metadata": {},
   "outputs": [],
   "source": [
    "import seaborn as sns\n",
    "df = p.scenarios.sel(region=\"World\", model=\"image\", pathway=\"SSP2-Base\").to_dataframe(\"val\").unstack()[\"val\"]\n",
    "\n",
    "import matplotlib.pyplot as plt\n",
    "df.T.plot(kind=\"area\", stacked=True,\n",
    "       #color=color_palette, \n",
    "       figsize=(7, 5))\n",
    "plt.ylim(0, 400)\n",
    "plt.legend(ncols=2)\n",
    "plt.title(\"Global electricity production mix\")\n",
    "plt.ylabel(\"Exajoules\")\n",
    "plt.savefig(\"electricity_mix_Base.png\")"
   ]
  },
  {
   "cell_type": "code",
   "execution_count": null,
   "id": "3a40b9fb-40a7-4076-9173-ad4fb6c2db8b",
   "metadata": {},
   "outputs": [],
   "source": []
  }
 ],
 "metadata": {
  "kernelspec": {
   "display_name": "Python 3 (ipykernel)",
   "language": "python",
   "name": "python3"
  },
  "language_info": {
   "codemirror_mode": {
    "name": "ipython",
    "version": 3
   },
   "file_extension": ".py",
   "mimetype": "text/x-python",
   "name": "python",
   "nbconvert_exporter": "python",
   "pygments_lexer": "ipython3",
   "version": "3.11.8"
  }
 },
 "nbformat": 4,
 "nbformat_minor": 5
}
