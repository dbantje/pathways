{
 "cells": [
  {
   "attachments": {},
   "cell_type": "markdown",
   "id": "d4d6fd0c-d89e-4eb1-b600-e856d8792c23",
   "metadata": {},
   "source": [
    "# *pathways*. Global sensitivity analysis application"
   ]
  },
  {
   "attachments": {},
   "cell_type": "markdown",
   "id": "fbd14d90-fd34-4eed-98c5-30ecd96aad9b",
   "metadata": {},
   "source": [
    "This notebook contains the code necessary to generate the results shown in the publication *\"Exploring uncertainties in the material-energy nexus for net zero transition scenarios\"* "
   ]
  },
  {
   "cell_type": "markdown",
   "id": "7f3485b4-cc75-420a-99bb-0e08e56f11e2",
   "metadata": {},
   "source": [
    "Data packages were generated using *premise*, and can be found in this folder."
   ]
  },
  {
   "cell_type": "markdown",
   "id": "2b3e00b7-c833-4a69-9fc0-8d72c34d066c",
   "metadata": {},
   "source": [
    "Contact:\n",
    "\n",
    "- romain.sacchi@psi.ch\n",
    "- alvaro.hahn-menacho@psi.ch"
   ]
  },
  {
   "cell_type": "markdown",
   "id": "8dcd2491-5f92-4980-95ad-3e7fe86cfe3d",
   "metadata": {},
   "source": [
    "## Import *pathways* and other necessary modules"
   ]
  },
  {
   "cell_type": "code",
   "execution_count": 1,
   "id": "45ac9b05-1e2a-4839-afed-4edae65d9d8f",
   "metadata": {
    "jupyter": {
     "is_executing": true
    }
   },
   "outputs": [
    {
     "name": "stdout",
     "output_type": "stream",
     "text": [
      "/Users/romain/GitHub/pathways/pathways/data\n",
      "/Users/romain/Library/Application Support/pathways\n",
      "cache\n",
      "/Users/romain/Library/Logs/pathways\n",
      "/Users/romain/GitHub/pathways/dev/stats\n"
     ]
    }
   ],
   "source": [
    "from pathways import Pathways"
   ]
  },
  {
   "cell_type": "code",
   "execution_count": 2,
   "id": "9529213a-ed56-4c73-b08c-69198462ebe8",
   "metadata": {},
   "outputs": [],
   "source": [
    "import numpy as np\n",
    "import xarray as xr\n",
    "import numpy as np\n",
    "import pandas as pd\n",
    "from pathlib import Path"
   ]
  },
  {
   "cell_type": "markdown",
   "id": "e9b0b415-b734-4891-8781-92f17dd17442",
   "metadata": {},
   "source": [
    "## Set calculation parameters and export as .gzip"
   ]
  },
  {
   "cell_type": "code",
   "execution_count": 3,
   "id": "78d0ad42-1964-4686-8bd2-179b4c7c87bf",
   "metadata": {},
   "outputs": [
    {
     "name": "stdout",
     "output_type": "stream",
     "text": [
      "Invalid datapackage: Descriptor validation error: {'path': 'mapping/mapping.yaml', 'profile': 'data-resource', 'name': 'mapping', 'format': 'yaml', 'mediatype': 'text/yaml', 'encoding': 'utf-8'} is not valid under any of the given schemas at \"resources/29\" in descriptor and at \"properties/resources/items/oneOf\" in profile\n",
      "Invalid datapackage: Descriptor validation error: 'data-resource' is not one of ['tabular-data-resource'] at \"resources/29/profile\" in descriptor and at \"properties/resources/items/properties/profile/enum\" in profile\n",
      "Log file: /Users/romain/Library/Logs/pathways/pathways.log\n",
      "[(0.19, nan, nan, nan, nan, False, 0)]\n",
      "[(nan, nan, nan, 0.15, 0.25, False, 4)]\n",
      "[(0.77, nan, nan, nan, nan, False, 0)]\n",
      "[(nan, nan, nan, 0.6, 0.77, False, 4)]\n",
      "[(0.022, nan, nan, nan, nan, False, 0)]\n",
      "[(nan, nan, nan, 0.022, 0.15, False, 4)]\n",
      "[(0.018, nan, nan, nan, nan, False, 0)]\n",
      "[(nan, nan, nan, 0.018, 0.1, False, 4)]\n",
      "[(0.944, nan, nan, nan, nan, False, 0)]\n",
      "[(nan, nan, nan, 0.4, 0.944, False, 4)]\n",
      "[(0.04, nan, nan, nan, nan, False, 0)]\n",
      "[(nan, nan, nan, 0., 0.25, False, 4)]\n",
      "[(0.015, nan, nan, nan, nan, False, 0)]\n",
      "[(nan, nan, nan, 0., 0.125, False, 4)]\n",
      "[(0.001, nan, nan, nan, nan, False, 0)]\n",
      "[(nan, nan, nan, 0., 0.001, False, 4)]\n",
      "[(0., nan, nan, nan, nan, False, 0)]\n",
      "[(nan, nan, nan, 0., 0.3, False, 4)]\n",
      "[(0., nan, nan, nan, nan, False, 0)]\n",
      "[(nan, nan, nan, 0., 0.15, False, 4)]\n",
      "[(0.9474, nan, nan, nan, nan, False, 0)]\n",
      "[(nan, nan, nan, 0.5, 0.95, False, 4)]\n",
      "[(0.0526, nan, nan, nan, nan, False, 0)]\n",
      "[(nan, nan, nan, 0.05, 0.5, False, 4)]\n",
      "[(0.22229259, nan, nan, nan, nan, False, 0)]\n",
      "[(nan, nan, nan, 0.115, 0.9, False, 4)]\n",
      "[(0.77770741, nan, nan, nan, nan, False, 0)]\n",
      "[(nan, nan, nan, 0.117, 0.9, False, 4)]\n",
      "[(0.5, nan, nan, nan, nan, False, 0)]\n",
      "[(nan, nan, nan, 0.4, 0.85, False, 4)]\n",
      "[(0.5, nan, nan, nan, nan, False, 0)]\n",
      "[(nan, nan, nan, 0., 0.4943, False, 4)]\n",
      "[(0., nan, nan, nan, nan, False, 0)]\n",
      "[(nan, nan, nan, 0., 0.35, False, 4)]\n",
      "[(0.04, nan, nan, nan, nan, False, 0)]\n",
      "[(nan, nan, nan, 0., 0.04, False, 4)]\n",
      "[(0.05, nan, nan, nan, nan, False, 0)]\n",
      "[(nan, nan, nan, 0., 0.29, False, 4)]\n",
      "[(0.25, nan, nan, nan, nan, False, 0)]\n",
      "[(nan, nan, nan, 0., 0.29, False, 4)]\n",
      "[(0.13, nan, nan, nan, nan, False, 0)]\n",
      "[(nan, nan, nan, 0., 0.47, False, 4)]\n",
      "[(0.04, nan, nan, nan, nan, False, 0)]\n",
      "[(nan, nan, nan, 0., 0.47, False, 4)]\n",
      "[(0.21, nan, nan, nan, nan, False, 0)]\n",
      "[(nan, nan, nan, 0., 0.188, False, 4)]\n",
      "[(0.28, nan, nan, nan, nan, False, 0)]\n",
      "[(nan, nan, nan, 0., 0.388, False, 4)]\n",
      "[(0., nan, nan, nan, nan, False, 0)]\n",
      "[(nan, nan, nan, 0., 0.9, False, 4)]\n",
      "[(0., nan, nan, nan, nan, False, 0)]\n",
      "[(nan, nan, nan, 0., 0.1, False, 4)]\n",
      "[(0., nan, nan, nan, nan, False, 0)]\n",
      "[(nan, nan, nan, 0., 0.39, False, 4)]\n",
      "[(0.04, nan, nan, nan, nan, False, 0)]\n",
      "[(nan, nan, nan, 0., 0.04, False, 4)]\n",
      "[(0.05, nan, nan, nan, nan, False, 0)]\n",
      "[(nan, nan, nan, 0., 0.3, False, 4)]\n",
      "[(0.21, nan, nan, nan, nan, False, 0)]\n",
      "[(nan, nan, nan, 0., 0.3, False, 4)]\n",
      "[(0.09, nan, nan, nan, nan, False, 0)]\n",
      "[(nan, nan, nan, 0., 0.44, False, 4)]\n",
      "[(0.01, nan, nan, nan, nan, False, 0)]\n",
      "[(nan, nan, nan, 0., 0.44, False, 4)]\n",
      "[(0.1, nan, nan, nan, nan, False, 0)]\n",
      "[(nan, nan, nan, 0., 0.1, False, 4)]\n",
      "[(0.4, nan, nan, nan, nan, False, 0)]\n",
      "[(nan, nan, nan, 0., 0.4, False, 4)]\n",
      "[(0.05, nan, nan, nan, nan, False, 0)]\n",
      "[(nan, nan, nan, 0., 0.33, False, 4)]\n",
      "[(0.05, nan, nan, nan, nan, False, 0)]\n",
      "[(nan, nan, nan, 0., 0.33, False, 4)]\n",
      "Calculating LCA results for remind...\n",
      "--- Calculating LCA results for SSP2-PkBudg1150-SPS1...\n",
      "/Users/romain/GitHub/pathways/pathways/data\n",
      "/Users/romain/Library/Application Support/pathways\n",
      "cache\n",
      "/Users/romain/Library/Logs/pathways\n",
      "/Users/romain/GitHub/pathways/dev/stats\n",
      "------ Calculating LCA results for 2050...\n",
      "Warning: No valid output stream.\n"
     ]
    },
    {
     "name": "stderr",
     "output_type": "stream",
     "text": [
      "Process SpawnPoolWorker-8:\n",
      "Process SpawnPoolWorker-1:\n",
      "Process SpawnPoolWorker-4:\n",
      "Process SpawnPoolWorker-5:\n",
      "Process SpawnPoolWorker-2:\n",
      "Process SpawnPoolWorker-6:\n",
      "Process SpawnPoolWorker-7:\n",
      "Traceback (most recent call last):\n",
      "Traceback (most recent call last):\n",
      "Traceback (most recent call last):\n",
      "Traceback (most recent call last):\n",
      "Traceback (most recent call last):\n",
      "Traceback (most recent call last):\n",
      "Traceback (most recent call last):\n"
     ]
    },
    {
     "ename": "KeyboardInterrupt",
     "evalue": "",
     "output_type": "error",
     "traceback": [
      "\u001B[0;31m---------------------------------------------------------------------------\u001B[0m",
      "\u001B[0;31mKeyboardInterrupt\u001B[0m                         Traceback (most recent call last)",
      "Cell \u001B[0;32mIn[3], line 11\u001B[0m\n\u001B[1;32m      1\u001B[0m \u001B[38;5;28;01mfor\u001B[39;00m scenario \u001B[38;5;129;01min\u001B[39;00m [\n\u001B[1;32m      2\u001B[0m     \u001B[38;5;66;03m# \"remind-SSP2-NPi-stem-SPS1.zip\",\u001B[39;00m\n\u001B[1;32m      3\u001B[0m     \u001B[38;5;124m\"\u001B[39m\u001B[38;5;124mremind-SSP2-PkBudg1150-stem-SPS1.zip\u001B[39m\u001B[38;5;124m\"\u001B[39m,\n\u001B[0;32m   (...)\u001B[0m\n\u001B[1;32m      7\u001B[0m     \u001B[38;5;66;03m# \"remind-SSP2-PkBudg500-stem-SPS4.zip\",\u001B[39;00m\n\u001B[1;32m      8\u001B[0m ]:\n\u001B[1;32m      9\u001B[0m     p \u001B[38;5;241m=\u001B[39m Pathways(datapackage\u001B[38;5;241m=\u001B[39mscenario, debug\u001B[38;5;241m=\u001B[39m\u001B[38;5;28;01mTrue\u001B[39;00m)\n\u001B[0;32m---> 11\u001B[0m     \u001B[43mp\u001B[49m\u001B[38;5;241;43m.\u001B[39;49m\u001B[43mcalculate\u001B[49m\u001B[43m(\u001B[49m\n\u001B[1;32m     12\u001B[0m \u001B[43m        \u001B[49m\u001B[43mmethods\u001B[49m\u001B[38;5;241;43m=\u001B[39;49m\u001B[43m[\u001B[49m\n\u001B[1;32m     13\u001B[0m \u001B[43m            \u001B[49m\u001B[38;5;124;43m'\u001B[39;49m\u001B[38;5;124;43mEF v3.1 EN15804 - climate change - global warming potential (GWP100)\u001B[39;49m\u001B[38;5;124;43m'\u001B[39;49m\u001B[43m,\u001B[49m\n\u001B[1;32m     14\u001B[0m \u001B[43m            \u001B[49m\u001B[38;5;66;43;03m# 'EF v3.1 EN15804 - material resources: metals/minerals - abiotic depletion potential (ADP): elements (ultimate reserves)',\u001B[39;49;00m\n\u001B[1;32m     15\u001B[0m \u001B[43m            \u001B[49m\u001B[38;5;124;43m'\u001B[39;49m\u001B[38;5;124;43mEF v3.1 EN15804 - ecotoxicity: freshwater - comparative toxic unit for ecosystems (CTUe)\u001B[39;49m\u001B[38;5;124;43m'\u001B[39;49m\u001B[43m,\u001B[49m\n\u001B[1;32m     16\u001B[0m \u001B[43m            \u001B[49m\u001B[38;5;66;43;03m# 'EF v3.1 EN15804 - land use - soil quality index',\u001B[39;49;00m\n\u001B[1;32m     17\u001B[0m \u001B[43m            \u001B[49m\u001B[38;5;66;43;03m# 'EF v3.1 EN15804 - water use - user deprivation potential (deprivation-weighted water consumption)',\u001B[39;49;00m\n\u001B[1;32m     18\u001B[0m \u001B[43m            \u001B[49m\u001B[38;5;124;43m'\u001B[39;49m\u001B[38;5;124;43mEF v3.1 EN15804 - particulate matter formation - impact on human health\u001B[39;49m\u001B[38;5;124;43m'\u001B[39;49m\u001B[43m,\u001B[49m\n\u001B[1;32m     19\u001B[0m \n\u001B[1;32m     20\u001B[0m \u001B[43m            \u001B[49m\u001B[38;5;66;43;03m# 'ReCiPe 2016 v1.03, midpoint (H) - particulate matter formation - particulate matter formation potential (PMFP)',\u001B[39;49;00m\n\u001B[1;32m     21\u001B[0m \u001B[43m            \u001B[49m\u001B[38;5;66;43;03m# 'ReCiPe 2016 v1.03, midpoint (H) - ecotoxicity: freshwater - freshwater ecotoxicity potential (FETP)',\u001B[39;49;00m\n\u001B[1;32m     22\u001B[0m \u001B[43m            \u001B[49m\u001B[38;5;66;43;03m# 'ReCiPe 2016 v1.03, midpoint (H) - water use - water consumption potential (WCP)',\u001B[39;49;00m\n\u001B[1;32m     23\u001B[0m \u001B[43m            \u001B[49m\u001B[38;5;124;43m'\u001B[39;49m\u001B[38;5;124;43mCrustal Scarcity Indicator 2020 - material resources: metals/minerals - crustal scarcity potential (CSP)\u001B[39;49m\u001B[38;5;124;43m'\u001B[39;49m\u001B[43m,\u001B[49m\n\u001B[1;32m     24\u001B[0m \u001B[43m            \u001B[49m\u001B[38;5;66;43;03m# 'Ecological Footprint - land occupation - global hectares',\u001B[39;49;00m\n\u001B[1;32m     25\u001B[0m \u001B[43m            \u001B[49m\n\u001B[1;32m     26\u001B[0m \u001B[43m            \u001B[49m\u001B[38;5;66;43;03m# 'selected LCI results - resource - land occupation',\u001B[39;49;00m\n\u001B[1;32m     27\u001B[0m \n\u001B[1;32m     28\u001B[0m \u001B[43m            \u001B[49m\u001B[38;5;66;43;03m# 'selected LCI results - air - NMVOC',\u001B[39;49;00m\n\u001B[1;32m     29\u001B[0m \u001B[43m            \u001B[49m\u001B[38;5;66;43;03m# 'selected LCI results - air - nitrogen oxides',\u001B[39;49;00m\n\u001B[1;32m     30\u001B[0m \u001B[43m            \u001B[49m\u001B[38;5;66;43;03m# 'selected LCI results - air - particulates, < 2.5 um',\u001B[39;49;00m\n\u001B[1;32m     31\u001B[0m \u001B[43m            \u001B[49m\u001B[38;5;66;43;03m# 'selected LCI results, additional - air - particulates, >2.5 um and <10',\u001B[39;49;00m\n\u001B[1;32m     32\u001B[0m \u001B[43m            \u001B[49m\u001B[38;5;66;43;03m# 'selected LCI results - air - sulphur dioxide',\u001B[39;49;00m\n\u001B[1;32m     33\u001B[0m \u001B[43m            \u001B[49m\n\u001B[1;32m     34\u001B[0m \u001B[43m            \u001B[49m\n\u001B[1;32m     35\u001B[0m \u001B[43m            \u001B[49m\n\u001B[1;32m     36\u001B[0m \u001B[43m            \u001B[49m\n\u001B[1;32m     37\u001B[0m \u001B[43m        \u001B[49m\u001B[43m]\u001B[49m\u001B[43m \u001B[49m\n\u001B[1;32m     38\u001B[0m \u001B[43m        \u001B[49m\u001B[43m,\u001B[49m\n\u001B[1;32m     39\u001B[0m \u001B[43m        \u001B[49m\u001B[43mregions\u001B[49m\u001B[38;5;241;43m=\u001B[39;49m\u001B[43m[\u001B[49m\u001B[38;5;124;43m\"\u001B[39;49m\u001B[38;5;124;43mCH\u001B[39;49m\u001B[38;5;124;43m\"\u001B[39;49m\u001B[43m,\u001B[49m\u001B[43m]\u001B[49m\u001B[43m,\u001B[49m\n\u001B[1;32m     40\u001B[0m \u001B[43m        \u001B[49m\u001B[43mscenarios\u001B[49m\u001B[38;5;241;43m=\u001B[39;49m\u001B[43mp\u001B[49m\u001B[38;5;241;43m.\u001B[39;49m\u001B[43mscenarios\u001B[49m\u001B[38;5;241;43m.\u001B[39;49m\u001B[43mpathway\u001B[49m\u001B[38;5;241;43m.\u001B[39;49m\u001B[43mvalues\u001B[49m\u001B[38;5;241;43m.\u001B[39;49m\u001B[43mtolist\u001B[49m\u001B[43m(\u001B[49m\u001B[43m)\u001B[49m\u001B[43m,\u001B[49m\n\u001B[1;32m     41\u001B[0m \u001B[43m        \u001B[49m\u001B[43mvariables\u001B[49m\u001B[38;5;241;43m=\u001B[39;49m\u001B[43m[\u001B[49m\u001B[43mv\u001B[49m\u001B[43m \u001B[49m\u001B[38;5;28;43;01mfor\u001B[39;49;00m\u001B[43m \u001B[49m\u001B[43mv\u001B[49m\u001B[43m \u001B[49m\u001B[38;5;129;43;01min\u001B[39;49;00m\u001B[43m \u001B[49m\u001B[43mp\u001B[49m\u001B[38;5;241;43m.\u001B[39;49m\u001B[43mscenarios\u001B[49m\u001B[38;5;241;43m.\u001B[39;49m\u001B[43mcoords\u001B[49m\u001B[43m[\u001B[49m\u001B[38;5;124;43m\"\u001B[39;49m\u001B[38;5;124;43mvariables\u001B[39;49m\u001B[38;5;124;43m\"\u001B[39;49m\u001B[43m]\u001B[49m\u001B[38;5;241;43m.\u001B[39;49m\u001B[43mvalues\u001B[49m\u001B[43m \u001B[49m\u001B[38;5;28;43;01mif\u001B[39;49;00m\u001B[43m \u001B[49m\u001B[43mv\u001B[49m\u001B[38;5;241;43m.\u001B[39;49m\u001B[43mstartswith\u001B[49m\u001B[43m(\u001B[49m\u001B[38;5;124;43m\"\u001B[39;49m\u001B[38;5;124;43mFE\u001B[39;49m\u001B[38;5;124;43m\"\u001B[39;49m\u001B[43m)\u001B[49m\u001B[43m]\u001B[49m\u001B[43m,\u001B[49m\n\u001B[1;32m     42\u001B[0m \u001B[43m        \u001B[49m\u001B[43myears\u001B[49m\u001B[38;5;241;43m=\u001B[39;49m\u001B[43m[\u001B[49m\n\u001B[1;32m     43\u001B[0m \u001B[43m            \u001B[49m\u001B[38;5;66;43;03m# 2020,\u001B[39;49;00m\n\u001B[1;32m     44\u001B[0m \u001B[43m            \u001B[49m\u001B[38;5;66;43;03m# 2025,\u001B[39;49;00m\n\u001B[1;32m     45\u001B[0m \u001B[43m            \u001B[49m\u001B[38;5;66;43;03m# 2030,\u001B[39;49;00m\n\u001B[1;32m     46\u001B[0m \u001B[43m            \u001B[49m\u001B[38;5;66;43;03m# 2040,\u001B[39;49;00m\n\u001B[1;32m     47\u001B[0m \u001B[43m            \u001B[49m\u001B[38;5;241;43m2050\u001B[39;49m\n\u001B[1;32m     48\u001B[0m \u001B[43m        \u001B[49m\u001B[43m]\u001B[49m\u001B[43m,\u001B[49m\n\u001B[1;32m     49\u001B[0m \u001B[43m        \u001B[49m\u001B[43muse_distributions\u001B[49m\u001B[38;5;241;43m=\u001B[39;49m\u001B[38;5;241;43m50\u001B[39;49m\u001B[43m,\u001B[49m\n\u001B[1;32m     50\u001B[0m \u001B[43m        \u001B[49m\u001B[43msubshares\u001B[49m\u001B[38;5;241;43m=\u001B[39;49m\u001B[38;5;28;43;01mTrue\u001B[39;49;00m\u001B[43m,\u001B[49m\n\u001B[1;32m     51\u001B[0m \u001B[43m        \u001B[49m\n\u001B[1;32m     52\u001B[0m \u001B[43m    \u001B[49m\u001B[43m)\u001B[49m\n\u001B[1;32m     53\u001B[0m     \u001B[38;5;66;03m# p.export_results()\u001B[39;00m\n\u001B[1;32m     54\u001B[0m     \u001B[38;5;66;03m#del p\u001B[39;00m\n",
      "File \u001B[0;32m~/GitHub/pathways/pathways/pathways.py:476\u001B[0m, in \u001B[0;36mPathways.calculate\u001B[0;34m(self, methods, models, scenarios, regions, years, variables, demand_cutoff, use_distributions, subshares, remove_uncertainty, multiprocessing)\u001B[0m\n\u001B[1;32m    468\u001B[0m \u001B[38;5;28;01mif\u001B[39;00m multiprocessing:\n\u001B[1;32m    469\u001B[0m     \u001B[38;5;66;03m# Process each region in parallel\u001B[39;00m\n\u001B[1;32m    470\u001B[0m     \u001B[38;5;28;01mwith\u001B[39;00m Pool(cpu_count(), maxtasksperchild\u001B[38;5;241m=\u001B[39m\u001B[38;5;241m1000\u001B[39m) \u001B[38;5;28;01mas\u001B[39;00m p:\n\u001B[1;32m    471\u001B[0m         \u001B[38;5;66;03m# store the results as a dictionary with years as keys\u001B[39;00m\n\u001B[1;32m    472\u001B[0m         results\u001B[38;5;241m.\u001B[39mupdate(\n\u001B[1;32m    473\u001B[0m             {\n\u001B[1;32m    474\u001B[0m                 (model, scenario, year): result\n\u001B[1;32m    475\u001B[0m                 \u001B[38;5;28;01mfor\u001B[39;00m year, result \u001B[38;5;129;01min\u001B[39;00m \u001B[38;5;28mzip\u001B[39m(\n\u001B[0;32m--> 476\u001B[0m                     years, \u001B[43mp\u001B[49m\u001B[38;5;241;43m.\u001B[39;49m\u001B[43mmap\u001B[49m\u001B[43m(\u001B[49m\u001B[43m_calculate_year\u001B[49m\u001B[43m,\u001B[49m\u001B[43m \u001B[49m\u001B[43margs\u001B[49m\u001B[43m)\u001B[49m\n\u001B[1;32m    477\u001B[0m                 )\n\u001B[1;32m    478\u001B[0m             }\n\u001B[1;32m    479\u001B[0m         )\n\u001B[1;32m    480\u001B[0m \u001B[38;5;28;01melse\u001B[39;00m:\n\u001B[1;32m    481\u001B[0m     \u001B[38;5;28;01mfor\u001B[39;00m arg \u001B[38;5;129;01min\u001B[39;00m args:\n",
      "File \u001B[0;32m/opt/homebrew/Caskroom/miniforge/base/envs/pathways2/lib/python3.11/multiprocessing/pool.py:367\u001B[0m, in \u001B[0;36mPool.map\u001B[0;34m(self, func, iterable, chunksize)\u001B[0m\n\u001B[1;32m    362\u001B[0m \u001B[38;5;28;01mdef\u001B[39;00m \u001B[38;5;21mmap\u001B[39m(\u001B[38;5;28mself\u001B[39m, func, iterable, chunksize\u001B[38;5;241m=\u001B[39m\u001B[38;5;28;01mNone\u001B[39;00m):\n\u001B[1;32m    363\u001B[0m \u001B[38;5;250m    \u001B[39m\u001B[38;5;124;03m'''\u001B[39;00m\n\u001B[1;32m    364\u001B[0m \u001B[38;5;124;03m    Apply `func` to each element in `iterable`, collecting the results\u001B[39;00m\n\u001B[1;32m    365\u001B[0m \u001B[38;5;124;03m    in a list that is returned.\u001B[39;00m\n\u001B[1;32m    366\u001B[0m \u001B[38;5;124;03m    '''\u001B[39;00m\n\u001B[0;32m--> 367\u001B[0m     \u001B[38;5;28;01mreturn\u001B[39;00m \u001B[38;5;28;43mself\u001B[39;49m\u001B[38;5;241;43m.\u001B[39;49m\u001B[43m_map_async\u001B[49m\u001B[43m(\u001B[49m\u001B[43mfunc\u001B[49m\u001B[43m,\u001B[49m\u001B[43m \u001B[49m\u001B[43miterable\u001B[49m\u001B[43m,\u001B[49m\u001B[43m \u001B[49m\u001B[43mmapstar\u001B[49m\u001B[43m,\u001B[49m\u001B[43m \u001B[49m\u001B[43mchunksize\u001B[49m\u001B[43m)\u001B[49m\u001B[38;5;241;43m.\u001B[39;49m\u001B[43mget\u001B[49m\u001B[43m(\u001B[49m\u001B[43m)\u001B[49m\n",
      "File \u001B[0;32m/opt/homebrew/Caskroom/miniforge/base/envs/pathways2/lib/python3.11/multiprocessing/pool.py:768\u001B[0m, in \u001B[0;36mApplyResult.get\u001B[0;34m(self, timeout)\u001B[0m\n\u001B[1;32m    767\u001B[0m \u001B[38;5;28;01mdef\u001B[39;00m \u001B[38;5;21mget\u001B[39m(\u001B[38;5;28mself\u001B[39m, timeout\u001B[38;5;241m=\u001B[39m\u001B[38;5;28;01mNone\u001B[39;00m):\n\u001B[0;32m--> 768\u001B[0m     \u001B[38;5;28;43mself\u001B[39;49m\u001B[38;5;241;43m.\u001B[39;49m\u001B[43mwait\u001B[49m\u001B[43m(\u001B[49m\u001B[43mtimeout\u001B[49m\u001B[43m)\u001B[49m\n\u001B[1;32m    769\u001B[0m     \u001B[38;5;28;01mif\u001B[39;00m \u001B[38;5;129;01mnot\u001B[39;00m \u001B[38;5;28mself\u001B[39m\u001B[38;5;241m.\u001B[39mready():\n\u001B[1;32m    770\u001B[0m         \u001B[38;5;28;01mraise\u001B[39;00m \u001B[38;5;167;01mTimeoutError\u001B[39;00m\n",
      "File \u001B[0;32m/opt/homebrew/Caskroom/miniforge/base/envs/pathways2/lib/python3.11/multiprocessing/pool.py:765\u001B[0m, in \u001B[0;36mApplyResult.wait\u001B[0;34m(self, timeout)\u001B[0m\n\u001B[1;32m    764\u001B[0m \u001B[38;5;28;01mdef\u001B[39;00m \u001B[38;5;21mwait\u001B[39m(\u001B[38;5;28mself\u001B[39m, timeout\u001B[38;5;241m=\u001B[39m\u001B[38;5;28;01mNone\u001B[39;00m):\n\u001B[0;32m--> 765\u001B[0m     \u001B[38;5;28;43mself\u001B[39;49m\u001B[38;5;241;43m.\u001B[39;49m\u001B[43m_event\u001B[49m\u001B[38;5;241;43m.\u001B[39;49m\u001B[43mwait\u001B[49m\u001B[43m(\u001B[49m\u001B[43mtimeout\u001B[49m\u001B[43m)\u001B[49m\n",
      "File \u001B[0;32m/opt/homebrew/Caskroom/miniforge/base/envs/pathways2/lib/python3.11/threading.py:629\u001B[0m, in \u001B[0;36mEvent.wait\u001B[0;34m(self, timeout)\u001B[0m\n\u001B[1;32m    627\u001B[0m signaled \u001B[38;5;241m=\u001B[39m \u001B[38;5;28mself\u001B[39m\u001B[38;5;241m.\u001B[39m_flag\n\u001B[1;32m    628\u001B[0m \u001B[38;5;28;01mif\u001B[39;00m \u001B[38;5;129;01mnot\u001B[39;00m signaled:\n\u001B[0;32m--> 629\u001B[0m     signaled \u001B[38;5;241m=\u001B[39m \u001B[38;5;28;43mself\u001B[39;49m\u001B[38;5;241;43m.\u001B[39;49m\u001B[43m_cond\u001B[49m\u001B[38;5;241;43m.\u001B[39;49m\u001B[43mwait\u001B[49m\u001B[43m(\u001B[49m\u001B[43mtimeout\u001B[49m\u001B[43m)\u001B[49m\n\u001B[1;32m    630\u001B[0m \u001B[38;5;28;01mreturn\u001B[39;00m signaled\n",
      "File \u001B[0;32m/opt/homebrew/Caskroom/miniforge/base/envs/pathways2/lib/python3.11/threading.py:327\u001B[0m, in \u001B[0;36mCondition.wait\u001B[0;34m(self, timeout)\u001B[0m\n\u001B[1;32m    325\u001B[0m \u001B[38;5;28;01mtry\u001B[39;00m:    \u001B[38;5;66;03m# restore state no matter what (e.g., KeyboardInterrupt)\u001B[39;00m\n\u001B[1;32m    326\u001B[0m     \u001B[38;5;28;01mif\u001B[39;00m timeout \u001B[38;5;129;01mis\u001B[39;00m \u001B[38;5;28;01mNone\u001B[39;00m:\n\u001B[0;32m--> 327\u001B[0m         \u001B[43mwaiter\u001B[49m\u001B[38;5;241;43m.\u001B[39;49m\u001B[43macquire\u001B[49m\u001B[43m(\u001B[49m\u001B[43m)\u001B[49m\n\u001B[1;32m    328\u001B[0m         gotit \u001B[38;5;241m=\u001B[39m \u001B[38;5;28;01mTrue\u001B[39;00m\n\u001B[1;32m    329\u001B[0m     \u001B[38;5;28;01melse\u001B[39;00m:\n",
      "\u001B[0;31mKeyboardInterrupt\u001B[0m: "
     ]
    }
   ],
   "source": [
    "for scenario in [\n",
    "    # \"remind-SSP2-NPi-stem-SPS1.zip\",\n",
    "    \"remind-SSP2-PkBudg1150-stem-SPS1.zip\",\n",
    "    # \"remind-SSP2-PkBudg500-stem-SPS1.zip\",\n",
    "    # \"remind-SSP2-NPi-stem-SPS4.zip\",\n",
    "    # \"remind-SSP2-PkBudg1150-stem-SPS4.zip\",\n",
    "    # \"remind-SSP2-PkBudg500-stem-SPS4.zip\",\n",
    "]:\n",
    "    p = Pathways(datapackage=scenario, debug=True)\n",
    "    \n",
    "    p.calculate(\n",
    "        methods=[\n",
    "            'EF v3.1 EN15804 - climate change - global warming potential (GWP100)',\n",
    "            # 'EF v3.1 EN15804 - material resources: metals/minerals - abiotic depletion potential (ADP): elements (ultimate reserves)',\n",
    "            'EF v3.1 EN15804 - ecotoxicity: freshwater - comparative toxic unit for ecosystems (CTUe)',\n",
    "            # 'EF v3.1 EN15804 - land use - soil quality index',\n",
    "            # 'EF v3.1 EN15804 - water use - user deprivation potential (deprivation-weighted water consumption)',\n",
    "            'EF v3.1 EN15804 - particulate matter formation - impact on human health',\n",
    "\n",
    "            # 'ReCiPe 2016 v1.03, midpoint (H) - particulate matter formation - particulate matter formation potential (PMFP)',\n",
    "            # 'ReCiPe 2016 v1.03, midpoint (H) - ecotoxicity: freshwater - freshwater ecotoxicity potential (FETP)',\n",
    "            # 'ReCiPe 2016 v1.03, midpoint (H) - water use - water consumption potential (WCP)',\n",
    "            'Crustal Scarcity Indicator 2020 - material resources: metals/minerals - crustal scarcity potential (CSP)',\n",
    "            # 'Ecological Footprint - land occupation - global hectares',\n",
    "            \n",
    "            # 'selected LCI results - resource - land occupation',\n",
    "\n",
    "            # 'selected LCI results - air - NMVOC',\n",
    "            # 'selected LCI results - air - nitrogen oxides',\n",
    "            # 'selected LCI results - air - particulates, < 2.5 um',\n",
    "            # 'selected LCI results, additional - air - particulates, >2.5 um and <10',\n",
    "            # 'selected LCI results - air - sulphur dioxide',\n",
    "            \n",
    "            \n",
    "            \n",
    "            \n",
    "        ] \n",
    "        ,\n",
    "        regions=[\"CH\",],\n",
    "        scenarios=p.scenarios.pathway.values.tolist(),\n",
    "        variables=[v for v in p.scenarios.coords[\"variables\"].values if v.startswith(\"FE\")],\n",
    "        years=[\n",
    "            # 2020,\n",
    "            # 2025,\n",
    "            # 2030,\n",
    "            # 2040,\n",
    "            2050\n",
    "        ],\n",
    "        use_distributions=50,\n",
    "        subshares=True,\n",
    "        \n",
    "    )\n",
    "    # p.export_results()\n",
    "    #del p"
   ]
  },
  {
   "cell_type": "code",
   "execution_count": null,
   "id": "e12f1ccf-7b60-4775-b3f8-3b8a2c1ee8e6",
   "metadata": {},
   "outputs": [],
   "source": [
    "# 1100 seconds, for 1 scenario, 1 year, 10 iterations\n",
    "# XXXX seconds, for 1 scenario, 1 year, 100 iterations"
   ]
  },
  {
   "cell_type": "code",
   "execution_count": null,
   "id": "35060883-249d-422d-9438-5baf19edb824",
   "metadata": {},
   "outputs": [],
   "source": []
  },
  {
   "cell_type": "code",
   "execution_count": null,
   "id": "5a0fde2c-9341-444e-93a3-cfe190174de0",
   "metadata": {},
   "outputs": [],
   "source": []
  },
  {
   "cell_type": "code",
   "execution_count": null,
   "id": "d9f208a9-ab52-4cdc-a967-dda416b4c965",
   "metadata": {},
   "outputs": [],
   "source": []
  },
  {
   "cell_type": "code",
   "execution_count": null,
   "id": "5f30fe7e-e25e-482c-9119-81ced690fe11",
   "metadata": {},
   "outputs": [],
   "source": []
  },
  {
   "cell_type": "code",
   "execution_count": null,
   "id": "0fe35dce-ca67-483b-955e-f3182f1f4e8b",
   "metadata": {},
   "outputs": [],
   "source": []
  },
  {
   "cell_type": "code",
   "execution_count": null,
   "id": "bb873e60-af2e-47ee-8300-3dd1c69a4cec",
   "metadata": {},
   "outputs": [],
   "source": []
  },
  {
   "cell_type": "code",
   "execution_count": 3,
   "id": "ed9d2834-33c0-4a9d-a061-f88aefc255ae",
   "metadata": {},
   "outputs": [
    {
     "name": "stdout",
     "output_type": "stream",
     "text": [
      "Invalid datapackage: Descriptor validation error: {'path': 'mapping/mapping.yaml', 'profile': 'data-resource', 'name': 'mapping', 'format': 'yaml', 'mediatype': 'text/yaml', 'encoding': 'utf-8'} is not valid under any of the given schemas at \"resources/29\" in descriptor and at \"properties/resources/items/oneOf\" in profile\n",
      "Invalid datapackage: Descriptor validation error: 'data-resource' is not one of ['tabular-data-resource'] at \"resources/29/profile\" in descriptor and at \"properties/resources/items/properties/profile/enum\" in profile\n",
      "Log file: C:\\Users\\hahnme_a\\AppData\\Local\\pylca\\pathways\\Logs\\pathways.log\n",
      "Calculating LCA results for remind...\n",
      "--- Calculating LCA results for SSP2-NPi-SPS1...\n"
     ]
    },
    {
     "name": "stderr",
     "output_type": "stream",
     "text": [
      "0% [#] 100% | ETA: 00:00:00\n",
      "Total time elapsed: 00:00:00\n"
     ]
    },
    {
     "name": "stdout",
     "output_type": "stream",
     "text": [
      "CPU times: total: 1min 39s\n",
      "Wall time: 2min 9s\n"
     ]
    }
   ],
   "source": [
    "%%time\n",
    "for scenario in [\n",
    "    \"remind-SSP2-NPi-stem-SPS1.zip\",\n",
    "    # \"remind-SSP2-PkBudg1150-stem-SPS1.zip\",\n",
    "    # \"remind-SSP2-PkBudg500-stem-SPS1.zip\",\n",
    "    # \"remind-SSP2-NPi-stem-SPS4.zip\",\n",
    "    # \"remind-SSP2-PkBudg1150-stem-SPS4.zip\",\n",
    "    # \"remind-SSP2-PkBudg500-stem-SPS4.zip\",\n",
    "]:\n",
    "    p = Pathways(datapackage=scenario, debug=True)\n",
    "    \n",
    "    p.calculate(\n",
    "        methods=[\n",
    "            'EF v3.1 EN15804 - climate change - global warming potential (GWP100)',\n",
    "            'EF v3.1 EN15804 - material resources: metals/minerals - abiotic depletion potential (ADP): elements (ultimate reserves)',\n",
    "            'EF v3.1 EN15804 - ecotoxicity: freshwater - comparative toxic unit for ecosystems (CTUe)',\n",
    "            'EF v3.1 EN15804 - land use - soil quality index',\n",
    "            'EF v3.1 EN15804 - water use - user deprivation potential (deprivation-weighted water consumption)',\n",
    "            'EF v3.1 EN15804 - particulate matter formation - impact on human health',\n",
    "\n",
    "            'ReCiPe 2016 v1.03, midpoint (H) - particulate matter formation - particulate matter formation potential (PMFP)',\n",
    "            'ReCiPe 2016 v1.03, midpoint (H) - ecotoxicity: freshwater - freshwater ecotoxicity potential (FETP)',\n",
    "            'ReCiPe 2016 v1.03, midpoint (H) - water use - water consumption potential (WCP)',\n",
    "            'Crustal Scarcity Indicator 2020 - material resources: metals/minerals - crustal scarcity potential (CSP)',\n",
    "            'Ecological Footprint - land occupation - global hectares',\n",
    "            \n",
    "            'selected LCI results - resource - land occupation',\n",
    "\n",
    "            'selected LCI results - air - NMVOC',\n",
    "            'selected LCI results - air - nitrogen oxides',\n",
    "            'selected LCI results - air - particulates, < 2.5 um',\n",
    "            'selected LCI results, additional - air - particulates, >2.5 um and <10',\n",
    "            'selected LCI results - air - sulphur dioxide',\n",
    "            \n",
    "            \n",
    "            \n",
    "            \n",
    "        ] \n",
    "        ,\n",
    "        regions=[\"CH\",],\n",
    "        scenarios=p.scenarios.pathway.values.tolist(),\n",
    "        variables=[v for v in p.scenarios.coords[\"variables\"].values if v.startswith(\"FE\")],\n",
    "        years=[\n",
    "            # 2020,\n",
    "            # 2025,\n",
    "            2030,\n",
    "            # 2040,\n",
    "            # 2050\n",
    "        ],\n",
    "        use_distributions=0,\n",
    "        # subshares=True,\n",
    "        \n",
    "    )\n",
    "    # p.export_results()\n",
    "    del p"
   ]
  },
  {
   "cell_type": "code",
   "execution_count": null,
   "id": "c4fd8e17-bc08-4fcb-bbd8-084d5c883b56",
   "metadata": {},
   "outputs": [
    {
     "name": "stdout",
     "output_type": "stream",
     "text": [
      "Invalid datapackage: Descriptor validation error: {'path': 'mapping/mapping.yaml', 'profile': 'data-resource', 'name': 'mapping', 'format': 'yaml', 'mediatype': 'text/yaml', 'encoding': 'utf-8'} is not valid under any of the given schemas at \"resources/29\" in descriptor and at \"properties/resources/items/oneOf\" in profile\n",
      "Invalid datapackage: Descriptor validation error: 'data-resource' is not one of ['tabular-data-resource'] at \"resources/29/profile\" in descriptor and at \"properties/resources/items/properties/profile/enum\" in profile\n",
      "Log file: C:\\Users\\hahnme_a\\AppData\\Local\\pylca\\pathways\\Logs\\pathways.log\n",
      "Calculating LCA results for remind...\n",
      "--- Calculating LCA results for SSP2-NPi-SPS1...\n"
     ]
    }
   ],
   "source": [
    "%%time\n",
    "for scenario in [\n",
    "    \"remind-SSP2-NPi-stem-SPS1.zip\",\n",
    "    # \"remind-SSP2-PkBudg1150-stem-SPS1.zip\",\n",
    "    # \"remind-SSP2-PkBudg500-stem-SPS1.zip\",\n",
    "    # \"remind-SSP2-NPi-stem-SPS4.zip\",\n",
    "    # \"remind-SSP2-PkBudg1150-stem-SPS4.zip\",\n",
    "    # \"remind-SSP2-PkBudg500-stem-SPS4.zip\",\n",
    "]:\n",
    "    p = Pathways(datapackage=scenario, debug=True)\n",
    "    \n",
    "    p.calculate(\n",
    "        methods=[\n",
    "            'EF v3.1 EN15804 - climate change - global warming potential (GWP100)',\n",
    "            'EF v3.1 EN15804 - material resources: metals/minerals - abiotic depletion potential (ADP): elements (ultimate reserves)',\n",
    "            'EF v3.1 EN15804 - ecotoxicity: freshwater - comparative toxic unit for ecosystems (CTUe)',\n",
    "            'EF v3.1 EN15804 - land use - soil quality index',\n",
    "            'EF v3.1 EN15804 - water use - user deprivation potential (deprivation-weighted water consumption)',\n",
    "            'EF v3.1 EN15804 - particulate matter formation - impact on human health',\n",
    "\n",
    "            'ReCiPe 2016 v1.03, midpoint (H) - particulate matter formation - particulate matter formation potential (PMFP)',\n",
    "            'ReCiPe 2016 v1.03, midpoint (H) - ecotoxicity: freshwater - freshwater ecotoxicity potential (FETP)',\n",
    "            'ReCiPe 2016 v1.03, midpoint (H) - water use - water consumption potential (WCP)',\n",
    "            'Crustal Scarcity Indicator 2020 - material resources: metals/minerals - crustal scarcity potential (CSP)',\n",
    "            'Ecological Footprint - land occupation - global hectares',\n",
    "            \n",
    "            'selected LCI results - resource - land occupation',\n",
    "\n",
    "            'selected LCI results - air - NMVOC',\n",
    "            'selected LCI results - air - nitrogen oxides',\n",
    "            'selected LCI results - air - particulates, < 2.5 um',\n",
    "            'selected LCI results, additional - air - particulates, >2.5 um and <10',\n",
    "            'selected LCI results - air - sulphur dioxide',\n",
    "            \n",
    "            \n",
    "            \n",
    "            \n",
    "        ] \n",
    "        ,\n",
    "        regions=[\"CH\",],\n",
    "        scenarios=p.scenarios.pathway.values.tolist(),\n",
    "        variables=[v for v in p.scenarios.coords[\"variables\"].values if v.startswith(\"FE\")],\n",
    "        years=[\n",
    "            # 2020,\n",
    "            # 2025,\n",
    "            2030,\n",
    "            # 2040,\n",
    "            # 2050\n",
    "        ],\n",
    "        use_distributions=10,\n",
    "        # subshares=True,\n",
    "        \n",
    "    )\n",
    "    # p.export_results()\n",
    "    del p"
   ]
  },
  {
   "cell_type": "code",
   "execution_count": null,
   "id": "9b242f93-bf7a-45e7-8f8a-a0e6747497ad",
   "metadata": {},
   "outputs": [],
   "source": []
  }
 ],
 "metadata": {
  "kernelspec": {
   "display_name": "Python 3 (ipykernel)",
   "language": "python",
   "name": "python3"
  },
  "language_info": {
   "codemirror_mode": {
    "name": "ipython",
    "version": 3
   },
   "file_extension": ".py",
   "mimetype": "text/x-python",
   "name": "python",
   "nbconvert_exporter": "python",
   "pygments_lexer": "ipython3",
   "version": "3.11.9"
  }
 },
 "nbformat": 4,
 "nbformat_minor": 5
}
