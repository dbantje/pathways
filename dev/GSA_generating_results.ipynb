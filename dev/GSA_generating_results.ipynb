{
 "cells": [
  {
   "attachments": {},
   "cell_type": "markdown",
   "id": "d4d6fd0c-d89e-4eb1-b600-e856d8792c23",
   "metadata": {},
   "source": [
    "# *pathways*. Global sensitivity analysis application"
   ]
  },
  {
   "attachments": {},
   "cell_type": "markdown",
   "id": "fbd14d90-fd34-4eed-98c5-30ecd96aad9b",
   "metadata": {},
   "source": [
    "This notebook contains the code necessary to generate the results shown in the publication *\"Exploring uncertainties in the material-energy nexus for net zero transition scenarios\"* "
   ]
  },
  {
   "cell_type": "markdown",
   "id": "7f3485b4-cc75-420a-99bb-0e08e56f11e2",
   "metadata": {},
   "source": [
    "Data packages were generated using *premise*, and can be found in this folder."
   ]
  },
  {
   "cell_type": "markdown",
   "id": "2b3e00b7-c833-4a69-9fc0-8d72c34d066c",
   "metadata": {},
   "source": [
    "Contact:\n",
    "\n",
    "- romain.sacchi@psi.ch\n",
    "- alvaro.hahn-menacho@psi.ch"
   ]
  },
  {
   "cell_type": "markdown",
   "id": "8dcd2491-5f92-4980-95ad-3e7fe86cfe3d",
   "metadata": {},
   "source": [
    "## Import *pathways* and other necessary modules"
   ]
  },
  {
   "cell_type": "code",
   "execution_count": 1,
   "id": "45ac9b05-1e2a-4839-afed-4edae65d9d8f",
   "metadata": {
    "jupyter": {
     "is_executing": true
    }
   },
   "outputs": [
    {
     "name": "stdout",
     "output_type": "stream",
     "text": [
      "UMFPACK\n"
     ]
    }
   ],
   "source": [
    "from pathways import Pathways"
   ]
  },
  {
   "cell_type": "code",
   "execution_count": 2,
   "id": "9529213a-ed56-4c73-b08c-69198462ebe8",
   "metadata": {},
   "outputs": [],
   "source": [
    "import numpy as np\n",
    "import xarray as xr\n",
    "import numpy as np\n",
    "import pandas as pd\n",
    "from pathlib import Path"
   ]
  },
  {
   "cell_type": "markdown",
   "id": "e9b0b415-b734-4891-8781-92f17dd17442",
   "metadata": {},
   "source": [
    "## Set calculation parameters and export as .gzip"
   ]
  },
  {
   "cell_type": "code",
   "execution_count": null,
   "id": "78d0ad42-1964-4686-8bd2-179b4c7c87bf",
   "metadata": {},
   "outputs": [
    {
     "name": "stdout",
     "output_type": "stream",
     "text": [
      "Invalid datapackage: Descriptor validation error: {'path': 'mapping/mapping.yaml', 'profile': 'data-resource', 'name': 'mapping', 'format': 'yaml', 'mediatype': 'text/yaml', 'encoding': 'utf-8'} is not valid under any of the given schemas at \"resources/29\" in descriptor and at \"properties/resources/items/oneOf\" in profile\n",
      "Invalid datapackage: Descriptor validation error: 'data-resource' is not one of ['tabular-data-resource'] at \"resources/29/profile\" in descriptor and at \"properties/resources/items/properties/profile/enum\" in profile\n",
      "Log file: C:\\Users\\hahnme_a\\AppData\\Local\\pylca\\pathways\\Logs\\pathways.log\n",
      "Calculating LCA results for remind...\n",
      "--- Calculating LCA results for SSP2-PkBudg1150-SPS1...\n"
     ]
    }
   ],
   "source": [
    "for scenario in [\n",
    "    # \"remind-SSP2-NPi-stem-SPS1.zip\",\n",
    "    \"remind-SSP2-PkBudg1150-stem-SPS1.zip\",\n",
    "    # \"remind-SSP2-PkBudg500-stem-SPS1.zip\",\n",
    "    # \"remind-SSP2-NPi-stem-SPS4.zip\",\n",
    "    # \"remind-SSP2-PkBudg1150-stem-SPS4.zip\",\n",
    "    # \"remind-SSP2-PkBudg500-stem-SPS4.zip\",\n",
    "]:\n",
    "    p = Pathways(datapackage=scenario, debug=True)\n",
    "    \n",
    "    p.calculate(\n",
    "        methods=[\n",
    "            'EF v3.1 EN15804 - climate change - global warming potential (GWP100)',\n",
    "            # 'EF v3.1 EN15804 - material resources: metals/minerals - abiotic depletion potential (ADP): elements (ultimate reserves)',\n",
    "            'EF v3.1 EN15804 - ecotoxicity: freshwater - comparative toxic unit for ecosystems (CTUe)',\n",
    "            # 'EF v3.1 EN15804 - land use - soil quality index',\n",
    "            # 'EF v3.1 EN15804 - water use - user deprivation potential (deprivation-weighted water consumption)',\n",
    "            'EF v3.1 EN15804 - particulate matter formation - impact on human health',\n",
    "\n",
    "            # 'ReCiPe 2016 v1.03, midpoint (H) - particulate matter formation - particulate matter formation potential (PMFP)',\n",
    "            # 'ReCiPe 2016 v1.03, midpoint (H) - ecotoxicity: freshwater - freshwater ecotoxicity potential (FETP)',\n",
    "            # 'ReCiPe 2016 v1.03, midpoint (H) - water use - water consumption potential (WCP)',\n",
    "            'Crustal Scarcity Indicator 2020 - material resources: metals/minerals - crustal scarcity potential (CSP)',\n",
    "            # 'Ecological Footprint - land occupation - global hectares',\n",
    "            \n",
    "            # 'selected LCI results - resource - land occupation',\n",
    "\n",
    "            # 'selected LCI results - air - NMVOC',\n",
    "            # 'selected LCI results - air - nitrogen oxides',\n",
    "            # 'selected LCI results - air - particulates, < 2.5 um',\n",
    "            # 'selected LCI results, additional - air - particulates, >2.5 um and <10',\n",
    "            # 'selected LCI results - air - sulphur dioxide',\n",
    "            \n",
    "            \n",
    "            \n",
    "            \n",
    "        ] \n",
    "        ,\n",
    "        regions=[\"CH\",],\n",
    "        scenarios=p.scenarios.pathway.values.tolist(),\n",
    "        variables=[v for v in p.scenarios.coords[\"variables\"].values if v.startswith(\"FE\")],\n",
    "        years=[\n",
    "            # 2020,\n",
    "            # 2025,\n",
    "            # 2030,\n",
    "            # 2040,\n",
    "            2050\n",
    "        ],\n",
    "        use_distributions=50,\n",
    "        subshares=True,\n",
    "        \n",
    "    )\n",
    "    # p.export_results()\n",
    "    del p"
   ]
  },
  {
   "cell_type": "code",
   "execution_count": null,
   "id": "e12f1ccf-7b60-4775-b3f8-3b8a2c1ee8e6",
   "metadata": {},
   "outputs": [],
   "source": [
    "# 1100 seconds, for 1 scenario, 1 year, 10 iterations\n",
    "# XXXX seconds, for 1 scenario, 1 year, 100 iterations"
   ]
  },
  {
   "cell_type": "code",
   "execution_count": null,
   "id": "35060883-249d-422d-9438-5baf19edb824",
   "metadata": {},
   "outputs": [],
   "source": []
  },
  {
   "cell_type": "code",
   "execution_count": null,
   "id": "5a0fde2c-9341-444e-93a3-cfe190174de0",
   "metadata": {},
   "outputs": [],
   "source": []
  },
  {
   "cell_type": "code",
   "execution_count": null,
   "id": "d9f208a9-ab52-4cdc-a967-dda416b4c965",
   "metadata": {},
   "outputs": [],
   "source": []
  },
  {
   "cell_type": "code",
   "execution_count": null,
   "id": "5f30fe7e-e25e-482c-9119-81ced690fe11",
   "metadata": {},
   "outputs": [],
   "source": []
  },
  {
   "cell_type": "code",
   "execution_count": null,
   "id": "0fe35dce-ca67-483b-955e-f3182f1f4e8b",
   "metadata": {},
   "outputs": [],
   "source": []
  },
  {
   "cell_type": "code",
   "execution_count": null,
   "id": "bb873e60-af2e-47ee-8300-3dd1c69a4cec",
   "metadata": {},
   "outputs": [],
   "source": []
  },
  {
   "cell_type": "code",
   "execution_count": 3,
   "id": "ed9d2834-33c0-4a9d-a061-f88aefc255ae",
   "metadata": {},
   "outputs": [
    {
     "name": "stdout",
     "output_type": "stream",
     "text": [
      "Invalid datapackage: Descriptor validation error: {'path': 'mapping/mapping.yaml', 'profile': 'data-resource', 'name': 'mapping', 'format': 'yaml', 'mediatype': 'text/yaml', 'encoding': 'utf-8'} is not valid under any of the given schemas at \"resources/29\" in descriptor and at \"properties/resources/items/oneOf\" in profile\n",
      "Invalid datapackage: Descriptor validation error: 'data-resource' is not one of ['tabular-data-resource'] at \"resources/29/profile\" in descriptor and at \"properties/resources/items/properties/profile/enum\" in profile\n",
      "Log file: C:\\Users\\hahnme_a\\AppData\\Local\\pylca\\pathways\\Logs\\pathways.log\n",
      "Calculating LCA results for remind...\n",
      "--- Calculating LCA results for SSP2-NPi-SPS1...\n"
     ]
    },
    {
     "name": "stderr",
     "output_type": "stream",
     "text": [
      "0% [#] 100% | ETA: 00:00:00\n",
      "Total time elapsed: 00:00:00\n"
     ]
    },
    {
     "name": "stdout",
     "output_type": "stream",
     "text": [
      "CPU times: total: 1min 39s\n",
      "Wall time: 2min 9s\n"
     ]
    }
   ],
   "source": [
    "%%time\n",
    "for scenario in [\n",
    "    \"remind-SSP2-NPi-stem-SPS1.zip\",\n",
    "    # \"remind-SSP2-PkBudg1150-stem-SPS1.zip\",\n",
    "    # \"remind-SSP2-PkBudg500-stem-SPS1.zip\",\n",
    "    # \"remind-SSP2-NPi-stem-SPS4.zip\",\n",
    "    # \"remind-SSP2-PkBudg1150-stem-SPS4.zip\",\n",
    "    # \"remind-SSP2-PkBudg500-stem-SPS4.zip\",\n",
    "]:\n",
    "    p = Pathways(datapackage=scenario, debug=True)\n",
    "    \n",
    "    p.calculate(\n",
    "        methods=[\n",
    "            'EF v3.1 EN15804 - climate change - global warming potential (GWP100)',\n",
    "            'EF v3.1 EN15804 - material resources: metals/minerals - abiotic depletion potential (ADP): elements (ultimate reserves)',\n",
    "            'EF v3.1 EN15804 - ecotoxicity: freshwater - comparative toxic unit for ecosystems (CTUe)',\n",
    "            'EF v3.1 EN15804 - land use - soil quality index',\n",
    "            'EF v3.1 EN15804 - water use - user deprivation potential (deprivation-weighted water consumption)',\n",
    "            'EF v3.1 EN15804 - particulate matter formation - impact on human health',\n",
    "\n",
    "            'ReCiPe 2016 v1.03, midpoint (H) - particulate matter formation - particulate matter formation potential (PMFP)',\n",
    "            'ReCiPe 2016 v1.03, midpoint (H) - ecotoxicity: freshwater - freshwater ecotoxicity potential (FETP)',\n",
    "            'ReCiPe 2016 v1.03, midpoint (H) - water use - water consumption potential (WCP)',\n",
    "            'Crustal Scarcity Indicator 2020 - material resources: metals/minerals - crustal scarcity potential (CSP)',\n",
    "            'Ecological Footprint - land occupation - global hectares',\n",
    "            \n",
    "            'selected LCI results - resource - land occupation',\n",
    "\n",
    "            'selected LCI results - air - NMVOC',\n",
    "            'selected LCI results - air - nitrogen oxides',\n",
    "            'selected LCI results - air - particulates, < 2.5 um',\n",
    "            'selected LCI results, additional - air - particulates, >2.5 um and <10',\n",
    "            'selected LCI results - air - sulphur dioxide',\n",
    "            \n",
    "            \n",
    "            \n",
    "            \n",
    "        ] \n",
    "        ,\n",
    "        regions=[\"CH\",],\n",
    "        scenarios=p.scenarios.pathway.values.tolist(),\n",
    "        variables=[v for v in p.scenarios.coords[\"variables\"].values if v.startswith(\"FE\")],\n",
    "        years=[\n",
    "            # 2020,\n",
    "            # 2025,\n",
    "            2030,\n",
    "            # 2040,\n",
    "            # 2050\n",
    "        ],\n",
    "        use_distributions=0,\n",
    "        # subshares=True,\n",
    "        \n",
    "    )\n",
    "    # p.export_results()\n",
    "    del p"
   ]
  },
  {
   "cell_type": "code",
   "execution_count": null,
   "id": "c4fd8e17-bc08-4fcb-bbd8-084d5c883b56",
   "metadata": {},
   "outputs": [
    {
     "name": "stdout",
     "output_type": "stream",
     "text": [
      "Invalid datapackage: Descriptor validation error: {'path': 'mapping/mapping.yaml', 'profile': 'data-resource', 'name': 'mapping', 'format': 'yaml', 'mediatype': 'text/yaml', 'encoding': 'utf-8'} is not valid under any of the given schemas at \"resources/29\" in descriptor and at \"properties/resources/items/oneOf\" in profile\n",
      "Invalid datapackage: Descriptor validation error: 'data-resource' is not one of ['tabular-data-resource'] at \"resources/29/profile\" in descriptor and at \"properties/resources/items/properties/profile/enum\" in profile\n",
      "Log file: C:\\Users\\hahnme_a\\AppData\\Local\\pylca\\pathways\\Logs\\pathways.log\n",
      "Calculating LCA results for remind...\n",
      "--- Calculating LCA results for SSP2-NPi-SPS1...\n"
     ]
    }
   ],
   "source": [
    "%%time\n",
    "for scenario in [\n",
    "    \"remind-SSP2-NPi-stem-SPS1.zip\",\n",
    "    # \"remind-SSP2-PkBudg1150-stem-SPS1.zip\",\n",
    "    # \"remind-SSP2-PkBudg500-stem-SPS1.zip\",\n",
    "    # \"remind-SSP2-NPi-stem-SPS4.zip\",\n",
    "    # \"remind-SSP2-PkBudg1150-stem-SPS4.zip\",\n",
    "    # \"remind-SSP2-PkBudg500-stem-SPS4.zip\",\n",
    "]:\n",
    "    p = Pathways(datapackage=scenario, debug=True)\n",
    "    \n",
    "    p.calculate(\n",
    "        methods=[\n",
    "            'EF v3.1 EN15804 - climate change - global warming potential (GWP100)',\n",
    "            'EF v3.1 EN15804 - material resources: metals/minerals - abiotic depletion potential (ADP): elements (ultimate reserves)',\n",
    "            'EF v3.1 EN15804 - ecotoxicity: freshwater - comparative toxic unit for ecosystems (CTUe)',\n",
    "            'EF v3.1 EN15804 - land use - soil quality index',\n",
    "            'EF v3.1 EN15804 - water use - user deprivation potential (deprivation-weighted water consumption)',\n",
    "            'EF v3.1 EN15804 - particulate matter formation - impact on human health',\n",
    "\n",
    "            'ReCiPe 2016 v1.03, midpoint (H) - particulate matter formation - particulate matter formation potential (PMFP)',\n",
    "            'ReCiPe 2016 v1.03, midpoint (H) - ecotoxicity: freshwater - freshwater ecotoxicity potential (FETP)',\n",
    "            'ReCiPe 2016 v1.03, midpoint (H) - water use - water consumption potential (WCP)',\n",
    "            'Crustal Scarcity Indicator 2020 - material resources: metals/minerals - crustal scarcity potential (CSP)',\n",
    "            'Ecological Footprint - land occupation - global hectares',\n",
    "            \n",
    "            'selected LCI results - resource - land occupation',\n",
    "\n",
    "            'selected LCI results - air - NMVOC',\n",
    "            'selected LCI results - air - nitrogen oxides',\n",
    "            'selected LCI results - air - particulates, < 2.5 um',\n",
    "            'selected LCI results, additional - air - particulates, >2.5 um and <10',\n",
    "            'selected LCI results - air - sulphur dioxide',\n",
    "            \n",
    "            \n",
    "            \n",
    "            \n",
    "        ] \n",
    "        ,\n",
    "        regions=[\"CH\",],\n",
    "        scenarios=p.scenarios.pathway.values.tolist(),\n",
    "        variables=[v for v in p.scenarios.coords[\"variables\"].values if v.startswith(\"FE\")],\n",
    "        years=[\n",
    "            # 2020,\n",
    "            # 2025,\n",
    "            2030,\n",
    "            # 2040,\n",
    "            # 2050\n",
    "        ],\n",
    "        use_distributions=10,\n",
    "        # subshares=True,\n",
    "        \n",
    "    )\n",
    "    # p.export_results()\n",
    "    del p"
   ]
  },
  {
   "cell_type": "code",
   "execution_count": null,
   "id": "9b242f93-bf7a-45e7-8f8a-a0e6747497ad",
   "metadata": {},
   "outputs": [],
   "source": []
  }
 ],
 "metadata": {
  "kernelspec": {
   "display_name": "Python 3 (ipykernel)",
   "language": "python",
   "name": "python3"
  },
  "language_info": {
   "codemirror_mode": {
    "name": "ipython",
    "version": 3
   },
   "file_extension": ".py",
   "mimetype": "text/x-python",
   "name": "python",
   "nbconvert_exporter": "python",
   "pygments_lexer": "ipython3",
   "version": "3.11.8"
  }
 },
 "nbformat": 4,
 "nbformat_minor": 5
}
